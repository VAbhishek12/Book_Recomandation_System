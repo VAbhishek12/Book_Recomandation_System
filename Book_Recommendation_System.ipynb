{
  "cells": [
    {
      "cell_type": "markdown",
      "metadata": {
        "id": "view-in-github",
        "colab_type": "text"
      },
      "source": [
        "<a href=\"https://colab.research.google.com/github/VAbhishek12/Book_Recomandation_System/blob/main/Book_Recommendation_System.ipynb\" target=\"_parent\"><img src=\"https://colab.research.google.com/assets/colab-badge.svg\" alt=\"Open In Colab\"/></a>"
      ]
    },
    {
      "cell_type": "code",
      "execution_count": null,
      "id": "14704ef4",
      "metadata": {
        "id": "14704ef4"
      },
      "outputs": [],
      "source": [
        "import pandas as pd\n",
        "import seaborn as sns\n",
        "import matplotlib.pyplot as plt\n",
        "import warnings\n",
        "import numpy as np\n",
        "# warnings.filterwarnings('ignore')"
      ]
    },
    {
      "cell_type": "code",
      "execution_count": null,
      "id": "f12fb97a",
      "metadata": {
        "id": "f12fb97a"
      },
      "outputs": [],
      "source": [
        "books = pd.read_csv('Books (1).csv', encoding='latin-1', low_memory=False)\n",
        "users = pd.read_csv('Users (1).csv', encoding='latin-1', low_memory=False)\n",
        "ratings = pd.read_csv('Ratings (1).csv', encoding='latin-1', low_memory=False)"
      ]
    },
    {
      "cell_type": "code",
      "execution_count": null,
      "id": "df4b9d66",
      "metadata": {
        "scrolled": true,
        "id": "df4b9d66",
        "outputId": "e7b505ca-018c-4bfb-d270-33481d0fb3f3"
      },
      "outputs": [
        {
          "data": {
            "text/html": [
              "<div>\n",
              "<style scoped>\n",
              "    .dataframe tbody tr th:only-of-type {\n",
              "        vertical-align: middle;\n",
              "    }\n",
              "\n",
              "    .dataframe tbody tr th {\n",
              "        vertical-align: top;\n",
              "    }\n",
              "\n",
              "    .dataframe thead th {\n",
              "        text-align: right;\n",
              "    }\n",
              "</style>\n",
              "<table border=\"1\" class=\"dataframe\">\n",
              "  <thead>\n",
              "    <tr style=\"text-align: right;\">\n",
              "      <th></th>\n",
              "      <th>ISBN</th>\n",
              "      <th>Book-Title</th>\n",
              "      <th>Book-Author</th>\n",
              "      <th>Year-Of-Publication</th>\n",
              "      <th>Publisher</th>\n",
              "      <th>Image-URL-S</th>\n",
              "      <th>Image-URL-M</th>\n",
              "      <th>Image-URL-L</th>\n",
              "    </tr>\n",
              "  </thead>\n",
              "  <tbody>\n",
              "    <tr>\n",
              "      <th>0</th>\n",
              "      <td>0195153448</td>\n",
              "      <td>Classical Mythology</td>\n",
              "      <td>Mark P. O. Morford</td>\n",
              "      <td>2002</td>\n",
              "      <td>Oxford University Press</td>\n",
              "      <td>http://images.amazon.com/images/P/0195153448.0...</td>\n",
              "      <td>http://images.amazon.com/images/P/0195153448.0...</td>\n",
              "      <td>http://images.amazon.com/images/P/0195153448.0...</td>\n",
              "    </tr>\n",
              "    <tr>\n",
              "      <th>1</th>\n",
              "      <td>0002005018</td>\n",
              "      <td>Clara Callan</td>\n",
              "      <td>Richard Bruce Wright</td>\n",
              "      <td>2001</td>\n",
              "      <td>HarperFlamingo Canada</td>\n",
              "      <td>http://images.amazon.com/images/P/0002005018.0...</td>\n",
              "      <td>http://images.amazon.com/images/P/0002005018.0...</td>\n",
              "      <td>http://images.amazon.com/images/P/0002005018.0...</td>\n",
              "    </tr>\n",
              "    <tr>\n",
              "      <th>2</th>\n",
              "      <td>0060973129</td>\n",
              "      <td>Decision in Normandy</td>\n",
              "      <td>Carlo D'Este</td>\n",
              "      <td>1991</td>\n",
              "      <td>HarperPerennial</td>\n",
              "      <td>http://images.amazon.com/images/P/0060973129.0...</td>\n",
              "      <td>http://images.amazon.com/images/P/0060973129.0...</td>\n",
              "      <td>http://images.amazon.com/images/P/0060973129.0...</td>\n",
              "    </tr>\n",
              "    <tr>\n",
              "      <th>3</th>\n",
              "      <td>0374157065</td>\n",
              "      <td>Flu: The Story of the Great Influenza Pandemic...</td>\n",
              "      <td>Gina Bari Kolata</td>\n",
              "      <td>1999</td>\n",
              "      <td>Farrar Straus Giroux</td>\n",
              "      <td>http://images.amazon.com/images/P/0374157065.0...</td>\n",
              "      <td>http://images.amazon.com/images/P/0374157065.0...</td>\n",
              "      <td>http://images.amazon.com/images/P/0374157065.0...</td>\n",
              "    </tr>\n",
              "    <tr>\n",
              "      <th>4</th>\n",
              "      <td>0393045218</td>\n",
              "      <td>The Mummies of Urumchi</td>\n",
              "      <td>E. J. W. Barber</td>\n",
              "      <td>1999</td>\n",
              "      <td>W. W. Norton &amp;amp; Company</td>\n",
              "      <td>http://images.amazon.com/images/P/0393045218.0...</td>\n",
              "      <td>http://images.amazon.com/images/P/0393045218.0...</td>\n",
              "      <td>http://images.amazon.com/images/P/0393045218.0...</td>\n",
              "    </tr>\n",
              "    <tr>\n",
              "      <th>...</th>\n",
              "      <td>...</td>\n",
              "      <td>...</td>\n",
              "      <td>...</td>\n",
              "      <td>...</td>\n",
              "      <td>...</td>\n",
              "      <td>...</td>\n",
              "      <td>...</td>\n",
              "      <td>...</td>\n",
              "    </tr>\n",
              "    <tr>\n",
              "      <th>271355</th>\n",
              "      <td>0440400988</td>\n",
              "      <td>There's a Bat in Bunk Five</td>\n",
              "      <td>Paula Danziger</td>\n",
              "      <td>1988</td>\n",
              "      <td>Random House Childrens Pub (Mm)</td>\n",
              "      <td>http://images.amazon.com/images/P/0440400988.0...</td>\n",
              "      <td>http://images.amazon.com/images/P/0440400988.0...</td>\n",
              "      <td>http://images.amazon.com/images/P/0440400988.0...</td>\n",
              "    </tr>\n",
              "    <tr>\n",
              "      <th>271356</th>\n",
              "      <td>0525447644</td>\n",
              "      <td>From One to One Hundred</td>\n",
              "      <td>Teri Sloat</td>\n",
              "      <td>1991</td>\n",
              "      <td>Dutton Books</td>\n",
              "      <td>http://images.amazon.com/images/P/0525447644.0...</td>\n",
              "      <td>http://images.amazon.com/images/P/0525447644.0...</td>\n",
              "      <td>http://images.amazon.com/images/P/0525447644.0...</td>\n",
              "    </tr>\n",
              "    <tr>\n",
              "      <th>271357</th>\n",
              "      <td>006008667X</td>\n",
              "      <td>Lily Dale : The True Story of the Town that Ta...</td>\n",
              "      <td>Christine Wicker</td>\n",
              "      <td>2004</td>\n",
              "      <td>HarperSanFrancisco</td>\n",
              "      <td>http://images.amazon.com/images/P/006008667X.0...</td>\n",
              "      <td>http://images.amazon.com/images/P/006008667X.0...</td>\n",
              "      <td>http://images.amazon.com/images/P/006008667X.0...</td>\n",
              "    </tr>\n",
              "    <tr>\n",
              "      <th>271358</th>\n",
              "      <td>0192126040</td>\n",
              "      <td>Republic (World's Classics)</td>\n",
              "      <td>Plato</td>\n",
              "      <td>1996</td>\n",
              "      <td>Oxford University Press</td>\n",
              "      <td>http://images.amazon.com/images/P/0192126040.0...</td>\n",
              "      <td>http://images.amazon.com/images/P/0192126040.0...</td>\n",
              "      <td>http://images.amazon.com/images/P/0192126040.0...</td>\n",
              "    </tr>\n",
              "    <tr>\n",
              "      <th>271359</th>\n",
              "      <td>0767409752</td>\n",
              "      <td>A Guided Tour of Rene Descartes' Meditations o...</td>\n",
              "      <td>Christopher  Biffle</td>\n",
              "      <td>2000</td>\n",
              "      <td>McGraw-Hill Humanities/Social Sciences/Languages</td>\n",
              "      <td>http://images.amazon.com/images/P/0767409752.0...</td>\n",
              "      <td>http://images.amazon.com/images/P/0767409752.0...</td>\n",
              "      <td>http://images.amazon.com/images/P/0767409752.0...</td>\n",
              "    </tr>\n",
              "  </tbody>\n",
              "</table>\n",
              "<p>271360 rows × 8 columns</p>\n",
              "</div>"
            ],
            "text/plain": [
              "              ISBN                                         Book-Title  \\\n",
              "0       0195153448                                Classical Mythology   \n",
              "1       0002005018                                       Clara Callan   \n",
              "2       0060973129                               Decision in Normandy   \n",
              "3       0374157065  Flu: The Story of the Great Influenza Pandemic...   \n",
              "4       0393045218                             The Mummies of Urumchi   \n",
              "...            ...                                                ...   \n",
              "271355  0440400988                         There's a Bat in Bunk Five   \n",
              "271356  0525447644                            From One to One Hundred   \n",
              "271357  006008667X  Lily Dale : The True Story of the Town that Ta...   \n",
              "271358  0192126040                        Republic (World's Classics)   \n",
              "271359  0767409752  A Guided Tour of Rene Descartes' Meditations o...   \n",
              "\n",
              "                 Book-Author Year-Of-Publication  \\\n",
              "0         Mark P. O. Morford                2002   \n",
              "1       Richard Bruce Wright                2001   \n",
              "2               Carlo D'Este                1991   \n",
              "3           Gina Bari Kolata                1999   \n",
              "4            E. J. W. Barber                1999   \n",
              "...                      ...                 ...   \n",
              "271355        Paula Danziger                1988   \n",
              "271356            Teri Sloat                1991   \n",
              "271357      Christine Wicker                2004   \n",
              "271358                 Plato                1996   \n",
              "271359   Christopher  Biffle                2000   \n",
              "\n",
              "                                               Publisher  \\\n",
              "0                                Oxford University Press   \n",
              "1                                  HarperFlamingo Canada   \n",
              "2                                        HarperPerennial   \n",
              "3                                   Farrar Straus Giroux   \n",
              "4                             W. W. Norton &amp; Company   \n",
              "...                                                  ...   \n",
              "271355                   Random House Childrens Pub (Mm)   \n",
              "271356                                      Dutton Books   \n",
              "271357                                HarperSanFrancisco   \n",
              "271358                           Oxford University Press   \n",
              "271359  McGraw-Hill Humanities/Social Sciences/Languages   \n",
              "\n",
              "                                              Image-URL-S  \\\n",
              "0       http://images.amazon.com/images/P/0195153448.0...   \n",
              "1       http://images.amazon.com/images/P/0002005018.0...   \n",
              "2       http://images.amazon.com/images/P/0060973129.0...   \n",
              "3       http://images.amazon.com/images/P/0374157065.0...   \n",
              "4       http://images.amazon.com/images/P/0393045218.0...   \n",
              "...                                                   ...   \n",
              "271355  http://images.amazon.com/images/P/0440400988.0...   \n",
              "271356  http://images.amazon.com/images/P/0525447644.0...   \n",
              "271357  http://images.amazon.com/images/P/006008667X.0...   \n",
              "271358  http://images.amazon.com/images/P/0192126040.0...   \n",
              "271359  http://images.amazon.com/images/P/0767409752.0...   \n",
              "\n",
              "                                              Image-URL-M  \\\n",
              "0       http://images.amazon.com/images/P/0195153448.0...   \n",
              "1       http://images.amazon.com/images/P/0002005018.0...   \n",
              "2       http://images.amazon.com/images/P/0060973129.0...   \n",
              "3       http://images.amazon.com/images/P/0374157065.0...   \n",
              "4       http://images.amazon.com/images/P/0393045218.0...   \n",
              "...                                                   ...   \n",
              "271355  http://images.amazon.com/images/P/0440400988.0...   \n",
              "271356  http://images.amazon.com/images/P/0525447644.0...   \n",
              "271357  http://images.amazon.com/images/P/006008667X.0...   \n",
              "271358  http://images.amazon.com/images/P/0192126040.0...   \n",
              "271359  http://images.amazon.com/images/P/0767409752.0...   \n",
              "\n",
              "                                              Image-URL-L  \n",
              "0       http://images.amazon.com/images/P/0195153448.0...  \n",
              "1       http://images.amazon.com/images/P/0002005018.0...  \n",
              "2       http://images.amazon.com/images/P/0060973129.0...  \n",
              "3       http://images.amazon.com/images/P/0374157065.0...  \n",
              "4       http://images.amazon.com/images/P/0393045218.0...  \n",
              "...                                                   ...  \n",
              "271355  http://images.amazon.com/images/P/0440400988.0...  \n",
              "271356  http://images.amazon.com/images/P/0525447644.0...  \n",
              "271357  http://images.amazon.com/images/P/006008667X.0...  \n",
              "271358  http://images.amazon.com/images/P/0192126040.0...  \n",
              "271359  http://images.amazon.com/images/P/0767409752.0...  \n",
              "\n",
              "[271360 rows x 8 columns]"
            ]
          },
          "execution_count": 3,
          "metadata": {},
          "output_type": "execute_result"
        }
      ],
      "source": [
        "books"
      ]
    },
    {
      "cell_type": "code",
      "execution_count": null,
      "id": "fa7e3131",
      "metadata": {
        "id": "fa7e3131",
        "outputId": "fa0e62a4-0dd8-4e72-b104-43f333849606"
      },
      "outputs": [
        {
          "data": {
            "text/plain": [
              "ISBN                   271360\n",
              "Book-Title             242135\n",
              "Book-Author            102022\n",
              "Year-Of-Publication       118\n",
              "Publisher               16807\n",
              "Image-URL-S            271044\n",
              "Image-URL-M            271044\n",
              "Image-URL-L            271041\n",
              "dtype: int64"
            ]
          },
          "execution_count": 4,
          "metadata": {},
          "output_type": "execute_result"
        }
      ],
      "source": [
        "books.nunique()"
      ]
    },
    {
      "cell_type": "code",
      "execution_count": null,
      "id": "5d10c1b3",
      "metadata": {
        "id": "5d10c1b3",
        "outputId": "afeaa3f4-0f13-4637-e98e-54104113579a"
      },
      "outputs": [
        {
          "data": {
            "text/plain": [
              "ISBN                   0\n",
              "Book-Title             0\n",
              "Book-Author            2\n",
              "Year-Of-Publication    0\n",
              "Publisher              2\n",
              "Image-URL-S            0\n",
              "Image-URL-M            0\n",
              "Image-URL-L            3\n",
              "dtype: int64"
            ]
          },
          "execution_count": 5,
          "metadata": {},
          "output_type": "execute_result"
        }
      ],
      "source": [
        "books.isnull().sum()"
      ]
    },
    {
      "cell_type": "code",
      "execution_count": null,
      "id": "015d3544",
      "metadata": {
        "id": "015d3544"
      },
      "outputs": [],
      "source": [
        "books = books.fillna(value=\"Not Available\")"
      ]
    },
    {
      "cell_type": "code",
      "execution_count": null,
      "id": "bf6c3989",
      "metadata": {
        "id": "bf6c3989",
        "outputId": "1d6360c0-099f-4eea-b9c3-3e40d4c510e1"
      },
      "outputs": [
        {
          "data": {
            "text/html": [
              "<div>\n",
              "<style scoped>\n",
              "    .dataframe tbody tr th:only-of-type {\n",
              "        vertical-align: middle;\n",
              "    }\n",
              "\n",
              "    .dataframe tbody tr th {\n",
              "        vertical-align: top;\n",
              "    }\n",
              "\n",
              "    .dataframe thead th {\n",
              "        text-align: right;\n",
              "    }\n",
              "</style>\n",
              "<table border=\"1\" class=\"dataframe\">\n",
              "  <thead>\n",
              "    <tr style=\"text-align: right;\">\n",
              "      <th></th>\n",
              "      <th>User-ID</th>\n",
              "      <th>ISBN</th>\n",
              "      <th>Book-Rating</th>\n",
              "    </tr>\n",
              "  </thead>\n",
              "  <tbody>\n",
              "    <tr>\n",
              "      <th>0</th>\n",
              "      <td>276725</td>\n",
              "      <td>034545104X</td>\n",
              "      <td>0.0</td>\n",
              "    </tr>\n",
              "    <tr>\n",
              "      <th>1</th>\n",
              "      <td>276726</td>\n",
              "      <td>0155061224</td>\n",
              "      <td>5.0</td>\n",
              "    </tr>\n",
              "    <tr>\n",
              "      <th>2</th>\n",
              "      <td>276727</td>\n",
              "      <td>0446520802</td>\n",
              "      <td>0.0</td>\n",
              "    </tr>\n",
              "    <tr>\n",
              "      <th>3</th>\n",
              "      <td>276729</td>\n",
              "      <td>052165615X</td>\n",
              "      <td>3.0</td>\n",
              "    </tr>\n",
              "    <tr>\n",
              "      <th>4</th>\n",
              "      <td>276729</td>\n",
              "      <td>0521795028</td>\n",
              "      <td>6.0</td>\n",
              "    </tr>\n",
              "    <tr>\n",
              "      <th>...</th>\n",
              "      <td>...</td>\n",
              "      <td>...</td>\n",
              "      <td>...</td>\n",
              "    </tr>\n",
              "    <tr>\n",
              "      <th>722121</th>\n",
              "      <td>174700</td>\n",
              "      <td>0201034557</td>\n",
              "      <td>0.0</td>\n",
              "    </tr>\n",
              "    <tr>\n",
              "      <th>722122</th>\n",
              "      <td>174700</td>\n",
              "      <td>0316666343</td>\n",
              "      <td>9.0</td>\n",
              "    </tr>\n",
              "    <tr>\n",
              "      <th>722123</th>\n",
              "      <td>174700</td>\n",
              "      <td>034073356X</td>\n",
              "      <td>0.0</td>\n",
              "    </tr>\n",
              "    <tr>\n",
              "      <th>722124</th>\n",
              "      <td>174700</td>\n",
              "      <td>0340733578</td>\n",
              "      <td>0.0</td>\n",
              "    </tr>\n",
              "    <tr>\n",
              "      <th>722125</th>\n",
              "      <td>174700</td>\n",
              "      <td>0345334</td>\n",
              "      <td>NaN</td>\n",
              "    </tr>\n",
              "  </tbody>\n",
              "</table>\n",
              "<p>722126 rows × 3 columns</p>\n",
              "</div>"
            ],
            "text/plain": [
              "        User-ID        ISBN  Book-Rating\n",
              "0        276725  034545104X          0.0\n",
              "1        276726  0155061224          5.0\n",
              "2        276727  0446520802          0.0\n",
              "3        276729  052165615X          3.0\n",
              "4        276729  0521795028          6.0\n",
              "...         ...         ...          ...\n",
              "722121   174700  0201034557          0.0\n",
              "722122   174700  0316666343          9.0\n",
              "722123   174700  034073356X          0.0\n",
              "722124   174700  0340733578          0.0\n",
              "722125   174700     0345334          NaN\n",
              "\n",
              "[722126 rows x 3 columns]"
            ]
          },
          "execution_count": 7,
          "metadata": {},
          "output_type": "execute_result"
        }
      ],
      "source": [
        "ratings"
      ]
    },
    {
      "cell_type": "code",
      "execution_count": null,
      "id": "ae0193c0",
      "metadata": {
        "id": "ae0193c0",
        "outputId": "6e8dc142-e2ed-46d5-8f40-65a6bd20dc3f"
      },
      "outputs": [
        {
          "data": {
            "text/plain": [
              "User-ID          int64\n",
              "ISBN            object\n",
              "Book-Rating    float64\n",
              "dtype: object"
            ]
          },
          "execution_count": 8,
          "metadata": {},
          "output_type": "execute_result"
        }
      ],
      "source": [
        "ratings.dtypes"
      ]
    },
    {
      "cell_type": "code",
      "execution_count": null,
      "id": "39bd512d",
      "metadata": {
        "id": "39bd512d",
        "outputId": "af62150c-6159-47c5-b0c6-79ecf76b5e23"
      },
      "outputs": [
        {
          "data": {
            "text/plain": [
              "count    722125.000000\n",
              "mean          2.979396\n",
              "std           3.890986\n",
              "min           0.000000\n",
              "25%           0.000000\n",
              "50%           0.000000\n",
              "75%           7.000000\n",
              "max          10.000000\n",
              "Name: Book-Rating, dtype: float64"
            ]
          },
          "execution_count": 9,
          "metadata": {},
          "output_type": "execute_result"
        }
      ],
      "source": [
        "ratings[\"Book-Rating\"].describe()"
      ]
    },
    {
      "cell_type": "code",
      "execution_count": null,
      "id": "5b53bdc9",
      "metadata": {
        "id": "5b53bdc9"
      },
      "outputs": [],
      "source": [
        "ratings[\"Book-Rating\"] = ratings[\"Book-Rating\"].fillna(0).astype(int)"
      ]
    },
    {
      "cell_type": "code",
      "execution_count": null,
      "id": "aee81ed7",
      "metadata": {
        "id": "aee81ed7",
        "outputId": "e240b350-b049-4ed2-b61a-2ec9047b9040"
      },
      "outputs": [
        {
          "data": {
            "text/plain": [
              "439786"
            ]
          },
          "execution_count": 11,
          "metadata": {},
          "output_type": "execute_result"
        }
      ],
      "source": [
        "(ratings[\"Book-Rating\"]==0).sum()"
      ]
    },
    {
      "cell_type": "code",
      "execution_count": null,
      "id": "476ed4e4",
      "metadata": {
        "id": "476ed4e4",
        "outputId": "5e7263e7-7519-4486-8ef0-4841c25652d2"
      },
      "outputs": [
        {
          "data": {
            "text/plain": [
              "(array([439786.,   1190.,   1703.,   3738.,   5620.,  32126.,  24151.,\n",
              "         50140.,  67655.,  96017.]),\n",
              " array([ 0.,  1.,  2.,  3.,  4.,  5.,  6.,  7.,  8.,  9., 10.]),\n",
              " <BarContainer object of 10 artists>)"
            ]
          },
          "execution_count": 12,
          "metadata": {},
          "output_type": "execute_result"
        },
        {
          "data": {
            "image/png": "[encoded data removed]",
            "text/plain": [
              "<Figure size 640x480 with 1 Axes>"
            ]
          },
          "metadata": {},
          "output_type": "display_data"
        }
      ],
      "source": [
        "plt.hist(ratings[\"Book-Rating\"])"
      ]
    },
    {
      "cell_type": "code",
      "execution_count": null,
      "id": "f4f444ec",
      "metadata": {
        "id": "f4f444ec",
        "outputId": "fa89fc1b-721d-4e45-bf6f-015f8241887e"
      },
      "outputs": [
        {
          "data": {
            "text/plain": [
              "User-ID        0\n",
              "ISBN           0\n",
              "Book-Rating    0\n",
              "dtype: int64"
            ]
          },
          "execution_count": 13,
          "metadata": {},
          "output_type": "execute_result"
        }
      ],
      "source": [
        "ratings.isnull().sum()"
      ]
    },
    {
      "cell_type": "code",
      "execution_count": null,
      "id": "88981e3e",
      "metadata": {
        "id": "88981e3e",
        "outputId": "141b3c1e-3381-46a6-cc54-bf31e00503e7"
      },
      "outputs": [
        {
          "data": {
            "text/plain": [
              "User-ID         66774\n",
              "ISBN           255687\n",
              "Book-Rating        11\n",
              "dtype: int64"
            ]
          },
          "execution_count": 14,
          "metadata": {},
          "output_type": "execute_result"
        }
      ],
      "source": [
        "ratings.nunique()"
      ]
    },
    {
      "cell_type": "code",
      "execution_count": null,
      "id": "28e0204e",
      "metadata": {
        "id": "28e0204e",
        "outputId": "d0ecc434-3e3d-425e-8510-ab26c8f1a95b"
      },
      "outputs": [
        {
          "data": {
            "text/plain": [
              "655352"
            ]
          },
          "execution_count": 15,
          "metadata": {},
          "output_type": "execute_result"
        }
      ],
      "source": [
        "ratings[\"User-ID\"].duplicated().sum()"
      ]
    },
    {
      "cell_type": "code",
      "execution_count": null,
      "id": "d0bbc4da",
      "metadata": {
        "id": "d0bbc4da"
      },
      "outputs": [],
      "source": [
        "## We will revome rows with 0 as ratings as these ratings are not present and will impact the recommendation system."
      ]
    },
    {
      "cell_type": "code",
      "execution_count": null,
      "id": "9264b220",
      "metadata": {
        "id": "9264b220"
      },
      "outputs": [],
      "source": [
        "ratings_filtered = ratings.drop(ratings[ratings[\"Book-Rating\"]==0].index)"
      ]
    },
    {
      "cell_type": "code",
      "execution_count": null,
      "id": "dcec27c8",
      "metadata": {
        "id": "dcec27c8",
        "outputId": "bba499a5-bb44-488e-fc41-a4dc38590d02"
      },
      "outputs": [
        {
          "data": {
            "text/plain": [
              "(array([ 1190.,  1703.,  3738.,  5620., 32126., 24151., 50140., 67655.,\n",
              "        44720., 51297.]),\n",
              " array([ 1. ,  1.9,  2.8,  3.7,  4.6,  5.5,  6.4,  7.3,  8.2,  9.1, 10. ]),\n",
              " <BarContainer object of 10 artists>)"
            ]
          },
          "execution_count": 18,
          "metadata": {},
          "output_type": "execute_result"
        },
        {
          "data": {
            "image/png": "[encoded data removed]",
            "text/plain": [
              "<Figure size 640x480 with 1 Axes>"
            ]
          },
          "metadata": {},
          "output_type": "display_data"
        }
      ],
      "source": [
        "plt.hist(ratings_filtered[\"Book-Rating\"])"
      ]
    },
    {
      "cell_type": "code",
      "execution_count": null,
      "id": "4ba43d48",
      "metadata": {
        "id": "4ba43d48",
        "outputId": "2e96c0b9-030b-418f-9949-4c62ca2b6dbd"
      },
      "outputs": [
        {
          "data": {
            "text/html": [
              "<div>\n",
              "<style scoped>\n",
              "    .dataframe tbody tr th:only-of-type {\n",
              "        vertical-align: middle;\n",
              "    }\n",
              "\n",
              "    .dataframe tbody tr th {\n",
              "        vertical-align: top;\n",
              "    }\n",
              "\n",
              "    .dataframe thead th {\n",
              "        text-align: right;\n",
              "    }\n",
              "</style>\n",
              "<table border=\"1\" class=\"dataframe\">\n",
              "  <thead>\n",
              "    <tr style=\"text-align: right;\">\n",
              "      <th></th>\n",
              "      <th>User-ID</th>\n",
              "      <th>Location</th>\n",
              "      <th>Age</th>\n",
              "    </tr>\n",
              "  </thead>\n",
              "  <tbody>\n",
              "    <tr>\n",
              "      <th>0</th>\n",
              "      <td>1</td>\n",
              "      <td>nyc, new york, usa</td>\n",
              "      <td>NaN</td>\n",
              "    </tr>\n",
              "    <tr>\n",
              "      <th>1</th>\n",
              "      <td>2</td>\n",
              "      <td>stockton, california, usa</td>\n",
              "      <td>18.0</td>\n",
              "    </tr>\n",
              "    <tr>\n",
              "      <th>2</th>\n",
              "      <td>3</td>\n",
              "      <td>moscow, yukon territory, russia</td>\n",
              "      <td>NaN</td>\n",
              "    </tr>\n",
              "    <tr>\n",
              "      <th>3</th>\n",
              "      <td>4</td>\n",
              "      <td>porto, v.n.gaia, portugal</td>\n",
              "      <td>17.0</td>\n",
              "    </tr>\n",
              "    <tr>\n",
              "      <th>4</th>\n",
              "      <td>5</td>\n",
              "      <td>farnborough, hants, united kingdom</td>\n",
              "      <td>NaN</td>\n",
              "    </tr>\n",
              "    <tr>\n",
              "      <th>...</th>\n",
              "      <td>...</td>\n",
              "      <td>...</td>\n",
              "      <td>...</td>\n",
              "    </tr>\n",
              "    <tr>\n",
              "      <th>278853</th>\n",
              "      <td>278854</td>\n",
              "      <td>portland, oregon, usa</td>\n",
              "      <td>NaN</td>\n",
              "    </tr>\n",
              "    <tr>\n",
              "      <th>278854</th>\n",
              "      <td>278855</td>\n",
              "      <td>tacoma, washington, united kingdom</td>\n",
              "      <td>50.0</td>\n",
              "    </tr>\n",
              "    <tr>\n",
              "      <th>278855</th>\n",
              "      <td>278856</td>\n",
              "      <td>brampton, ontario, canada</td>\n",
              "      <td>NaN</td>\n",
              "    </tr>\n",
              "    <tr>\n",
              "      <th>278856</th>\n",
              "      <td>278857</td>\n",
              "      <td>knoxville, tennessee, usa</td>\n",
              "      <td>NaN</td>\n",
              "    </tr>\n",
              "    <tr>\n",
              "      <th>278857</th>\n",
              "      <td>278858</td>\n",
              "      <td>dublin, n/a, ireland</td>\n",
              "      <td>NaN</td>\n",
              "    </tr>\n",
              "  </tbody>\n",
              "</table>\n",
              "<p>278858 rows × 3 columns</p>\n",
              "</div>"
            ],
            "text/plain": [
              "        User-ID                            Location   Age\n",
              "0             1                  nyc, new york, usa   NaN\n",
              "1             2           stockton, california, usa  18.0\n",
              "2             3     moscow, yukon territory, russia   NaN\n",
              "3             4           porto, v.n.gaia, portugal  17.0\n",
              "4             5  farnborough, hants, united kingdom   NaN\n",
              "...         ...                                 ...   ...\n",
              "278853   278854               portland, oregon, usa   NaN\n",
              "278854   278855  tacoma, washington, united kingdom  50.0\n",
              "278855   278856           brampton, ontario, canada   NaN\n",
              "278856   278857           knoxville, tennessee, usa   NaN\n",
              "278857   278858                dublin, n/a, ireland   NaN\n",
              "\n",
              "[278858 rows x 3 columns]"
            ]
          },
          "execution_count": 19,
          "metadata": {},
          "output_type": "execute_result"
        }
      ],
      "source": [
        "users"
      ]
    },
    {
      "cell_type": "code",
      "execution_count": null,
      "id": "dfa3a281",
      "metadata": {
        "scrolled": true,
        "id": "dfa3a281",
        "outputId": "f05c7eeb-eaf9-4f40-e0ec-7c7cdc7725b8"
      },
      "outputs": [
        {
          "data": {
            "text/plain": [
              "User-ID     278858\n",
              "Location     57339\n",
              "Age            165\n",
              "dtype: int64"
            ]
          },
          "execution_count": 20,
          "metadata": {},
          "output_type": "execute_result"
        }
      ],
      "source": [
        "users.nunique()"
      ]
    },
    {
      "cell_type": "code",
      "execution_count": null,
      "id": "0416ec14",
      "metadata": {
        "id": "0416ec14",
        "outputId": "b163700d-7e5d-40b9-f06f-453cfade162f"
      },
      "outputs": [
        {
          "data": {
            "text/plain": [
              "User-ID          0\n",
              "Location         0\n",
              "Age         110762\n",
              "dtype: int64"
            ]
          },
          "execution_count": 21,
          "metadata": {},
          "output_type": "execute_result"
        }
      ],
      "source": [
        "users.isnull().sum()"
      ]
    },
    {
      "cell_type": "code",
      "execution_count": null,
      "id": "bec0e751",
      "metadata": {
        "id": "bec0e751",
        "outputId": "d5c44a4a-63ba-4d84-812e-28bc5e6dfa02"
      },
      "outputs": [
        {
          "data": {
            "text/plain": [
              "count    168096.000000\n",
              "mean         34.751434\n",
              "std          14.428097\n",
              "min           0.000000\n",
              "25%          24.000000\n",
              "50%          32.000000\n",
              "75%          44.000000\n",
              "max         244.000000\n",
              "Name: Age, dtype: float64"
            ]
          },
          "execution_count": 22,
          "metadata": {},
          "output_type": "execute_result"
        }
      ],
      "source": [
        "users[\"Age\"].describe()"
      ]
    },
    {
      "cell_type": "code",
      "execution_count": null,
      "id": "3a9dd310",
      "metadata": {
        "id": "3a9dd310",
        "outputId": "02f994fa-280c-4093-c9f4-311c8186bcb1"
      },
      "outputs": [
        {
          "data": {
            "image/png": "[encoded data removed]",
            "text/plain": [
              "<Figure size 640x480 with 1 Axes>"
            ]
          },
          "metadata": {},
          "output_type": "display_data"
        }
      ],
      "source": [
        "sns.boxplot(users[\"Age\"])\n",
        "plt.show()\n"
      ]
    },
    {
      "cell_type": "code",
      "execution_count": null,
      "id": "d7955350",
      "metadata": {
        "id": "d7955350",
        "outputId": "134f7a28-9e1b-4b3b-82f6-e330a604bcbe"
      },
      "outputs": [
        {
          "data": {
            "image/png": "[encoded data removed]",
            "text/plain": [
              "<Figure size 640x480 with 1 Axes>"
            ]
          },
          "metadata": {},
          "output_type": "display_data"
        }
      ],
      "source": [
        "plt.hist(users[\"Age\"])\n",
        "plt.show()"
      ]
    },
    {
      "cell_type": "code",
      "execution_count": null,
      "id": "e229ea23",
      "metadata": {
        "id": "e229ea23",
        "outputId": "9dea1ea0-7113-4501-bb42-d0491118ab3c"
      },
      "outputs": [
        {
          "name": "stdout",
          "output_type": "stream",
          "text": [
            "Number of outliers: 1084\n",
            "Outliers:\n",
            "        User-ID                                      Location    Age\n",
            "220         221                      palm beach, florida, usa   79.0\n",
            "689         690                      lake oswego, oregon, usa   80.0\n",
            "957         958                           lindale, texas, usa   78.0\n",
            "1147       1148                  prairie village, kansas, usa   79.0\n",
            "1288       1289                     san jose, california, usa  103.0\n",
            "...         ...                                           ...    ...\n",
            "278301   278302      düsseldorf, nordrhein-westfalen, germany  104.0\n",
            "278317   278318                  studio city, california, usa   77.0\n",
            "278348   278349                           carlin, nevada, usa   76.0\n",
            "278412   278413                    kansas city, missouri, usa   76.0\n",
            "278471   278472  biel-benken bl/schweiz, alabama, switzerland   81.0\n",
            "\n",
            "[1084 rows x 3 columns]\n"
          ]
        }
      ],
      "source": [
        "## Calculating number of outliers in Age column\n",
        "\n",
        "Q1 = users[\"Age\"].quantile(0.25)\n",
        "Q3 = users[\"Age\"].quantile(0.75)\n",
        "IQR = Q3 - Q1\n",
        "\n",
        "lower_bound = Q1 - 1.5 * IQR\n",
        "upper_bound = Q3 + 1.5 * IQR\n",
        "outliers = users[(users[\"Age\"] < lower_bound) | (users[\"Age\"] > upper_bound)]\n",
        "num_outliers = outliers.shape[0]\n",
        "print(f\"Number of outliers: {num_outliers}\")\n",
        "print(\"Outliers:\")\n",
        "print(outliers)"
      ]
    },
    {
      "cell_type": "code",
      "execution_count": null,
      "id": "031623f8",
      "metadata": {
        "id": "031623f8",
        "outputId": "616e54a5-4c13-4bcd-8759-1b9922719941"
      },
      "outputs": [
        {
          "data": {
            "text/html": [
              "<div>\n",
              "<style scoped>\n",
              "    .dataframe tbody tr th:only-of-type {\n",
              "        vertical-align: middle;\n",
              "    }\n",
              "\n",
              "    .dataframe tbody tr th {\n",
              "        vertical-align: top;\n",
              "    }\n",
              "\n",
              "    .dataframe thead th {\n",
              "        text-align: right;\n",
              "    }\n",
              "</style>\n",
              "<table border=\"1\" class=\"dataframe\">\n",
              "  <thead>\n",
              "    <tr style=\"text-align: right;\">\n",
              "      <th></th>\n",
              "      <th>User-ID</th>\n",
              "      <th>Location</th>\n",
              "      <th>Age</th>\n",
              "    </tr>\n",
              "  </thead>\n",
              "  <tbody>\n",
              "    <tr>\n",
              "      <th>0</th>\n",
              "      <td>1</td>\n",
              "      <td>nyc, new york, usa</td>\n",
              "      <td>NaN</td>\n",
              "    </tr>\n",
              "    <tr>\n",
              "      <th>1</th>\n",
              "      <td>2</td>\n",
              "      <td>stockton, california, usa</td>\n",
              "      <td>18.0</td>\n",
              "    </tr>\n",
              "    <tr>\n",
              "      <th>2</th>\n",
              "      <td>3</td>\n",
              "      <td>moscow, yukon territory, russia</td>\n",
              "      <td>NaN</td>\n",
              "    </tr>\n",
              "    <tr>\n",
              "      <th>3</th>\n",
              "      <td>4</td>\n",
              "      <td>porto, v.n.gaia, portugal</td>\n",
              "      <td>17.0</td>\n",
              "    </tr>\n",
              "    <tr>\n",
              "      <th>4</th>\n",
              "      <td>5</td>\n",
              "      <td>farnborough, hants, united kingdom</td>\n",
              "      <td>NaN</td>\n",
              "    </tr>\n",
              "    <tr>\n",
              "      <th>...</th>\n",
              "      <td>...</td>\n",
              "      <td>...</td>\n",
              "      <td>...</td>\n",
              "    </tr>\n",
              "    <tr>\n",
              "      <th>278853</th>\n",
              "      <td>278854</td>\n",
              "      <td>portland, oregon, usa</td>\n",
              "      <td>NaN</td>\n",
              "    </tr>\n",
              "    <tr>\n",
              "      <th>278854</th>\n",
              "      <td>278855</td>\n",
              "      <td>tacoma, washington, united kingdom</td>\n",
              "      <td>50.0</td>\n",
              "    </tr>\n",
              "    <tr>\n",
              "      <th>278855</th>\n",
              "      <td>278856</td>\n",
              "      <td>brampton, ontario, canada</td>\n",
              "      <td>NaN</td>\n",
              "    </tr>\n",
              "    <tr>\n",
              "      <th>278856</th>\n",
              "      <td>278857</td>\n",
              "      <td>knoxville, tennessee, usa</td>\n",
              "      <td>NaN</td>\n",
              "    </tr>\n",
              "    <tr>\n",
              "      <th>278857</th>\n",
              "      <td>278858</td>\n",
              "      <td>dublin, n/a, ireland</td>\n",
              "      <td>NaN</td>\n",
              "    </tr>\n",
              "  </tbody>\n",
              "</table>\n",
              "<p>278492 rows × 3 columns</p>\n",
              "</div>"
            ],
            "text/plain": [
              "        User-ID                            Location   Age\n",
              "0             1                  nyc, new york, usa   NaN\n",
              "1             2           stockton, california, usa  18.0\n",
              "2             3     moscow, yukon territory, russia   NaN\n",
              "3             4           porto, v.n.gaia, portugal  17.0\n",
              "4             5  farnborough, hants, united kingdom   NaN\n",
              "...         ...                                 ...   ...\n",
              "278853   278854               portland, oregon, usa   NaN\n",
              "278854   278855  tacoma, washington, united kingdom  50.0\n",
              "278855   278856           brampton, ontario, canada   NaN\n",
              "278856   278857           knoxville, tennessee, usa   NaN\n",
              "278857   278858                dublin, n/a, ireland   NaN\n",
              "\n",
              "[278492 rows x 3 columns]"
            ]
          },
          "execution_count": 26,
          "metadata": {},
          "output_type": "execute_result"
        }
      ],
      "source": [
        "## Box plot shows age outliers are greater than 75 but we can drop rows with age greater than 100.\n",
        "users_filtered = users.drop(users[users[\"Age\"]>100].index)\n",
        "users_filtered"
      ]
    },
    {
      "cell_type": "code",
      "execution_count": null,
      "id": "dcd8eec2",
      "metadata": {
        "id": "dcd8eec2",
        "outputId": "7e4a5828-326b-41fe-aa3d-3ca711749272"
      },
      "outputs": [
        {
          "data": {
            "text/html": [
              "<div>\n",
              "<style scoped>\n",
              "    .dataframe tbody tr th:only-of-type {\n",
              "        vertical-align: middle;\n",
              "    }\n",
              "\n",
              "    .dataframe tbody tr th {\n",
              "        vertical-align: top;\n",
              "    }\n",
              "\n",
              "    .dataframe thead th {\n",
              "        text-align: right;\n",
              "    }\n",
              "</style>\n",
              "<table border=\"1\" class=\"dataframe\">\n",
              "  <thead>\n",
              "    <tr style=\"text-align: right;\">\n",
              "      <th></th>\n",
              "      <th>User-ID</th>\n",
              "      <th>Location</th>\n",
              "      <th>Age</th>\n",
              "    </tr>\n",
              "  </thead>\n",
              "  <tbody>\n",
              "    <tr>\n",
              "      <th>0</th>\n",
              "      <td>1</td>\n",
              "      <td>nyc, new york, usa</td>\n",
              "      <td>NaN</td>\n",
              "    </tr>\n",
              "    <tr>\n",
              "      <th>1</th>\n",
              "      <td>2</td>\n",
              "      <td>stockton, california, usa</td>\n",
              "      <td>18.0</td>\n",
              "    </tr>\n",
              "    <tr>\n",
              "      <th>2</th>\n",
              "      <td>3</td>\n",
              "      <td>moscow, yukon territory, russia</td>\n",
              "      <td>NaN</td>\n",
              "    </tr>\n",
              "    <tr>\n",
              "      <th>3</th>\n",
              "      <td>4</td>\n",
              "      <td>porto, v.n.gaia, portugal</td>\n",
              "      <td>17.0</td>\n",
              "    </tr>\n",
              "    <tr>\n",
              "      <th>4</th>\n",
              "      <td>5</td>\n",
              "      <td>farnborough, hants, united kingdom</td>\n",
              "      <td>NaN</td>\n",
              "    </tr>\n",
              "    <tr>\n",
              "      <th>...</th>\n",
              "      <td>...</td>\n",
              "      <td>...</td>\n",
              "      <td>...</td>\n",
              "    </tr>\n",
              "    <tr>\n",
              "      <th>278853</th>\n",
              "      <td>278854</td>\n",
              "      <td>portland, oregon, usa</td>\n",
              "      <td>NaN</td>\n",
              "    </tr>\n",
              "    <tr>\n",
              "      <th>278854</th>\n",
              "      <td>278855</td>\n",
              "      <td>tacoma, washington, united kingdom</td>\n",
              "      <td>50.0</td>\n",
              "    </tr>\n",
              "    <tr>\n",
              "      <th>278855</th>\n",
              "      <td>278856</td>\n",
              "      <td>brampton, ontario, canada</td>\n",
              "      <td>NaN</td>\n",
              "    </tr>\n",
              "    <tr>\n",
              "      <th>278856</th>\n",
              "      <td>278857</td>\n",
              "      <td>knoxville, tennessee, usa</td>\n",
              "      <td>NaN</td>\n",
              "    </tr>\n",
              "    <tr>\n",
              "      <th>278857</th>\n",
              "      <td>278858</td>\n",
              "      <td>dublin, n/a, ireland</td>\n",
              "      <td>NaN</td>\n",
              "    </tr>\n",
              "  </tbody>\n",
              "</table>\n",
              "<p>278492 rows × 3 columns</p>\n",
              "</div>"
            ],
            "text/plain": [
              "        User-ID                            Location   Age\n",
              "0             1                  nyc, new york, usa   NaN\n",
              "1             2           stockton, california, usa  18.0\n",
              "2             3     moscow, yukon territory, russia   NaN\n",
              "3             4           porto, v.n.gaia, portugal  17.0\n",
              "4             5  farnborough, hants, united kingdom   NaN\n",
              "...         ...                                 ...   ...\n",
              "278853   278854               portland, oregon, usa   NaN\n",
              "278854   278855  tacoma, washington, united kingdom  50.0\n",
              "278855   278856           brampton, ontario, canada   NaN\n",
              "278856   278857           knoxville, tennessee, usa   NaN\n",
              "278857   278858                dublin, n/a, ireland   NaN\n",
              "\n",
              "[278492 rows x 3 columns]"
            ]
          },
          "execution_count": 27,
          "metadata": {},
          "output_type": "execute_result"
        }
      ],
      "source": [
        "users_filtered"
      ]
    },
    {
      "cell_type": "code",
      "execution_count": null,
      "id": "83051d3c",
      "metadata": {
        "id": "83051d3c"
      },
      "outputs": [],
      "source": [
        "## replacing all null values in age with mean 34.\n",
        "users_filtered[\"Age\"] = users_filtered[\"Age\"].fillna(value=\"34\")"
      ]
    },
    {
      "cell_type": "code",
      "execution_count": null,
      "id": "bd5d91fe",
      "metadata": {
        "id": "bd5d91fe"
      },
      "outputs": [],
      "source": [
        "users_filtered[\"Age\"] = users_filtered[\"Age\"].astype(int)"
      ]
    },
    {
      "cell_type": "code",
      "execution_count": null,
      "id": "63aac802",
      "metadata": {
        "id": "63aac802",
        "outputId": "b9f239e0-febc-48a9-831d-8865c76a9a44"
      },
      "outputs": [
        {
          "data": {
            "text/plain": [
              "User-ID      int64\n",
              "Location    object\n",
              "Age          int32\n",
              "dtype: object"
            ]
          },
          "execution_count": 30,
          "metadata": {},
          "output_type": "execute_result"
        }
      ],
      "source": [
        "users_filtered.dtypes"
      ]
    },
    {
      "cell_type": "code",
      "execution_count": null,
      "id": "da4b44c6",
      "metadata": {
        "id": "da4b44c6",
        "outputId": "055e77b9-ae8d-499c-cf56-756b094e0e9e"
      },
      "outputs": [
        {
          "data": {
            "image/png": "[encoded data removed]",
            "text/plain": [
              "<Figure size 640x480 with 1 Axes>"
            ]
          },
          "metadata": {},
          "output_type": "display_data"
        }
      ],
      "source": [
        "plt.hist(users_filtered[\"Age\"])\n",
        "plt.show()"
      ]
    },
    {
      "cell_type": "markdown",
      "id": "02c80983",
      "metadata": {
        "id": "02c80983"
      },
      "source": [
        "# Book Recommendations"
      ]
    },
    {
      "cell_type": "markdown",
      "id": "8e510e0c",
      "metadata": {
        "id": "8e510e0c"
      },
      "source": [
        "### 1. Book Recommendation based on popularity"
      ]
    },
    {
      "cell_type": "code",
      "execution_count": null,
      "id": "58a6ee9c",
      "metadata": {
        "id": "58a6ee9c"
      },
      "outputs": [],
      "source": [
        "## We try to find top 200 Books based on average ratings by users."
      ]
    },
    {
      "cell_type": "code",
      "execution_count": null,
      "id": "caaed60b",
      "metadata": {
        "id": "caaed60b"
      },
      "outputs": [],
      "source": [
        "books_rating = ratings_filtered.merge(books, on=\"ISBN\")"
      ]
    },
    {
      "cell_type": "code",
      "execution_count": null,
      "id": "78d51b69",
      "metadata": {
        "scrolled": true,
        "id": "78d51b69",
        "outputId": "2afeb43b-4a87-467f-dc8b-9e96a0d8bb12"
      },
      "outputs": [
        {
          "data": {
            "text/html": [
              "<div>\n",
              "<style scoped>\n",
              "    .dataframe tbody tr th:only-of-type {\n",
              "        vertical-align: middle;\n",
              "    }\n",
              "\n",
              "    .dataframe tbody tr th {\n",
              "        vertical-align: top;\n",
              "    }\n",
              "\n",
              "    .dataframe thead th {\n",
              "        text-align: right;\n",
              "    }\n",
              "</style>\n",
              "<table border=\"1\" class=\"dataframe\">\n",
              "  <thead>\n",
              "    <tr style=\"text-align: right;\">\n",
              "      <th></th>\n",
              "      <th>User-ID</th>\n",
              "      <th>ISBN</th>\n",
              "      <th>Book-Rating</th>\n",
              "      <th>Book-Title</th>\n",
              "      <th>Book-Author</th>\n",
              "      <th>Year-Of-Publication</th>\n",
              "      <th>Publisher</th>\n",
              "      <th>Image-URL-S</th>\n",
              "      <th>Image-URL-M</th>\n",
              "      <th>Image-URL-L</th>\n",
              "    </tr>\n",
              "  </thead>\n",
              "  <tbody>\n",
              "    <tr>\n",
              "      <th>0</th>\n",
              "      <td>276726</td>\n",
              "      <td>0155061224</td>\n",
              "      <td>5</td>\n",
              "      <td>Rites of Passage</td>\n",
              "      <td>Judith Rae</td>\n",
              "      <td>2001</td>\n",
              "      <td>Heinle</td>\n",
              "      <td>http://images.amazon.com/images/P/0155061224.0...</td>\n",
              "      <td>http://images.amazon.com/images/P/0155061224.0...</td>\n",
              "      <td>http://images.amazon.com/images/P/0155061224.0...</td>\n",
              "    </tr>\n",
              "    <tr>\n",
              "      <th>1</th>\n",
              "      <td>276729</td>\n",
              "      <td>052165615X</td>\n",
              "      <td>3</td>\n",
              "      <td>Help!: Level 1</td>\n",
              "      <td>Philip Prowse</td>\n",
              "      <td>1999</td>\n",
              "      <td>Cambridge University Press</td>\n",
              "      <td>http://images.amazon.com/images/P/052165615X.0...</td>\n",
              "      <td>http://images.amazon.com/images/P/052165615X.0...</td>\n",
              "      <td>http://images.amazon.com/images/P/052165615X.0...</td>\n",
              "    </tr>\n",
              "    <tr>\n",
              "      <th>2</th>\n",
              "      <td>276729</td>\n",
              "      <td>0521795028</td>\n",
              "      <td>6</td>\n",
              "      <td>The Amsterdam Connection : Level 4 (Cambridge ...</td>\n",
              "      <td>Sue Leather</td>\n",
              "      <td>2001</td>\n",
              "      <td>Cambridge University Press</td>\n",
              "      <td>http://images.amazon.com/images/P/0521795028.0...</td>\n",
              "      <td>http://images.amazon.com/images/P/0521795028.0...</td>\n",
              "      <td>http://images.amazon.com/images/P/0521795028.0...</td>\n",
              "    </tr>\n",
              "    <tr>\n",
              "      <th>3</th>\n",
              "      <td>276744</td>\n",
              "      <td>038550120X</td>\n",
              "      <td>7</td>\n",
              "      <td>A Painted House</td>\n",
              "      <td>JOHN GRISHAM</td>\n",
              "      <td>2001</td>\n",
              "      <td>Doubleday</td>\n",
              "      <td>http://images.amazon.com/images/P/038550120X.0...</td>\n",
              "      <td>http://images.amazon.com/images/P/038550120X.0...</td>\n",
              "      <td>http://images.amazon.com/images/P/038550120X.0...</td>\n",
              "    </tr>\n",
              "    <tr>\n",
              "      <th>4</th>\n",
              "      <td>11676</td>\n",
              "      <td>038550120X</td>\n",
              "      <td>10</td>\n",
              "      <td>A Painted House</td>\n",
              "      <td>JOHN GRISHAM</td>\n",
              "      <td>2001</td>\n",
              "      <td>Doubleday</td>\n",
              "      <td>http://images.amazon.com/images/P/038550120X.0...</td>\n",
              "      <td>http://images.amazon.com/images/P/038550120X.0...</td>\n",
              "      <td>http://images.amazon.com/images/P/038550120X.0...</td>\n",
              "    </tr>\n",
              "    <tr>\n",
              "      <th>...</th>\n",
              "      <td>...</td>\n",
              "      <td>...</td>\n",
              "      <td>...</td>\n",
              "      <td>...</td>\n",
              "      <td>...</td>\n",
              "      <td>...</td>\n",
              "      <td>...</td>\n",
              "      <td>...</td>\n",
              "      <td>...</td>\n",
              "      <td>...</td>\n",
              "    </tr>\n",
              "    <tr>\n",
              "      <th>248844</th>\n",
              "      <td>174683</td>\n",
              "      <td>1579540252</td>\n",
              "      <td>8</td>\n",
              "      <td>Extraordinary Togetherness: A Woman's Guide Lo...</td>\n",
              "      <td>Sari Harrar</td>\n",
              "      <td>1999</td>\n",
              "      <td>St. Martin's Press</td>\n",
              "      <td>http://images.amazon.com/images/P/1579540252.0...</td>\n",
              "      <td>http://images.amazon.com/images/P/1579540252.0...</td>\n",
              "      <td>http://images.amazon.com/images/P/1579540252.0...</td>\n",
              "    </tr>\n",
              "    <tr>\n",
              "      <th>248845</th>\n",
              "      <td>174683</td>\n",
              "      <td>1880283174</td>\n",
              "      <td>8</td>\n",
              "      <td>Parenting Your 1-to-4-Year Old</td>\n",
              "      <td>Michael H. Popkin</td>\n",
              "      <td>1996</td>\n",
              "      <td>Active Parenting Publishers</td>\n",
              "      <td>http://images.amazon.com/images/P/1880283174.0...</td>\n",
              "      <td>http://images.amazon.com/images/P/1880283174.0...</td>\n",
              "      <td>http://images.amazon.com/images/P/1880283174.0...</td>\n",
              "    </tr>\n",
              "    <tr>\n",
              "      <th>248846</th>\n",
              "      <td>174684</td>\n",
              "      <td>044652705X</td>\n",
              "      <td>9</td>\n",
              "      <td>Companions in Courage : Triumphant Tales of He...</td>\n",
              "      <td>Pat LaFontaine</td>\n",
              "      <td>2000</td>\n",
              "      <td>Time Warner Trade Publishing</td>\n",
              "      <td>http://images.amazon.com/images/P/044652705X.0...</td>\n",
              "      <td>http://images.amazon.com/images/P/044652705X.0...</td>\n",
              "      <td>http://images.amazon.com/images/P/044652705X.0...</td>\n",
              "    </tr>\n",
              "    <tr>\n",
              "      <th>248847</th>\n",
              "      <td>174687</td>\n",
              "      <td>080211699X</td>\n",
              "      <td>5</td>\n",
              "      <td>Personal Velocity</td>\n",
              "      <td>Rebecca Miller</td>\n",
              "      <td>2001</td>\n",
              "      <td>Grove Press</td>\n",
              "      <td>http://images.amazon.com/images/P/080211699X.0...</td>\n",
              "      <td>http://images.amazon.com/images/P/080211699X.0...</td>\n",
              "      <td>http://images.amazon.com/images/P/080211699X.0...</td>\n",
              "    </tr>\n",
              "    <tr>\n",
              "      <th>248848</th>\n",
              "      <td>174700</td>\n",
              "      <td>0002255146</td>\n",
              "      <td>9</td>\n",
              "      <td>Ice Lake</td>\n",
              "      <td>John Farrow</td>\n",
              "      <td>2001</td>\n",
              "      <td>HarperCollins Publishers</td>\n",
              "      <td>http://images.amazon.com/images/P/0002255146.0...</td>\n",
              "      <td>http://images.amazon.com/images/P/0002255146.0...</td>\n",
              "      <td>http://images.amazon.com/images/P/0002255146.0...</td>\n",
              "    </tr>\n",
              "  </tbody>\n",
              "</table>\n",
              "<p>248849 rows × 10 columns</p>\n",
              "</div>"
            ],
            "text/plain": [
              "        User-ID        ISBN  Book-Rating  \\\n",
              "0        276726  0155061224            5   \n",
              "1        276729  052165615X            3   \n",
              "2        276729  0521795028            6   \n",
              "3        276744  038550120X            7   \n",
              "4         11676  038550120X           10   \n",
              "...         ...         ...          ...   \n",
              "248844   174683  1579540252            8   \n",
              "248845   174683  1880283174            8   \n",
              "248846   174684  044652705X            9   \n",
              "248847   174687  080211699X            5   \n",
              "248848   174700  0002255146            9   \n",
              "\n",
              "                                               Book-Title        Book-Author  \\\n",
              "0                                        Rites of Passage         Judith Rae   \n",
              "1                                          Help!: Level 1      Philip Prowse   \n",
              "2       The Amsterdam Connection : Level 4 (Cambridge ...        Sue Leather   \n",
              "3                                         A Painted House       JOHN GRISHAM   \n",
              "4                                         A Painted House       JOHN GRISHAM   \n",
              "...                                                   ...                ...   \n",
              "248844  Extraordinary Togetherness: A Woman's Guide Lo...        Sari Harrar   \n",
              "248845                     Parenting Your 1-to-4-Year Old  Michael H. Popkin   \n",
              "248846  Companions in Courage : Triumphant Tales of He...     Pat LaFontaine   \n",
              "248847                                  Personal Velocity     Rebecca Miller   \n",
              "248848                                           Ice Lake        John Farrow   \n",
              "\n",
              "       Year-Of-Publication                     Publisher  \\\n",
              "0                     2001                        Heinle   \n",
              "1                     1999    Cambridge University Press   \n",
              "2                     2001    Cambridge University Press   \n",
              "3                     2001                     Doubleday   \n",
              "4                     2001                     Doubleday   \n",
              "...                    ...                           ...   \n",
              "248844                1999            St. Martin's Press   \n",
              "248845                1996   Active Parenting Publishers   \n",
              "248846                2000  Time Warner Trade Publishing   \n",
              "248847                2001                   Grove Press   \n",
              "248848                2001      HarperCollins Publishers   \n",
              "\n",
              "                                              Image-URL-S  \\\n",
              "0       http://images.amazon.com/images/P/0155061224.0...   \n",
              "1       http://images.amazon.com/images/P/052165615X.0...   \n",
              "2       http://images.amazon.com/images/P/0521795028.0...   \n",
              "3       http://images.amazon.com/images/P/038550120X.0...   \n",
              "4       http://images.amazon.com/images/P/038550120X.0...   \n",
              "...                                                   ...   \n",
              "248844  http://images.amazon.com/images/P/1579540252.0...   \n",
              "248845  http://images.amazon.com/images/P/1880283174.0...   \n",
              "248846  http://images.amazon.com/images/P/044652705X.0...   \n",
              "248847  http://images.amazon.com/images/P/080211699X.0...   \n",
              "248848  http://images.amazon.com/images/P/0002255146.0...   \n",
              "\n",
              "                                              Image-URL-M  \\\n",
              "0       http://images.amazon.com/images/P/0155061224.0...   \n",
              "1       http://images.amazon.com/images/P/052165615X.0...   \n",
              "2       http://images.amazon.com/images/P/0521795028.0...   \n",
              "3       http://images.amazon.com/images/P/038550120X.0...   \n",
              "4       http://images.amazon.com/images/P/038550120X.0...   \n",
              "...                                                   ...   \n",
              "248844  http://images.amazon.com/images/P/1579540252.0...   \n",
              "248845  http://images.amazon.com/images/P/1880283174.0...   \n",
              "248846  http://images.amazon.com/images/P/044652705X.0...   \n",
              "248847  http://images.amazon.com/images/P/080211699X.0...   \n",
              "248848  http://images.amazon.com/images/P/0002255146.0...   \n",
              "\n",
              "                                              Image-URL-L  \n",
              "0       http://images.amazon.com/images/P/0155061224.0...  \n",
              "1       http://images.amazon.com/images/P/052165615X.0...  \n",
              "2       http://images.amazon.com/images/P/0521795028.0...  \n",
              "3       http://images.amazon.com/images/P/038550120X.0...  \n",
              "4       http://images.amazon.com/images/P/038550120X.0...  \n",
              "...                                                   ...  \n",
              "248844  http://images.amazon.com/images/P/1579540252.0...  \n",
              "248845  http://images.amazon.com/images/P/1880283174.0...  \n",
              "248846  http://images.amazon.com/images/P/044652705X.0...  \n",
              "248847  http://images.amazon.com/images/P/080211699X.0...  \n",
              "248848  http://images.amazon.com/images/P/0002255146.0...  \n",
              "\n",
              "[248849 rows x 10 columns]"
            ]
          },
          "execution_count": 34,
          "metadata": {},
          "output_type": "execute_result"
        }
      ],
      "source": [
        "books_rating"
      ]
    },
    {
      "cell_type": "code",
      "execution_count": null,
      "id": "bb7f286d",
      "metadata": {
        "scrolled": true,
        "id": "bb7f286d",
        "outputId": "9f5b90f3-9ce0-46a0-ff8c-158b7afd89bf"
      },
      "outputs": [
        {
          "data": {
            "text/html": [
              "<div>\n",
              "<style scoped>\n",
              "    .dataframe tbody tr th:only-of-type {\n",
              "        vertical-align: middle;\n",
              "    }\n",
              "\n",
              "    .dataframe tbody tr th {\n",
              "        vertical-align: top;\n",
              "    }\n",
              "\n",
              "    .dataframe thead th {\n",
              "        text-align: right;\n",
              "    }\n",
              "</style>\n",
              "<table border=\"1\" class=\"dataframe\">\n",
              "  <thead>\n",
              "    <tr style=\"text-align: right;\">\n",
              "      <th></th>\n",
              "      <th>Book-Title</th>\n",
              "      <th>Rating-Count</th>\n",
              "    </tr>\n",
              "  </thead>\n",
              "  <tbody>\n",
              "    <tr>\n",
              "      <th>0</th>\n",
              "      <td>A Light in the Storm: The Civil War Diary of ...</td>\n",
              "      <td>1</td>\n",
              "    </tr>\n",
              "    <tr>\n",
              "      <th>1</th>\n",
              "      <td>Dark Justice</td>\n",
              "      <td>1</td>\n",
              "    </tr>\n",
              "    <tr>\n",
              "      <th>2</th>\n",
              "      <td>Earth Prayers From around the World: 365 Pray...</td>\n",
              "      <td>3</td>\n",
              "    </tr>\n",
              "    <tr>\n",
              "      <th>3</th>\n",
              "      <td>Final Fantasy Anthology: Official Strategy Gu...</td>\n",
              "      <td>2</td>\n",
              "    </tr>\n",
              "    <tr>\n",
              "      <th>4</th>\n",
              "      <td>Flight of Fancy: American Heiresses (Zebra Ba...</td>\n",
              "      <td>1</td>\n",
              "    </tr>\n",
              "    <tr>\n",
              "      <th>...</th>\n",
              "      <td>...</td>\n",
              "      <td>...</td>\n",
              "    </tr>\n",
              "    <tr>\n",
              "      <th>102066</th>\n",
              "      <td>Ã?Â?berfall auf hoher See.</td>\n",
              "      <td>1</td>\n",
              "    </tr>\n",
              "    <tr>\n",
              "      <th>102067</th>\n",
              "      <td>Ã?Â?berleben in der WÃ?Â¼ste Danakil.</td>\n",
              "      <td>1</td>\n",
              "    </tr>\n",
              "    <tr>\n",
              "      <th>102068</th>\n",
              "      <td>Ã?Â?rger mit Produkt X. Roman.</td>\n",
              "      <td>2</td>\n",
              "    </tr>\n",
              "    <tr>\n",
              "      <th>102069</th>\n",
              "      <td>Ã?Â?stlich der Berge.</td>\n",
              "      <td>1</td>\n",
              "    </tr>\n",
              "    <tr>\n",
              "      <th>102070</th>\n",
              "      <td>Ã?Â?thique en toc</td>\n",
              "      <td>1</td>\n",
              "    </tr>\n",
              "  </tbody>\n",
              "</table>\n",
              "<p>102071 rows × 2 columns</p>\n",
              "</div>"
            ],
            "text/plain": [
              "                                               Book-Title  Rating-Count\n",
              "0        A Light in the Storm: The Civil War Diary of ...             1\n",
              "1                                            Dark Justice             1\n",
              "2        Earth Prayers From around the World: 365 Pray...             3\n",
              "3        Final Fantasy Anthology: Official Strategy Gu...             2\n",
              "4        Flight of Fancy: American Heiresses (Zebra Ba...             1\n",
              "...                                                   ...           ...\n",
              "102066                         Ã?Â?berfall auf hoher See.             1\n",
              "102067              Ã?Â?berleben in der WÃ?Â¼ste Danakil.             1\n",
              "102068                     Ã?Â?rger mit Produkt X. Roman.             2\n",
              "102069                              Ã?Â?stlich der Berge.             1\n",
              "102070                                  Ã?Â?thique en toc             1\n",
              "\n",
              "[102071 rows x 2 columns]"
            ]
          },
          "execution_count": 35,
          "metadata": {},
          "output_type": "execute_result"
        }
      ],
      "source": [
        "rating_count = books_rating.groupby(\"Book-Title\").count()[\"Book-Rating\"].reset_index()\n",
        "rating_count.rename(columns={'Book-Rating':'Rating-Count'},inplace=True)\n",
        "rating_count"
      ]
    },
    {
      "cell_type": "code",
      "execution_count": null,
      "id": "8c64eb15-6efe-40d7-8a9c-92f2eac99d1c",
      "metadata": {
        "id": "8c64eb15-6efe-40d7-8a9c-92f2eac99d1c",
        "outputId": "ddf9f0a8-0b1c-42ab-bc04-dfbeaef7c596"
      },
      "outputs": [
        {
          "name": "stdout",
          "output_type": "stream",
          "text": [
            "                                               Book-Title  Average-Rating\n",
            "0        A Light in the Storm: The Civil War Diary of ...        9.000000\n",
            "1                                            Dark Justice       10.000000\n",
            "2        Earth Prayers From around the World: 365 Pray...        8.666667\n",
            "3        Final Fantasy Anthology: Official Strategy Gu...       10.000000\n",
            "4        Flight of Fancy: American Heiresses (Zebra Ba...        8.000000\n",
            "...                                                   ...             ...\n",
            "102066                         Ã?Â?berfall auf hoher See.        7.000000\n",
            "102067              Ã?Â?berleben in der WÃ?Â¼ste Danakil.        5.000000\n",
            "102068                     Ã?Â?rger mit Produkt X. Roman.        7.000000\n",
            "102069                              Ã?Â?stlich der Berge.        8.000000\n",
            "102070                                  Ã?Â?thique en toc        8.000000\n",
            "\n",
            "[102071 rows x 2 columns]\n"
          ]
        }
      ],
      "source": [
        "books_rating['Book-Rating'] = pd.to_numeric(books_rating['Book-Rating'], errors='coerce')\n",
        "\n",
        "# Step 2: Drop rows with NaN values in 'Book-Rating'\n",
        "books_rating = books_rating.dropna(subset=['Book-Rating'])\n",
        "\n",
        "# Step 3: Ensure the column is numeric\n",
        "books_rating['Book-Rating'] = books_rating['Book-Rating'].astype(float)\n",
        "\n",
        "# Step 4: Group by 'Book-Title' and calculate the mean of 'Book-Rating'\n",
        "ratings_avg = books_rating.groupby('Book-Title')['Book-Rating'].mean().reset_index()\n",
        "ratings_avg.rename(columns={'Book-Rating': 'Average-Rating'}, inplace=True)\n",
        "\n",
        "# Output the resulting DataFrame\n",
        "print(ratings_avg)\n"
      ]
    },
    {
      "cell_type": "code",
      "execution_count": null,
      "id": "38c93524",
      "metadata": {
        "scrolled": true,
        "id": "38c93524",
        "outputId": "48a99482-a273-4978-bce0-3d890c47d9cf"
      },
      "outputs": [
        {
          "data": {
            "text/html": [
              "<div>\n",
              "<style scoped>\n",
              "    .dataframe tbody tr th:only-of-type {\n",
              "        vertical-align: middle;\n",
              "    }\n",
              "\n",
              "    .dataframe tbody tr th {\n",
              "        vertical-align: top;\n",
              "    }\n",
              "\n",
              "    .dataframe thead th {\n",
              "        text-align: right;\n",
              "    }\n",
              "</style>\n",
              "<table border=\"1\" class=\"dataframe\">\n",
              "  <thead>\n",
              "    <tr style=\"text-align: right;\">\n",
              "      <th></th>\n",
              "      <th>Book-Title</th>\n",
              "      <th>Rating-Count</th>\n",
              "      <th>Average-Rating</th>\n",
              "    </tr>\n",
              "  </thead>\n",
              "  <tbody>\n",
              "    <tr>\n",
              "      <th>0</th>\n",
              "      <td>A Light in the Storm: The Civil War Diary of ...</td>\n",
              "      <td>1</td>\n",
              "      <td>9.000000</td>\n",
              "    </tr>\n",
              "    <tr>\n",
              "      <th>1</th>\n",
              "      <td>Dark Justice</td>\n",
              "      <td>1</td>\n",
              "      <td>10.000000</td>\n",
              "    </tr>\n",
              "    <tr>\n",
              "      <th>2</th>\n",
              "      <td>Earth Prayers From around the World: 365 Pray...</td>\n",
              "      <td>3</td>\n",
              "      <td>8.666667</td>\n",
              "    </tr>\n",
              "    <tr>\n",
              "      <th>3</th>\n",
              "      <td>Final Fantasy Anthology: Official Strategy Gu...</td>\n",
              "      <td>2</td>\n",
              "      <td>10.000000</td>\n",
              "    </tr>\n",
              "    <tr>\n",
              "      <th>4</th>\n",
              "      <td>Flight of Fancy: American Heiresses (Zebra Ba...</td>\n",
              "      <td>1</td>\n",
              "      <td>8.000000</td>\n",
              "    </tr>\n",
              "    <tr>\n",
              "      <th>...</th>\n",
              "      <td>...</td>\n",
              "      <td>...</td>\n",
              "      <td>...</td>\n",
              "    </tr>\n",
              "    <tr>\n",
              "      <th>102066</th>\n",
              "      <td>Ã?Â?berfall auf hoher See.</td>\n",
              "      <td>1</td>\n",
              "      <td>7.000000</td>\n",
              "    </tr>\n",
              "    <tr>\n",
              "      <th>102067</th>\n",
              "      <td>Ã?Â?berleben in der WÃ?Â¼ste Danakil.</td>\n",
              "      <td>1</td>\n",
              "      <td>5.000000</td>\n",
              "    </tr>\n",
              "    <tr>\n",
              "      <th>102068</th>\n",
              "      <td>Ã?Â?rger mit Produkt X. Roman.</td>\n",
              "      <td>2</td>\n",
              "      <td>7.000000</td>\n",
              "    </tr>\n",
              "    <tr>\n",
              "      <th>102069</th>\n",
              "      <td>Ã?Â?stlich der Berge.</td>\n",
              "      <td>1</td>\n",
              "      <td>8.000000</td>\n",
              "    </tr>\n",
              "    <tr>\n",
              "      <th>102070</th>\n",
              "      <td>Ã?Â?thique en toc</td>\n",
              "      <td>1</td>\n",
              "      <td>8.000000</td>\n",
              "    </tr>\n",
              "  </tbody>\n",
              "</table>\n",
              "<p>102071 rows × 3 columns</p>\n",
              "</div>"
            ],
            "text/plain": [
              "                                               Book-Title  Rating-Count  \\\n",
              "0        A Light in the Storm: The Civil War Diary of ...             1   \n",
              "1                                            Dark Justice             1   \n",
              "2        Earth Prayers From around the World: 365 Pray...             3   \n",
              "3        Final Fantasy Anthology: Official Strategy Gu...             2   \n",
              "4        Flight of Fancy: American Heiresses (Zebra Ba...             1   \n",
              "...                                                   ...           ...   \n",
              "102066                         Ã?Â?berfall auf hoher See.             1   \n",
              "102067              Ã?Â?berleben in der WÃ?Â¼ste Danakil.             1   \n",
              "102068                     Ã?Â?rger mit Produkt X. Roman.             2   \n",
              "102069                              Ã?Â?stlich der Berge.             1   \n",
              "102070                                  Ã?Â?thique en toc             1   \n",
              "\n",
              "        Average-Rating  \n",
              "0             9.000000  \n",
              "1            10.000000  \n",
              "2             8.666667  \n",
              "3            10.000000  \n",
              "4             8.000000  \n",
              "...                ...  \n",
              "102066        7.000000  \n",
              "102067        5.000000  \n",
              "102068        7.000000  \n",
              "102069        8.000000  \n",
              "102070        8.000000  \n",
              "\n",
              "[102071 rows x 3 columns]"
            ]
          },
          "execution_count": 37,
          "metadata": {},
          "output_type": "execute_result"
        }
      ],
      "source": [
        "popular = rating_count.merge(ratings_avg, on=\"Book-Title\")\n",
        "popular"
      ]
    },
    {
      "cell_type": "code",
      "execution_count": null,
      "id": "86715337",
      "metadata": {
        "scrolled": true,
        "id": "86715337",
        "outputId": "88eb8d42-f670-4b36-c72c-4b541bd67d65"
      },
      "outputs": [
        {
          "data": {
            "text/html": [
              "<div>\n",
              "<style scoped>\n",
              "    .dataframe tbody tr th:only-of-type {\n",
              "        vertical-align: middle;\n",
              "    }\n",
              "\n",
              "    .dataframe tbody tr th {\n",
              "        vertical-align: top;\n",
              "    }\n",
              "\n",
              "    .dataframe thead th {\n",
              "        text-align: right;\n",
              "    }\n",
              "</style>\n",
              "<table border=\"1\" class=\"dataframe\">\n",
              "  <thead>\n",
              "    <tr style=\"text-align: right;\">\n",
              "      <th></th>\n",
              "      <th>Rating-Count</th>\n",
              "      <th>Average-Rating</th>\n",
              "    </tr>\n",
              "  </thead>\n",
              "  <tbody>\n",
              "    <tr>\n",
              "      <th>count</th>\n",
              "      <td>102071.000000</td>\n",
              "      <td>102071.000000</td>\n",
              "    </tr>\n",
              "    <tr>\n",
              "      <th>mean</th>\n",
              "      <td>2.437999</td>\n",
              "      <td>7.582783</td>\n",
              "    </tr>\n",
              "    <tr>\n",
              "      <th>std</th>\n",
              "      <td>6.708038</td>\n",
              "      <td>1.705396</td>\n",
              "    </tr>\n",
              "    <tr>\n",
              "      <th>min</th>\n",
              "      <td>1.000000</td>\n",
              "      <td>1.000000</td>\n",
              "    </tr>\n",
              "    <tr>\n",
              "      <th>25%</th>\n",
              "      <td>1.000000</td>\n",
              "      <td>6.750000</td>\n",
              "    </tr>\n",
              "    <tr>\n",
              "      <th>50%</th>\n",
              "      <td>1.000000</td>\n",
              "      <td>8.000000</td>\n",
              "    </tr>\n",
              "    <tr>\n",
              "      <th>75%</th>\n",
              "      <td>2.000000</td>\n",
              "      <td>9.000000</td>\n",
              "    </tr>\n",
              "    <tr>\n",
              "      <th>max</th>\n",
              "      <td>456.000000</td>\n",
              "      <td>10.000000</td>\n",
              "    </tr>\n",
              "  </tbody>\n",
              "</table>\n",
              "</div>"
            ],
            "text/plain": [
              "        Rating-Count  Average-Rating\n",
              "count  102071.000000   102071.000000\n",
              "mean        2.437999        7.582783\n",
              "std         6.708038        1.705396\n",
              "min         1.000000        1.000000\n",
              "25%         1.000000        6.750000\n",
              "50%         1.000000        8.000000\n",
              "75%         2.000000        9.000000\n",
              "max       456.000000       10.000000"
            ]
          },
          "execution_count": 38,
          "metadata": {},
          "output_type": "execute_result"
        }
      ],
      "source": [
        "popular.describe()"
      ]
    },
    {
      "cell_type": "code",
      "execution_count": null,
      "id": "94462d5f",
      "metadata": {
        "id": "94462d5f",
        "outputId": "f0ad691e-fd49-4bca-d7b3-419127f1516e"
      },
      "outputs": [
        {
          "data": {
            "text/html": [
              "<div>\n",
              "<style scoped>\n",
              "    .dataframe tbody tr th:only-of-type {\n",
              "        vertical-align: middle;\n",
              "    }\n",
              "\n",
              "    .dataframe tbody tr th {\n",
              "        vertical-align: top;\n",
              "    }\n",
              "\n",
              "    .dataframe thead th {\n",
              "        text-align: right;\n",
              "    }\n",
              "</style>\n",
              "<table border=\"1\" class=\"dataframe\">\n",
              "  <thead>\n",
              "    <tr style=\"text-align: right;\">\n",
              "      <th></th>\n",
              "      <th>Book-Title</th>\n",
              "      <th>Rating-Count</th>\n",
              "      <th>Average-Rating</th>\n",
              "    </tr>\n",
              "  </thead>\n",
              "  <tbody>\n",
              "    <tr>\n",
              "      <th>86751</th>\n",
              "      <td>The Return of the King (The Lord of the Rings,...</td>\n",
              "      <td>64</td>\n",
              "      <td>9.390625</td>\n",
              "    </tr>\n",
              "    <tr>\n",
              "      <th>89756</th>\n",
              "      <td>The Two Towers (The Lord of the Rings, Part 2)</td>\n",
              "      <td>91</td>\n",
              "      <td>9.307692</td>\n",
              "    </tr>\n",
              "    <tr>\n",
              "      <th>34086</th>\n",
              "      <td>Harry Potter and the Goblet of Fire (Book 4)</td>\n",
              "      <td>141</td>\n",
              "      <td>9.021277</td>\n",
              "    </tr>\n",
              "    <tr>\n",
              "      <th>82701</th>\n",
              "      <td>The Little Prince</td>\n",
              "      <td>57</td>\n",
              "      <td>9.017544</td>\n",
              "    </tr>\n",
              "    <tr>\n",
              "      <th>34097</th>\n",
              "      <td>Harry Potter and the Prisoner of Azkaban (Book 3)</td>\n",
              "      <td>163</td>\n",
              "      <td>8.993865</td>\n",
              "    </tr>\n",
              "    <tr>\n",
              "      <th>34104</th>\n",
              "      <td>Harry Potter and the Sorcerer's Stone (Book 1)</td>\n",
              "      <td>109</td>\n",
              "      <td>8.981651</td>\n",
              "    </tr>\n",
              "    <tr>\n",
              "      <th>25892</th>\n",
              "      <td>Ender's Game (Ender Wiggins Saga (Paperback))</td>\n",
              "      <td>94</td>\n",
              "      <td>8.968085</td>\n",
              "    </tr>\n",
              "    <tr>\n",
              "      <th>34089</th>\n",
              "      <td>Harry Potter and the Order of the Phoenix (Boo...</td>\n",
              "      <td>129</td>\n",
              "      <td>8.961240</td>\n",
              "    </tr>\n",
              "    <tr>\n",
              "      <th>93196</th>\n",
              "      <td>To Kill a Mockingbird</td>\n",
              "      <td>171</td>\n",
              "      <td>8.953216</td>\n",
              "    </tr>\n",
              "    <tr>\n",
              "      <th>34107</th>\n",
              "      <td>Harry Potter and the Sorcerer's Stone (Harry P...</td>\n",
              "      <td>201</td>\n",
              "      <td>8.915423</td>\n",
              "    </tr>\n",
              "    <tr>\n",
              "      <th>6373</th>\n",
              "      <td>Anne Frank: The Diary of a Young Girl</td>\n",
              "      <td>58</td>\n",
              "      <td>8.896552</td>\n",
              "    </tr>\n",
              "    <tr>\n",
              "      <th>78940</th>\n",
              "      <td>The Fellowship of the Ring (The Lord of the Ri...</td>\n",
              "      <td>133</td>\n",
              "      <td>8.879699</td>\n",
              "    </tr>\n",
              "    <tr>\n",
              "      <th>79811</th>\n",
              "      <td>The Giver (21st Century Reference)</td>\n",
              "      <td>61</td>\n",
              "      <td>8.819672</td>\n",
              "    </tr>\n",
              "    <tr>\n",
              "      <th>34080</th>\n",
              "      <td>Harry Potter and the Chamber of Secrets (Book 2)</td>\n",
              "      <td>211</td>\n",
              "      <td>8.805687</td>\n",
              "    </tr>\n",
              "    <tr>\n",
              "      <th>88786</th>\n",
              "      <td>The Subtle Knife (His Dark Materials, Book 2)</td>\n",
              "      <td>69</td>\n",
              "      <td>8.782609</td>\n",
              "    </tr>\n",
              "    <tr>\n",
              "      <th>2458</th>\n",
              "      <td>A Prayer for Owen Meany</td>\n",
              "      <td>120</td>\n",
              "      <td>8.766667</td>\n",
              "    </tr>\n",
              "    <tr>\n",
              "      <th>80831</th>\n",
              "      <td>The Hobbit : The Enchanting Prelude to The Lor...</td>\n",
              "      <td>104</td>\n",
              "      <td>8.759615</td>\n",
              "    </tr>\n",
              "    <tr>\n",
              "      <th>27278</th>\n",
              "      <td>Fahrenheit 451</td>\n",
              "      <td>128</td>\n",
              "      <td>8.679688</td>\n",
              "    </tr>\n",
              "    <tr>\n",
              "      <th>80815</th>\n",
              "      <td>The Hitchhiker's Guide to the Galaxy</td>\n",
              "      <td>88</td>\n",
              "      <td>8.670455</td>\n",
              "    </tr>\n",
              "    <tr>\n",
              "      <th>318</th>\n",
              "      <td>1984</td>\n",
              "      <td>100</td>\n",
              "      <td>8.670000</td>\n",
              "    </tr>\n",
              "    <tr>\n",
              "      <th>76381</th>\n",
              "      <td>The Color Purple</td>\n",
              "      <td>93</td>\n",
              "      <td>8.666667</td>\n",
              "    </tr>\n",
              "    <tr>\n",
              "      <th>60424</th>\n",
              "      <td>Pride and Prejudice</td>\n",
              "      <td>54</td>\n",
              "      <td>8.666667</td>\n",
              "    </tr>\n",
              "    <tr>\n",
              "      <th>94593</th>\n",
              "      <td>Tuesdays with Morrie: An Old Man, a Young Man,...</td>\n",
              "      <td>156</td>\n",
              "      <td>8.615385</td>\n",
              "    </tr>\n",
              "    <tr>\n",
              "      <th>78023</th>\n",
              "      <td>The Drawing of the Three (The Dark Tower, Book 2)</td>\n",
              "      <td>51</td>\n",
              "      <td>8.607843</td>\n",
              "    </tr>\n",
              "    <tr>\n",
              "      <th>76183</th>\n",
              "      <td>The Clan of the Cave Bear (Earth's Children (P...</td>\n",
              "      <td>52</td>\n",
              "      <td>8.576923</td>\n",
              "    </tr>\n",
              "    <tr>\n",
              "      <th>3394</th>\n",
              "      <td>A Wrinkle in Time</td>\n",
              "      <td>66</td>\n",
              "      <td>8.575758</td>\n",
              "    </tr>\n",
              "    <tr>\n",
              "      <th>87566</th>\n",
              "      <td>The Secret Life of Bees</td>\n",
              "      <td>273</td>\n",
              "      <td>8.575092</td>\n",
              "    </tr>\n",
              "    <tr>\n",
              "      <th>23409</th>\n",
              "      <td>Dragonfly in Amber</td>\n",
              "      <td>56</td>\n",
              "      <td>8.571429</td>\n",
              "    </tr>\n",
              "    <tr>\n",
              "      <th>85812</th>\n",
              "      <td>The Poisonwood Bible</td>\n",
              "      <td>71</td>\n",
              "      <td>8.549296</td>\n",
              "    </tr>\n",
              "    <tr>\n",
              "      <th>65527</th>\n",
              "      <td>Seabiscuit: An American Legend</td>\n",
              "      <td>77</td>\n",
              "      <td>8.545455</td>\n",
              "    </tr>\n",
              "    <tr>\n",
              "      <th>30165</th>\n",
              "      <td>Fried Green Tomatoes at the Whistle Stop Cafe</td>\n",
              "      <td>85</td>\n",
              "      <td>8.541176</td>\n",
              "    </tr>\n",
              "    <tr>\n",
              "      <th>72552</th>\n",
              "      <td>Tears of the Giraffe (No.1 Ladies Detective Ag...</td>\n",
              "      <td>69</td>\n",
              "      <td>8.507246</td>\n",
              "    </tr>\n",
              "    <tr>\n",
              "      <th>85674</th>\n",
              "      <td>The Pillars of the Earth</td>\n",
              "      <td>58</td>\n",
              "      <td>8.500000</td>\n",
              "    </tr>\n",
              "    <tr>\n",
              "      <th>97631</th>\n",
              "      <td>Watership Down</td>\n",
              "      <td>86</td>\n",
              "      <td>8.500000</td>\n",
              "    </tr>\n",
              "    <tr>\n",
              "      <th>83895</th>\n",
              "      <td>The Mists of Avalon</td>\n",
              "      <td>61</td>\n",
              "      <td>8.491803</td>\n",
              "    </tr>\n",
              "    <tr>\n",
              "      <th>54615</th>\n",
              "      <td>Night</td>\n",
              "      <td>66</td>\n",
              "      <td>8.469697</td>\n",
              "    </tr>\n",
              "    <tr>\n",
              "      <th>85098</th>\n",
              "      <td>The Other Boleyn Girl</td>\n",
              "      <td>64</td>\n",
              "      <td>8.468750</td>\n",
              "    </tr>\n",
              "    <tr>\n",
              "      <th>57435</th>\n",
              "      <td>Outlander</td>\n",
              "      <td>93</td>\n",
              "      <td>8.462366</td>\n",
              "    </tr>\n",
              "    <tr>\n",
              "      <th>67193</th>\n",
              "      <td>Siddhartha</td>\n",
              "      <td>55</td>\n",
              "      <td>8.436364</td>\n",
              "    </tr>\n",
              "    <tr>\n",
              "      <th>6140</th>\n",
              "      <td>Angela's Ashes: A Memoir</td>\n",
              "      <td>53</td>\n",
              "      <td>8.433962</td>\n",
              "    </tr>\n",
              "    <tr>\n",
              "      <th>77192</th>\n",
              "      <td>The Da Vinci Code</td>\n",
              "      <td>315</td>\n",
              "      <td>8.412698</td>\n",
              "    </tr>\n",
              "    <tr>\n",
              "      <th>3660</th>\n",
              "      <td>ANGELA'S ASHES</td>\n",
              "      <td>88</td>\n",
              "      <td>8.397727</td>\n",
              "    </tr>\n",
              "    <tr>\n",
              "      <th>13738</th>\n",
              "      <td>Catch 22</td>\n",
              "      <td>51</td>\n",
              "      <td>8.392157</td>\n",
              "    </tr>\n",
              "    <tr>\n",
              "      <th>80475</th>\n",
              "      <td>The Handmaid's Tale</td>\n",
              "      <td>79</td>\n",
              "      <td>8.379747</td>\n",
              "    </tr>\n",
              "    <tr>\n",
              "      <th>74151</th>\n",
              "      <td>The Bean Trees</td>\n",
              "      <td>124</td>\n",
              "      <td>8.370968</td>\n",
              "    </tr>\n",
              "    <tr>\n",
              "      <th>80280</th>\n",
              "      <td>The Green Mile</td>\n",
              "      <td>81</td>\n",
              "      <td>8.370370</td>\n",
              "    </tr>\n",
              "    <tr>\n",
              "      <th>9240</th>\n",
              "      <td>Bel Canto: A Novel</td>\n",
              "      <td>103</td>\n",
              "      <td>8.368932</td>\n",
              "    </tr>\n",
              "    <tr>\n",
              "      <th>60718</th>\n",
              "      <td>Prodigal Summer</td>\n",
              "      <td>55</td>\n",
              "      <td>8.363636</td>\n",
              "    </tr>\n",
              "    <tr>\n",
              "      <th>35294</th>\n",
              "      <td>High Five (A Stephanie Plum Novel)</td>\n",
              "      <td>58</td>\n",
              "      <td>8.362069</td>\n",
              "    </tr>\n",
              "    <tr>\n",
              "      <th>76391</th>\n",
              "      <td>The Color of Water: A Black Man's Tribute to H...</td>\n",
              "      <td>74</td>\n",
              "      <td>8.351351</td>\n",
              "    </tr>\n",
              "  </tbody>\n",
              "</table>\n",
              "</div>"
            ],
            "text/plain": [
              "                                              Book-Title  Rating-Count  \\\n",
              "86751  The Return of the King (The Lord of the Rings,...            64   \n",
              "89756     The Two Towers (The Lord of the Rings, Part 2)            91   \n",
              "34086       Harry Potter and the Goblet of Fire (Book 4)           141   \n",
              "82701                                  The Little Prince            57   \n",
              "34097  Harry Potter and the Prisoner of Azkaban (Book 3)           163   \n",
              "34104     Harry Potter and the Sorcerer's Stone (Book 1)           109   \n",
              "25892      Ender's Game (Ender Wiggins Saga (Paperback))            94   \n",
              "34089  Harry Potter and the Order of the Phoenix (Boo...           129   \n",
              "93196                              To Kill a Mockingbird           171   \n",
              "34107  Harry Potter and the Sorcerer's Stone (Harry P...           201   \n",
              "6373               Anne Frank: The Diary of a Young Girl            58   \n",
              "78940  The Fellowship of the Ring (The Lord of the Ri...           133   \n",
              "79811                 The Giver (21st Century Reference)            61   \n",
              "34080   Harry Potter and the Chamber of Secrets (Book 2)           211   \n",
              "88786      The Subtle Knife (His Dark Materials, Book 2)            69   \n",
              "2458                             A Prayer for Owen Meany           120   \n",
              "80831  The Hobbit : The Enchanting Prelude to The Lor...           104   \n",
              "27278                                     Fahrenheit 451           128   \n",
              "80815               The Hitchhiker's Guide to the Galaxy            88   \n",
              "318                                                 1984           100   \n",
              "76381                                   The Color Purple            93   \n",
              "60424                                Pride and Prejudice            54   \n",
              "94593  Tuesdays with Morrie: An Old Man, a Young Man,...           156   \n",
              "78023  The Drawing of the Three (The Dark Tower, Book 2)            51   \n",
              "76183  The Clan of the Cave Bear (Earth's Children (P...            52   \n",
              "3394                                   A Wrinkle in Time            66   \n",
              "87566                            The Secret Life of Bees           273   \n",
              "23409                                 Dragonfly in Amber            56   \n",
              "85812                               The Poisonwood Bible            71   \n",
              "65527                     Seabiscuit: An American Legend            77   \n",
              "30165      Fried Green Tomatoes at the Whistle Stop Cafe            85   \n",
              "72552  Tears of the Giraffe (No.1 Ladies Detective Ag...            69   \n",
              "85674                           The Pillars of the Earth            58   \n",
              "97631                                     Watership Down            86   \n",
              "83895                                The Mists of Avalon            61   \n",
              "54615                                              Night            66   \n",
              "85098                              The Other Boleyn Girl            64   \n",
              "57435                                          Outlander            93   \n",
              "67193                                         Siddhartha            55   \n",
              "6140                            Angela's Ashes: A Memoir            53   \n",
              "77192                                  The Da Vinci Code           315   \n",
              "3660                                      ANGELA'S ASHES            88   \n",
              "13738                                           Catch 22            51   \n",
              "80475                                The Handmaid's Tale            79   \n",
              "74151                                     The Bean Trees           124   \n",
              "80280                                     The Green Mile            81   \n",
              "9240                                  Bel Canto: A Novel           103   \n",
              "60718                                    Prodigal Summer            55   \n",
              "35294                 High Five (A Stephanie Plum Novel)            58   \n",
              "76391  The Color of Water: A Black Man's Tribute to H...            74   \n",
              "\n",
              "       Average-Rating  \n",
              "86751        9.390625  \n",
              "89756        9.307692  \n",
              "34086        9.021277  \n",
              "82701        9.017544  \n",
              "34097        8.993865  \n",
              "34104        8.981651  \n",
              "25892        8.968085  \n",
              "34089        8.961240  \n",
              "93196        8.953216  \n",
              "34107        8.915423  \n",
              "6373         8.896552  \n",
              "78940        8.879699  \n",
              "79811        8.819672  \n",
              "34080        8.805687  \n",
              "88786        8.782609  \n",
              "2458         8.766667  \n",
              "80831        8.759615  \n",
              "27278        8.679688  \n",
              "80815        8.670455  \n",
              "318          8.670000  \n",
              "76381        8.666667  \n",
              "60424        8.666667  \n",
              "94593        8.615385  \n",
              "78023        8.607843  \n",
              "76183        8.576923  \n",
              "3394         8.575758  \n",
              "87566        8.575092  \n",
              "23409        8.571429  \n",
              "85812        8.549296  \n",
              "65527        8.545455  \n",
              "30165        8.541176  \n",
              "72552        8.507246  \n",
              "85674        8.500000  \n",
              "97631        8.500000  \n",
              "83895        8.491803  \n",
              "54615        8.469697  \n",
              "85098        8.468750  \n",
              "57435        8.462366  \n",
              "67193        8.436364  \n",
              "6140         8.433962  \n",
              "77192        8.412698  \n",
              "3660         8.397727  \n",
              "13738        8.392157  \n",
              "80475        8.379747  \n",
              "74151        8.370968  \n",
              "80280        8.370370  \n",
              "9240         8.368932  \n",
              "60718        8.363636  \n",
              "35294        8.362069  \n",
              "76391        8.351351  "
            ]
          },
          "execution_count": 39,
          "metadata": {},
          "output_type": "execute_result"
        }
      ],
      "source": [
        "top_50 = popular[popular[\"Rating-Count\"]>50].sort_values(\"Average-Rating\", ascending=False).head(50)\n",
        "top_50"
      ]
    },
    {
      "cell_type": "code",
      "execution_count": null,
      "id": "5a306665",
      "metadata": {
        "id": "5a306665",
        "outputId": "80baea9b-2c1f-4d30-a20d-a2875261acfd"
      },
      "outputs": [
        {
          "data": {
            "image/png": "[encoded data removed]",
            "text/plain": [
              "<Figure size 800x1000 with 1 Axes>"
            ]
          },
          "metadata": {},
          "output_type": "display_data"
        }
      ],
      "source": [
        "plt.figure(figsize=(8, 10))\n",
        "sns.barplot(x = top_50[\"Average-Rating\"], y = top_50[\"Book-Title\"])\n",
        "plt.title('Average Rating of Top 50 Books')\n",
        "plt.show()"
      ]
    },
    {
      "cell_type": "markdown",
      "id": "3c0dfb30",
      "metadata": {
        "id": "3c0dfb30"
      },
      "source": [
        "#  Recommendation System based on Collaberative Filtering"
      ]
    },
    {
      "cell_type": "code",
      "execution_count": null,
      "id": "60eb84ca",
      "metadata": {
        "id": "60eb84ca"
      },
      "outputs": [],
      "source": [
        "## We will create a table showing list of user id's and their respective Rating Count (Number of times a user has rated)"
      ]
    },
    {
      "cell_type": "code",
      "execution_count": null,
      "id": "96cb4541",
      "metadata": {
        "id": "96cb4541",
        "outputId": "75dda4aa-0fcc-440c-f440-658131c44efa"
      },
      "outputs": [
        {
          "data": {
            "text/html": [
              "<div>\n",
              "<style scoped>\n",
              "    .dataframe tbody tr th:only-of-type {\n",
              "        vertical-align: middle;\n",
              "    }\n",
              "\n",
              "    .dataframe tbody tr th {\n",
              "        vertical-align: top;\n",
              "    }\n",
              "\n",
              "    .dataframe thead th {\n",
              "        text-align: right;\n",
              "    }\n",
              "</style>\n",
              "<table border=\"1\" class=\"dataframe\">\n",
              "  <thead>\n",
              "    <tr style=\"text-align: right;\">\n",
              "      <th></th>\n",
              "      <th>User-ID</th>\n",
              "      <th>ISBN</th>\n",
              "      <th>Book-Rating</th>\n",
              "      <th>Book-Title</th>\n",
              "      <th>Book-Author</th>\n",
              "      <th>Year-Of-Publication</th>\n",
              "      <th>Publisher</th>\n",
              "      <th>Image-URL-S</th>\n",
              "      <th>Image-URL-M</th>\n",
              "      <th>Image-URL-L</th>\n",
              "    </tr>\n",
              "  </thead>\n",
              "  <tbody>\n",
              "    <tr>\n",
              "      <th>0</th>\n",
              "      <td>276726</td>\n",
              "      <td>0155061224</td>\n",
              "      <td>5.0</td>\n",
              "      <td>Rites of Passage</td>\n",
              "      <td>Judith Rae</td>\n",
              "      <td>2001</td>\n",
              "      <td>Heinle</td>\n",
              "      <td>http://images.amazon.com/images/P/0155061224.0...</td>\n",
              "      <td>http://images.amazon.com/images/P/0155061224.0...</td>\n",
              "      <td>http://images.amazon.com/images/P/0155061224.0...</td>\n",
              "    </tr>\n",
              "    <tr>\n",
              "      <th>1</th>\n",
              "      <td>276729</td>\n",
              "      <td>052165615X</td>\n",
              "      <td>3.0</td>\n",
              "      <td>Help!: Level 1</td>\n",
              "      <td>Philip Prowse</td>\n",
              "      <td>1999</td>\n",
              "      <td>Cambridge University Press</td>\n",
              "      <td>http://images.amazon.com/images/P/052165615X.0...</td>\n",
              "      <td>http://images.amazon.com/images/P/052165615X.0...</td>\n",
              "      <td>http://images.amazon.com/images/P/052165615X.0...</td>\n",
              "    </tr>\n",
              "    <tr>\n",
              "      <th>2</th>\n",
              "      <td>276729</td>\n",
              "      <td>0521795028</td>\n",
              "      <td>6.0</td>\n",
              "      <td>The Amsterdam Connection : Level 4 (Cambridge ...</td>\n",
              "      <td>Sue Leather</td>\n",
              "      <td>2001</td>\n",
              "      <td>Cambridge University Press</td>\n",
              "      <td>http://images.amazon.com/images/P/0521795028.0...</td>\n",
              "      <td>http://images.amazon.com/images/P/0521795028.0...</td>\n",
              "      <td>http://images.amazon.com/images/P/0521795028.0...</td>\n",
              "    </tr>\n",
              "    <tr>\n",
              "      <th>3</th>\n",
              "      <td>276744</td>\n",
              "      <td>038550120X</td>\n",
              "      <td>7.0</td>\n",
              "      <td>A Painted House</td>\n",
              "      <td>JOHN GRISHAM</td>\n",
              "      <td>2001</td>\n",
              "      <td>Doubleday</td>\n",
              "      <td>http://images.amazon.com/images/P/038550120X.0...</td>\n",
              "      <td>http://images.amazon.com/images/P/038550120X.0...</td>\n",
              "      <td>http://images.amazon.com/images/P/038550120X.0...</td>\n",
              "    </tr>\n",
              "    <tr>\n",
              "      <th>4</th>\n",
              "      <td>11676</td>\n",
              "      <td>038550120X</td>\n",
              "      <td>10.0</td>\n",
              "      <td>A Painted House</td>\n",
              "      <td>JOHN GRISHAM</td>\n",
              "      <td>2001</td>\n",
              "      <td>Doubleday</td>\n",
              "      <td>http://images.amazon.com/images/P/038550120X.0...</td>\n",
              "      <td>http://images.amazon.com/images/P/038550120X.0...</td>\n",
              "      <td>http://images.amazon.com/images/P/038550120X.0...</td>\n",
              "    </tr>\n",
              "    <tr>\n",
              "      <th>...</th>\n",
              "      <td>...</td>\n",
              "      <td>...</td>\n",
              "      <td>...</td>\n",
              "      <td>...</td>\n",
              "      <td>...</td>\n",
              "      <td>...</td>\n",
              "      <td>...</td>\n",
              "      <td>...</td>\n",
              "      <td>...</td>\n",
              "      <td>...</td>\n",
              "    </tr>\n",
              "    <tr>\n",
              "      <th>248844</th>\n",
              "      <td>174683</td>\n",
              "      <td>1579540252</td>\n",
              "      <td>8.0</td>\n",
              "      <td>Extraordinary Togetherness: A Woman's Guide Lo...</td>\n",
              "      <td>Sari Harrar</td>\n",
              "      <td>1999</td>\n",
              "      <td>St. Martin's Press</td>\n",
              "      <td>http://images.amazon.com/images/P/1579540252.0...</td>\n",
              "      <td>http://images.amazon.com/images/P/1579540252.0...</td>\n",
              "      <td>http://images.amazon.com/images/P/1579540252.0...</td>\n",
              "    </tr>\n",
              "    <tr>\n",
              "      <th>248845</th>\n",
              "      <td>174683</td>\n",
              "      <td>1880283174</td>\n",
              "      <td>8.0</td>\n",
              "      <td>Parenting Your 1-to-4-Year Old</td>\n",
              "      <td>Michael H. Popkin</td>\n",
              "      <td>1996</td>\n",
              "      <td>Active Parenting Publishers</td>\n",
              "      <td>http://images.amazon.com/images/P/1880283174.0...</td>\n",
              "      <td>http://images.amazon.com/images/P/1880283174.0...</td>\n",
              "      <td>http://images.amazon.com/images/P/1880283174.0...</td>\n",
              "    </tr>\n",
              "    <tr>\n",
              "      <th>248846</th>\n",
              "      <td>174684</td>\n",
              "      <td>044652705X</td>\n",
              "      <td>9.0</td>\n",
              "      <td>Companions in Courage : Triumphant Tales of He...</td>\n",
              "      <td>Pat LaFontaine</td>\n",
              "      <td>2000</td>\n",
              "      <td>Time Warner Trade Publishing</td>\n",
              "      <td>http://images.amazon.com/images/P/044652705X.0...</td>\n",
              "      <td>http://images.amazon.com/images/P/044652705X.0...</td>\n",
              "      <td>http://images.amazon.com/images/P/044652705X.0...</td>\n",
              "    </tr>\n",
              "    <tr>\n",
              "      <th>248847</th>\n",
              "      <td>174687</td>\n",
              "      <td>080211699X</td>\n",
              "      <td>5.0</td>\n",
              "      <td>Personal Velocity</td>\n",
              "      <td>Rebecca Miller</td>\n",
              "      <td>2001</td>\n",
              "      <td>Grove Press</td>\n",
              "      <td>http://images.amazon.com/images/P/080211699X.0...</td>\n",
              "      <td>http://images.amazon.com/images/P/080211699X.0...</td>\n",
              "      <td>http://images.amazon.com/images/P/080211699X.0...</td>\n",
              "    </tr>\n",
              "    <tr>\n",
              "      <th>248848</th>\n",
              "      <td>174700</td>\n",
              "      <td>0002255146</td>\n",
              "      <td>9.0</td>\n",
              "      <td>Ice Lake</td>\n",
              "      <td>John Farrow</td>\n",
              "      <td>2001</td>\n",
              "      <td>HarperCollins Publishers</td>\n",
              "      <td>http://images.amazon.com/images/P/0002255146.0...</td>\n",
              "      <td>http://images.amazon.com/images/P/0002255146.0...</td>\n",
              "      <td>http://images.amazon.com/images/P/0002255146.0...</td>\n",
              "    </tr>\n",
              "  </tbody>\n",
              "</table>\n",
              "<p>248849 rows × 10 columns</p>\n",
              "</div>"
            ],
            "text/plain": [
              "        User-ID        ISBN  Book-Rating  \\\n",
              "0        276726  0155061224          5.0   \n",
              "1        276729  052165615X          3.0   \n",
              "2        276729  0521795028          6.0   \n",
              "3        276744  038550120X          7.0   \n",
              "4         11676  038550120X         10.0   \n",
              "...         ...         ...          ...   \n",
              "248844   174683  1579540252          8.0   \n",
              "248845   174683  1880283174          8.0   \n",
              "248846   174684  044652705X          9.0   \n",
              "248847   174687  080211699X          5.0   \n",
              "248848   174700  0002255146          9.0   \n",
              "\n",
              "                                               Book-Title        Book-Author  \\\n",
              "0                                        Rites of Passage         Judith Rae   \n",
              "1                                          Help!: Level 1      Philip Prowse   \n",
              "2       The Amsterdam Connection : Level 4 (Cambridge ...        Sue Leather   \n",
              "3                                         A Painted House       JOHN GRISHAM   \n",
              "4                                         A Painted House       JOHN GRISHAM   \n",
              "...                                                   ...                ...   \n",
              "248844  Extraordinary Togetherness: A Woman's Guide Lo...        Sari Harrar   \n",
              "248845                     Parenting Your 1-to-4-Year Old  Michael H. Popkin   \n",
              "248846  Companions in Courage : Triumphant Tales of He...     Pat LaFontaine   \n",
              "248847                                  Personal Velocity     Rebecca Miller   \n",
              "248848                                           Ice Lake        John Farrow   \n",
              "\n",
              "       Year-Of-Publication                     Publisher  \\\n",
              "0                     2001                        Heinle   \n",
              "1                     1999    Cambridge University Press   \n",
              "2                     2001    Cambridge University Press   \n",
              "3                     2001                     Doubleday   \n",
              "4                     2001                     Doubleday   \n",
              "...                    ...                           ...   \n",
              "248844                1999            St. Martin's Press   \n",
              "248845                1996   Active Parenting Publishers   \n",
              "248846                2000  Time Warner Trade Publishing   \n",
              "248847                2001                   Grove Press   \n",
              "248848                2001      HarperCollins Publishers   \n",
              "\n",
              "                                              Image-URL-S  \\\n",
              "0       http://images.amazon.com/images/P/0155061224.0...   \n",
              "1       http://images.amazon.com/images/P/052165615X.0...   \n",
              "2       http://images.amazon.com/images/P/0521795028.0...   \n",
              "3       http://images.amazon.com/images/P/038550120X.0...   \n",
              "4       http://images.amazon.com/images/P/038550120X.0...   \n",
              "...                                                   ...   \n",
              "248844  http://images.amazon.com/images/P/1579540252.0...   \n",
              "248845  http://images.amazon.com/images/P/1880283174.0...   \n",
              "248846  http://images.amazon.com/images/P/044652705X.0...   \n",
              "248847  http://images.amazon.com/images/P/080211699X.0...   \n",
              "248848  http://images.amazon.com/images/P/0002255146.0...   \n",
              "\n",
              "                                              Image-URL-M  \\\n",
              "0       http://images.amazon.com/images/P/0155061224.0...   \n",
              "1       http://images.amazon.com/images/P/052165615X.0...   \n",
              "2       http://images.amazon.com/images/P/0521795028.0...   \n",
              "3       http://images.amazon.com/images/P/038550120X.0...   \n",
              "4       http://images.amazon.com/images/P/038550120X.0...   \n",
              "...                                                   ...   \n",
              "248844  http://images.amazon.com/images/P/1579540252.0...   \n",
              "248845  http://images.amazon.com/images/P/1880283174.0...   \n",
              "248846  http://images.amazon.com/images/P/044652705X.0...   \n",
              "248847  http://images.amazon.com/images/P/080211699X.0...   \n",
              "248848  http://images.amazon.com/images/P/0002255146.0...   \n",
              "\n",
              "                                              Image-URL-L  \n",
              "0       http://images.amazon.com/images/P/0155061224.0...  \n",
              "1       http://images.amazon.com/images/P/052165615X.0...  \n",
              "2       http://images.amazon.com/images/P/0521795028.0...  \n",
              "3       http://images.amazon.com/images/P/038550120X.0...  \n",
              "4       http://images.amazon.com/images/P/038550120X.0...  \n",
              "...                                                   ...  \n",
              "248844  http://images.amazon.com/images/P/1579540252.0...  \n",
              "248845  http://images.amazon.com/images/P/1880283174.0...  \n",
              "248846  http://images.amazon.com/images/P/044652705X.0...  \n",
              "248847  http://images.amazon.com/images/P/080211699X.0...  \n",
              "248848  http://images.amazon.com/images/P/0002255146.0...  \n",
              "\n",
              "[248849 rows x 10 columns]"
            ]
          },
          "execution_count": 42,
          "metadata": {},
          "output_type": "execute_result"
        }
      ],
      "source": [
        "books_rating"
      ]
    },
    {
      "cell_type": "code",
      "execution_count": null,
      "id": "3554ba60",
      "metadata": {
        "id": "3554ba60"
      },
      "outputs": [],
      "source": [
        "a = books_rating.groupby(\"Book-Title\").count()[\"Book-Rating\"].reset_index()\n",
        "a.rename(columns={'Book-Rating':'Rating-Count'},inplace=True)\n",
        "a = a.sort_values(\"Rating-Count\", ascending=False)"
      ]
    },
    {
      "cell_type": "code",
      "execution_count": null,
      "id": "b211d735",
      "metadata": {
        "scrolled": true,
        "id": "b211d735",
        "outputId": "9049193b-1a86-4257-97b1-52acdc24ee09"
      },
      "outputs": [
        {
          "data": {
            "text/plain": [
              "<matplotlib.collections.PathCollection at 0x13e532054d0>"
            ]
          },
          "execution_count": 44,
          "metadata": {},
          "output_type": "execute_result"
        },
        {
          "data": {
            "image/png": "[encoded data removed]",
            "text/plain": [
              "<Figure size 640x480 with 1 Axes>"
            ]
          },
          "metadata": {},
          "output_type": "display_data"
        }
      ],
      "source": [
        "plt.scatter(x = a.index, y=a[\"Rating-Count\"])"
      ]
    },
    {
      "cell_type": "code",
      "execution_count": null,
      "id": "913db8e7",
      "metadata": {
        "id": "913db8e7",
        "outputId": "3a46e624-a125-435b-c010-a3267aba5d10"
      },
      "outputs": [
        {
          "data": {
            "text/html": [
              "<div>\n",
              "<style scoped>\n",
              "    .dataframe tbody tr th:only-of-type {\n",
              "        vertical-align: middle;\n",
              "    }\n",
              "\n",
              "    .dataframe tbody tr th {\n",
              "        vertical-align: top;\n",
              "    }\n",
              "\n",
              "    .dataframe thead th {\n",
              "        text-align: right;\n",
              "    }\n",
              "</style>\n",
              "<table border=\"1\" class=\"dataframe\">\n",
              "  <thead>\n",
              "    <tr style=\"text-align: right;\">\n",
              "      <th></th>\n",
              "      <th>Book-Title</th>\n",
              "      <th>Rating-Count</th>\n",
              "    </tr>\n",
              "  </thead>\n",
              "  <tbody>\n",
              "    <tr>\n",
              "      <th>83017</th>\n",
              "      <td>The Lovely Bones: A Novel</td>\n",
              "      <td>456</td>\n",
              "    </tr>\n",
              "    <tr>\n",
              "      <th>99588</th>\n",
              "      <td>Wild Animus</td>\n",
              "      <td>352</td>\n",
              "    </tr>\n",
              "    <tr>\n",
              "      <th>77192</th>\n",
              "      <td>The Da Vinci Code</td>\n",
              "      <td>315</td>\n",
              "    </tr>\n",
              "    <tr>\n",
              "      <th>87566</th>\n",
              "      <td>The Secret Life of Bees</td>\n",
              "      <td>273</td>\n",
              "    </tr>\n",
              "    <tr>\n",
              "      <th>84332</th>\n",
              "      <td>The Nanny Diaries: A Novel</td>\n",
              "      <td>260</td>\n",
              "    </tr>\n",
              "    <tr>\n",
              "      <th>...</th>\n",
              "      <td>...</td>\n",
              "      <td>...</td>\n",
              "    </tr>\n",
              "    <tr>\n",
              "      <th>51402</th>\n",
              "      <td>Model Behaviour</td>\n",
              "      <td>2</td>\n",
              "    </tr>\n",
              "    <tr>\n",
              "      <th>51401</th>\n",
              "      <td>Model Behavior</td>\n",
              "      <td>2</td>\n",
              "    </tr>\n",
              "    <tr>\n",
              "      <th>18948</th>\n",
              "      <td>Das Restaurant Am Ende Des Universums (Fiction...</td>\n",
              "      <td>2</td>\n",
              "    </tr>\n",
              "    <tr>\n",
              "      <th>90298</th>\n",
              "      <td>The Vulnerable Observer: Anthropology That Bre...</td>\n",
              "      <td>2</td>\n",
              "    </tr>\n",
              "    <tr>\n",
              "      <th>52115</th>\n",
              "      <td>Most Eligible Doctor (Silhouette Romance, 1692)</td>\n",
              "      <td>2</td>\n",
              "    </tr>\n",
              "  </tbody>\n",
              "</table>\n",
              "<p>32460 rows × 2 columns</p>\n",
              "</div>"
            ],
            "text/plain": [
              "                                              Book-Title  Rating-Count\n",
              "83017                          The Lovely Bones: A Novel           456\n",
              "99588                                        Wild Animus           352\n",
              "77192                                  The Da Vinci Code           315\n",
              "87566                            The Secret Life of Bees           273\n",
              "84332                         The Nanny Diaries: A Novel           260\n",
              "...                                                  ...           ...\n",
              "51402                                    Model Behaviour             2\n",
              "51401                                     Model Behavior             2\n",
              "18948  Das Restaurant Am Ende Des Universums (Fiction...             2\n",
              "90298  The Vulnerable Observer: Anthropology That Bre...             2\n",
              "52115    Most Eligible Doctor (Silhouette Romance, 1692)             2\n",
              "\n",
              "[32460 rows x 2 columns]"
            ]
          },
          "execution_count": 45,
          "metadata": {},
          "output_type": "execute_result"
        }
      ],
      "source": [
        "a[a[\"Rating-Count\"]>1]"
      ]
    },
    {
      "cell_type": "code",
      "execution_count": null,
      "id": "bc228aff",
      "metadata": {
        "id": "bc228aff",
        "outputId": "753970bf-cbd9-4d2c-e48e-98d22ffbb8d6"
      },
      "outputs": [
        {
          "data": {
            "text/html": [
              "<div>\n",
              "<style scoped>\n",
              "    .dataframe tbody tr th:only-of-type {\n",
              "        vertical-align: middle;\n",
              "    }\n",
              "\n",
              "    .dataframe tbody tr th {\n",
              "        vertical-align: top;\n",
              "    }\n",
              "\n",
              "    .dataframe thead th {\n",
              "        text-align: right;\n",
              "    }\n",
              "</style>\n",
              "<table border=\"1\" class=\"dataframe\">\n",
              "  <thead>\n",
              "    <tr style=\"text-align: right;\">\n",
              "      <th></th>\n",
              "      <th>Book-Title</th>\n",
              "      <th>Rating-Count</th>\n",
              "    </tr>\n",
              "  </thead>\n",
              "  <tbody>\n",
              "    <tr>\n",
              "      <th>83017</th>\n",
              "      <td>The Lovely Bones: A Novel</td>\n",
              "      <td>456</td>\n",
              "    </tr>\n",
              "    <tr>\n",
              "      <th>99588</th>\n",
              "      <td>Wild Animus</td>\n",
              "      <td>352</td>\n",
              "    </tr>\n",
              "    <tr>\n",
              "      <th>77192</th>\n",
              "      <td>The Da Vinci Code</td>\n",
              "      <td>315</td>\n",
              "    </tr>\n",
              "    <tr>\n",
              "      <th>87566</th>\n",
              "      <td>The Secret Life of Bees</td>\n",
              "      <td>273</td>\n",
              "    </tr>\n",
              "    <tr>\n",
              "      <th>84332</th>\n",
              "      <td>The Nanny Diaries: A Novel</td>\n",
              "      <td>260</td>\n",
              "    </tr>\n",
              "    <tr>\n",
              "      <th>...</th>\n",
              "      <td>...</td>\n",
              "      <td>...</td>\n",
              "    </tr>\n",
              "    <tr>\n",
              "      <th>40404</th>\n",
              "      <td>Janice Larouche's Strategies for Women at Work</td>\n",
              "      <td>1</td>\n",
              "    </tr>\n",
              "    <tr>\n",
              "      <th>40402</th>\n",
              "      <td>Jangan Kau Menangis</td>\n",
              "      <td>1</td>\n",
              "    </tr>\n",
              "    <tr>\n",
              "      <th>40401</th>\n",
              "      <td>Janet and Jackie: The Story of a Mother and He...</td>\n",
              "      <td>1</td>\n",
              "    </tr>\n",
              "    <tr>\n",
              "      <th>40400</th>\n",
              "      <td>Janet Hamm Needs a Date for the Dance</td>\n",
              "      <td>1</td>\n",
              "    </tr>\n",
              "    <tr>\n",
              "      <th>102070</th>\n",
              "      <td>Ã?Â?thique en toc</td>\n",
              "      <td>1</td>\n",
              "    </tr>\n",
              "  </tbody>\n",
              "</table>\n",
              "<p>102071 rows × 2 columns</p>\n",
              "</div>"
            ],
            "text/plain": [
              "                                               Book-Title  Rating-Count\n",
              "83017                           The Lovely Bones: A Novel           456\n",
              "99588                                         Wild Animus           352\n",
              "77192                                   The Da Vinci Code           315\n",
              "87566                             The Secret Life of Bees           273\n",
              "84332                          The Nanny Diaries: A Novel           260\n",
              "...                                                   ...           ...\n",
              "40404      Janice Larouche's Strategies for Women at Work             1\n",
              "40402                                 Jangan Kau Menangis             1\n",
              "40401   Janet and Jackie: The Story of a Mother and He...             1\n",
              "40400               Janet Hamm Needs a Date for the Dance             1\n",
              "102070                                  Ã?Â?thique en toc             1\n",
              "\n",
              "[102071 rows x 2 columns]"
            ]
          },
          "execution_count": 46,
          "metadata": {},
          "output_type": "execute_result"
        }
      ],
      "source": [
        "a"
      ]
    },
    {
      "cell_type": "code",
      "execution_count": null,
      "id": "0db5e6e3",
      "metadata": {
        "id": "0db5e6e3"
      },
      "outputs": [],
      "source": [
        "## We can see from above scatter plot that most of the users who have rated book are between 0-1000\n",
        "## We also observe further at 90% of books that have been rated are between 1-10.\n",
        "## Let us consider all userid's above 10 for our system. IE 6k User id's"
      ]
    },
    {
      "cell_type": "code",
      "execution_count": null,
      "id": "430f551e",
      "metadata": {
        "id": "430f551e",
        "outputId": "9e2d5468-fa1c-417e-b8e8-e8ba43d2a04a"
      },
      "outputs": [
        {
          "data": {
            "text/plain": [
              "Index([ 83017,  99588,  77192,  87566,  84332,  11855,  86613,   2282,  22548,\n",
              "        34080,\n",
              "       ...\n",
              "        40408,  40397,  40407,  40406,  40405,  40404,  40402,  40401,  40400,\n",
              "       102070],\n",
              "      dtype='int64', length=102071)"
            ]
          },
          "execution_count": 48,
          "metadata": {},
          "output_type": "execute_result"
        }
      ],
      "source": [
        "indexes = a.index\n",
        "indexes"
      ]
    },
    {
      "cell_type": "code",
      "execution_count": null,
      "id": "366ce8df",
      "metadata": {
        "scrolled": true,
        "id": "366ce8df",
        "outputId": "7b55c687-228c-472a-ffdf-3bc0f9b960ba"
      },
      "outputs": [
        {
          "data": {
            "text/html": [
              "<div>\n",
              "<style scoped>\n",
              "    .dataframe tbody tr th:only-of-type {\n",
              "        vertical-align: middle;\n",
              "    }\n",
              "\n",
              "    .dataframe tbody tr th {\n",
              "        vertical-align: top;\n",
              "    }\n",
              "\n",
              "    .dataframe thead th {\n",
              "        text-align: right;\n",
              "    }\n",
              "</style>\n",
              "<table border=\"1\" class=\"dataframe\">\n",
              "  <thead>\n",
              "    <tr style=\"text-align: right;\">\n",
              "      <th></th>\n",
              "      <th>User-ID</th>\n",
              "      <th>ISBN</th>\n",
              "      <th>Book-Rating</th>\n",
              "      <th>Book-Title</th>\n",
              "      <th>Book-Author</th>\n",
              "      <th>Year-Of-Publication</th>\n",
              "      <th>Publisher</th>\n",
              "      <th>Image-URL-S</th>\n",
              "      <th>Image-URL-M</th>\n",
              "      <th>Image-URL-L</th>\n",
              "    </tr>\n",
              "  </thead>\n",
              "  <tbody>\n",
              "    <tr>\n",
              "      <th>0</th>\n",
              "      <td>276726</td>\n",
              "      <td>0155061224</td>\n",
              "      <td>5.0</td>\n",
              "      <td>Rites of Passage</td>\n",
              "      <td>Judith Rae</td>\n",
              "      <td>2001</td>\n",
              "      <td>Heinle</td>\n",
              "      <td>http://images.amazon.com/images/P/0155061224.0...</td>\n",
              "      <td>http://images.amazon.com/images/P/0155061224.0...</td>\n",
              "      <td>http://images.amazon.com/images/P/0155061224.0...</td>\n",
              "    </tr>\n",
              "    <tr>\n",
              "      <th>1</th>\n",
              "      <td>276729</td>\n",
              "      <td>052165615X</td>\n",
              "      <td>3.0</td>\n",
              "      <td>Help!: Level 1</td>\n",
              "      <td>Philip Prowse</td>\n",
              "      <td>1999</td>\n",
              "      <td>Cambridge University Press</td>\n",
              "      <td>http://images.amazon.com/images/P/052165615X.0...</td>\n",
              "      <td>http://images.amazon.com/images/P/052165615X.0...</td>\n",
              "      <td>http://images.amazon.com/images/P/052165615X.0...</td>\n",
              "    </tr>\n",
              "    <tr>\n",
              "      <th>2</th>\n",
              "      <td>276729</td>\n",
              "      <td>0521795028</td>\n",
              "      <td>6.0</td>\n",
              "      <td>The Amsterdam Connection : Level 4 (Cambridge ...</td>\n",
              "      <td>Sue Leather</td>\n",
              "      <td>2001</td>\n",
              "      <td>Cambridge University Press</td>\n",
              "      <td>http://images.amazon.com/images/P/0521795028.0...</td>\n",
              "      <td>http://images.amazon.com/images/P/0521795028.0...</td>\n",
              "      <td>http://images.amazon.com/images/P/0521795028.0...</td>\n",
              "    </tr>\n",
              "    <tr>\n",
              "      <th>3</th>\n",
              "      <td>276744</td>\n",
              "      <td>038550120X</td>\n",
              "      <td>7.0</td>\n",
              "      <td>A Painted House</td>\n",
              "      <td>JOHN GRISHAM</td>\n",
              "      <td>2001</td>\n",
              "      <td>Doubleday</td>\n",
              "      <td>http://images.amazon.com/images/P/038550120X.0...</td>\n",
              "      <td>http://images.amazon.com/images/P/038550120X.0...</td>\n",
              "      <td>http://images.amazon.com/images/P/038550120X.0...</td>\n",
              "    </tr>\n",
              "    <tr>\n",
              "      <th>4</th>\n",
              "      <td>11676</td>\n",
              "      <td>038550120X</td>\n",
              "      <td>10.0</td>\n",
              "      <td>A Painted House</td>\n",
              "      <td>JOHN GRISHAM</td>\n",
              "      <td>2001</td>\n",
              "      <td>Doubleday</td>\n",
              "      <td>http://images.amazon.com/images/P/038550120X.0...</td>\n",
              "      <td>http://images.amazon.com/images/P/038550120X.0...</td>\n",
              "      <td>http://images.amazon.com/images/P/038550120X.0...</td>\n",
              "    </tr>\n",
              "    <tr>\n",
              "      <th>...</th>\n",
              "      <td>...</td>\n",
              "      <td>...</td>\n",
              "      <td>...</td>\n",
              "      <td>...</td>\n",
              "      <td>...</td>\n",
              "      <td>...</td>\n",
              "      <td>...</td>\n",
              "      <td>...</td>\n",
              "      <td>...</td>\n",
              "      <td>...</td>\n",
              "    </tr>\n",
              "    <tr>\n",
              "      <th>102066</th>\n",
              "      <td>148220</td>\n",
              "      <td>3499221489</td>\n",
              "      <td>10.0</td>\n",
              "      <td>Heimkehr.</td>\n",
              "      <td>Rosamunde Pilcher</td>\n",
              "      <td>1997</td>\n",
              "      <td>Rowohlt Tb.</td>\n",
              "      <td>http://images.amazon.com/images/P/3499221489.0...</td>\n",
              "      <td>http://images.amazon.com/images/P/3499221489.0...</td>\n",
              "      <td>http://images.amazon.com/images/P/3499221489.0...</td>\n",
              "    </tr>\n",
              "    <tr>\n",
              "      <th>102067</th>\n",
              "      <td>11676</td>\n",
              "      <td>3499224577</td>\n",
              "      <td>7.0</td>\n",
              "      <td>Die Verzauberung der Lily Dahl.</td>\n",
              "      <td>Siri Hustvedt</td>\n",
              "      <td>1999</td>\n",
              "      <td>Rowohlt Tb.</td>\n",
              "      <td>http://images.amazon.com/images/P/3499224577.0...</td>\n",
              "      <td>http://images.amazon.com/images/P/3499224577.0...</td>\n",
              "      <td>http://images.amazon.com/images/P/3499224577.0...</td>\n",
              "    </tr>\n",
              "    <tr>\n",
              "      <th>102068</th>\n",
              "      <td>11676</td>\n",
              "      <td>3499227002</td>\n",
              "      <td>4.0</td>\n",
              "      <td>Das Magazin.</td>\n",
              "      <td>Hellmuth Karasek</td>\n",
              "      <td>2000</td>\n",
              "      <td>Rowohlt Tb.</td>\n",
              "      <td>http://images.amazon.com/images/P/3499227002.0...</td>\n",
              "      <td>http://images.amazon.com/images/P/3499227002.0...</td>\n",
              "      <td>http://images.amazon.com/images/P/3499227002.0...</td>\n",
              "    </tr>\n",
              "    <tr>\n",
              "      <th>102069</th>\n",
              "      <td>28735</td>\n",
              "      <td>3499227002</td>\n",
              "      <td>3.0</td>\n",
              "      <td>Das Magazin.</td>\n",
              "      <td>Hellmuth Karasek</td>\n",
              "      <td>2000</td>\n",
              "      <td>Rowohlt Tb.</td>\n",
              "      <td>http://images.amazon.com/images/P/3499227002.0...</td>\n",
              "      <td>http://images.amazon.com/images/P/3499227002.0...</td>\n",
              "      <td>http://images.amazon.com/images/P/3499227002.0...</td>\n",
              "    </tr>\n",
              "    <tr>\n",
              "      <th>102070</th>\n",
              "      <td>142474</td>\n",
              "      <td>3499227002</td>\n",
              "      <td>5.0</td>\n",
              "      <td>Das Magazin.</td>\n",
              "      <td>Hellmuth Karasek</td>\n",
              "      <td>2000</td>\n",
              "      <td>Rowohlt Tb.</td>\n",
              "      <td>http://images.amazon.com/images/P/3499227002.0...</td>\n",
              "      <td>http://images.amazon.com/images/P/3499227002.0...</td>\n",
              "      <td>http://images.amazon.com/images/P/3499227002.0...</td>\n",
              "    </tr>\n",
              "  </tbody>\n",
              "</table>\n",
              "<p>102071 rows × 10 columns</p>\n",
              "</div>"
            ],
            "text/plain": [
              "        User-ID        ISBN  Book-Rating  \\\n",
              "0        276726  0155061224          5.0   \n",
              "1        276729  052165615X          3.0   \n",
              "2        276729  0521795028          6.0   \n",
              "3        276744  038550120X          7.0   \n",
              "4         11676  038550120X         10.0   \n",
              "...         ...         ...          ...   \n",
              "102066   148220  3499221489         10.0   \n",
              "102067    11676  3499224577          7.0   \n",
              "102068    11676  3499227002          4.0   \n",
              "102069    28735  3499227002          3.0   \n",
              "102070   142474  3499227002          5.0   \n",
              "\n",
              "                                               Book-Title        Book-Author  \\\n",
              "0                                        Rites of Passage         Judith Rae   \n",
              "1                                          Help!: Level 1      Philip Prowse   \n",
              "2       The Amsterdam Connection : Level 4 (Cambridge ...        Sue Leather   \n",
              "3                                         A Painted House       JOHN GRISHAM   \n",
              "4                                         A Painted House       JOHN GRISHAM   \n",
              "...                                                   ...                ...   \n",
              "102066                                          Heimkehr.  Rosamunde Pilcher   \n",
              "102067                    Die Verzauberung der Lily Dahl.      Siri Hustvedt   \n",
              "102068                                       Das Magazin.   Hellmuth Karasek   \n",
              "102069                                       Das Magazin.   Hellmuth Karasek   \n",
              "102070                                       Das Magazin.   Hellmuth Karasek   \n",
              "\n",
              "       Year-Of-Publication                   Publisher  \\\n",
              "0                     2001                      Heinle   \n",
              "1                     1999  Cambridge University Press   \n",
              "2                     2001  Cambridge University Press   \n",
              "3                     2001                   Doubleday   \n",
              "4                     2001                   Doubleday   \n",
              "...                    ...                         ...   \n",
              "102066                1997                 Rowohlt Tb.   \n",
              "102067                1999                 Rowohlt Tb.   \n",
              "102068                2000                 Rowohlt Tb.   \n",
              "102069                2000                 Rowohlt Tb.   \n",
              "102070                2000                 Rowohlt Tb.   \n",
              "\n",
              "                                              Image-URL-S  \\\n",
              "0       http://images.amazon.com/images/P/0155061224.0...   \n",
              "1       http://images.amazon.com/images/P/052165615X.0...   \n",
              "2       http://images.amazon.com/images/P/0521795028.0...   \n",
              "3       http://images.amazon.com/images/P/038550120X.0...   \n",
              "4       http://images.amazon.com/images/P/038550120X.0...   \n",
              "...                                                   ...   \n",
              "102066  http://images.amazon.com/images/P/3499221489.0...   \n",
              "102067  http://images.amazon.com/images/P/3499224577.0...   \n",
              "102068  http://images.amazon.com/images/P/3499227002.0...   \n",
              "102069  http://images.amazon.com/images/P/3499227002.0...   \n",
              "102070  http://images.amazon.com/images/P/3499227002.0...   \n",
              "\n",
              "                                              Image-URL-M  \\\n",
              "0       http://images.amazon.com/images/P/0155061224.0...   \n",
              "1       http://images.amazon.com/images/P/052165615X.0...   \n",
              "2       http://images.amazon.com/images/P/0521795028.0...   \n",
              "3       http://images.amazon.com/images/P/038550120X.0...   \n",
              "4       http://images.amazon.com/images/P/038550120X.0...   \n",
              "...                                                   ...   \n",
              "102066  http://images.amazon.com/images/P/3499221489.0...   \n",
              "102067  http://images.amazon.com/images/P/3499224577.0...   \n",
              "102068  http://images.amazon.com/images/P/3499227002.0...   \n",
              "102069  http://images.amazon.com/images/P/3499227002.0...   \n",
              "102070  http://images.amazon.com/images/P/3499227002.0...   \n",
              "\n",
              "                                              Image-URL-L  \n",
              "0       http://images.amazon.com/images/P/0155061224.0...  \n",
              "1       http://images.amazon.com/images/P/052165615X.0...  \n",
              "2       http://images.amazon.com/images/P/0521795028.0...  \n",
              "3       http://images.amazon.com/images/P/038550120X.0...  \n",
              "4       http://images.amazon.com/images/P/038550120X.0...  \n",
              "...                                                   ...  \n",
              "102066  http://images.amazon.com/images/P/3499221489.0...  \n",
              "102067  http://images.amazon.com/images/P/3499224577.0...  \n",
              "102068  http://images.amazon.com/images/P/3499227002.0...  \n",
              "102069  http://images.amazon.com/images/P/3499227002.0...  \n",
              "102070  http://images.amazon.com/images/P/3499227002.0...  \n",
              "\n",
              "[102071 rows x 10 columns]"
            ]
          },
          "execution_count": 49,
          "metadata": {},
          "output_type": "execute_result"
        }
      ],
      "source": [
        "high_rated_users = books_rating[books_rating.index.isin(indexes)]\n",
        "high_rated_users"
      ]
    },
    {
      "cell_type": "code",
      "execution_count": null,
      "id": "b6b6effe",
      "metadata": {
        "id": "b6b6effe",
        "outputId": "b0ef9739-e2e1-4b16-d035-1240a437769b"
      },
      "outputs": [
        {
          "data": {
            "text/html": [
              "<div>\n",
              "<style scoped>\n",
              "    .dataframe tbody tr th:only-of-type {\n",
              "        vertical-align: middle;\n",
              "    }\n",
              "\n",
              "    .dataframe tbody tr th {\n",
              "        vertical-align: top;\n",
              "    }\n",
              "\n",
              "    .dataframe thead th {\n",
              "        text-align: right;\n",
              "    }\n",
              "</style>\n",
              "<table border=\"1\" class=\"dataframe\">\n",
              "  <thead>\n",
              "    <tr style=\"text-align: right;\">\n",
              "      <th></th>\n",
              "      <th>User-ID</th>\n",
              "      <th>Rating-Count</th>\n",
              "    </tr>\n",
              "  </thead>\n",
              "  <tbody>\n",
              "    <tr>\n",
              "      <th>2719</th>\n",
              "      <td>11676</td>\n",
              "      <td>6630</td>\n",
              "    </tr>\n",
              "    <tr>\n",
              "      <th>15218</th>\n",
              "      <td>98391</td>\n",
              "      <td>557</td>\n",
              "    </tr>\n",
              "    <tr>\n",
              "      <th>3403</th>\n",
              "      <td>16795</td>\n",
              "      <td>322</td>\n",
              "    </tr>\n",
              "    <tr>\n",
              "      <th>1747</th>\n",
              "      <td>7346</td>\n",
              "      <td>314</td>\n",
              "    </tr>\n",
              "    <tr>\n",
              "      <th>23318</th>\n",
              "      <td>153662</td>\n",
              "      <td>313</td>\n",
              "    </tr>\n",
              "    <tr>\n",
              "      <th>...</th>\n",
              "      <td>...</td>\n",
              "      <td>...</td>\n",
              "    </tr>\n",
              "    <tr>\n",
              "      <th>12472</th>\n",
              "      <td>78682</td>\n",
              "      <td>1</td>\n",
              "    </tr>\n",
              "    <tr>\n",
              "      <th>12470</th>\n",
              "      <td>78659</td>\n",
              "      <td>1</td>\n",
              "    </tr>\n",
              "    <tr>\n",
              "      <th>12469</th>\n",
              "      <td>78637</td>\n",
              "      <td>1</td>\n",
              "    </tr>\n",
              "    <tr>\n",
              "      <th>12468</th>\n",
              "      <td>78634</td>\n",
              "      <td>1</td>\n",
              "    </tr>\n",
              "    <tr>\n",
              "      <th>13408</th>\n",
              "      <td>85331</td>\n",
              "      <td>1</td>\n",
              "    </tr>\n",
              "  </tbody>\n",
              "</table>\n",
              "<p>26816 rows × 2 columns</p>\n",
              "</div>"
            ],
            "text/plain": [
              "       User-ID  Rating-Count\n",
              "2719     11676          6630\n",
              "15218    98391           557\n",
              "3403     16795           322\n",
              "1747      7346           314\n",
              "23318   153662           313\n",
              "...        ...           ...\n",
              "12472    78682             1\n",
              "12470    78659             1\n",
              "12469    78637             1\n",
              "12468    78634             1\n",
              "13408    85331             1\n",
              "\n",
              "[26816 rows x 2 columns]"
            ]
          },
          "execution_count": 50,
          "metadata": {},
          "output_type": "execute_result"
        }
      ],
      "source": [
        "b = high_rated_users.groupby(\"User-ID\").count()[\"Book-Rating\"].reset_index()\n",
        "b.rename(columns={'Book-Rating':'Rating-Count'},inplace=True)\n",
        "b= b.sort_values(\"Rating-Count\", ascending=False)\n",
        "b"
      ]
    },
    {
      "cell_type": "code",
      "execution_count": null,
      "id": "3afa4a2a",
      "metadata": {
        "scrolled": true,
        "id": "3afa4a2a",
        "outputId": "b2b4308e-a511-41f4-963d-4b56861c7d14"
      },
      "outputs": [
        {
          "data": {
            "text/plain": [
              "<matplotlib.collections.PathCollection at 0x13e55dd2150>"
            ]
          },
          "execution_count": 51,
          "metadata": {},
          "output_type": "execute_result"
        },
        {
          "data": {
            "image/png": "[encoded data removed]",
            "text/plain": [
              "<Figure size 640x480 with 1 Axes>"
            ]
          },
          "metadata": {},
          "output_type": "display_data"
        }
      ],
      "source": [
        "plt.scatter(x = b[\"User-ID\"].index, y = b[\"Rating-Count\"])"
      ]
    },
    {
      "cell_type": "code",
      "execution_count": null,
      "id": "f7bdd9f5",
      "metadata": {
        "id": "f7bdd9f5",
        "outputId": "dc06ebee-5ea4-4d7c-860a-3f53ff4d3406"
      },
      "outputs": [
        {
          "data": {
            "text/html": [
              "<div>\n",
              "<style scoped>\n",
              "    .dataframe tbody tr th:only-of-type {\n",
              "        vertical-align: middle;\n",
              "    }\n",
              "\n",
              "    .dataframe tbody tr th {\n",
              "        vertical-align: top;\n",
              "    }\n",
              "\n",
              "    .dataframe thead th {\n",
              "        text-align: right;\n",
              "    }\n",
              "</style>\n",
              "<table border=\"1\" class=\"dataframe\">\n",
              "  <thead>\n",
              "    <tr style=\"text-align: right;\">\n",
              "      <th></th>\n",
              "      <th>User-ID</th>\n",
              "      <th>Rating-Count</th>\n",
              "    </tr>\n",
              "  </thead>\n",
              "  <tbody>\n",
              "    <tr>\n",
              "      <th>2719</th>\n",
              "      <td>11676</td>\n",
              "      <td>6630</td>\n",
              "    </tr>\n",
              "    <tr>\n",
              "      <th>15218</th>\n",
              "      <td>98391</td>\n",
              "      <td>557</td>\n",
              "    </tr>\n",
              "    <tr>\n",
              "      <th>3403</th>\n",
              "      <td>16795</td>\n",
              "      <td>322</td>\n",
              "    </tr>\n",
              "    <tr>\n",
              "      <th>1747</th>\n",
              "      <td>7346</td>\n",
              "      <td>314</td>\n",
              "    </tr>\n",
              "    <tr>\n",
              "      <th>23318</th>\n",
              "      <td>153662</td>\n",
              "      <td>313</td>\n",
              "    </tr>\n",
              "    <tr>\n",
              "      <th>...</th>\n",
              "      <td>...</td>\n",
              "      <td>...</td>\n",
              "    </tr>\n",
              "    <tr>\n",
              "      <th>12472</th>\n",
              "      <td>78682</td>\n",
              "      <td>1</td>\n",
              "    </tr>\n",
              "    <tr>\n",
              "      <th>12470</th>\n",
              "      <td>78659</td>\n",
              "      <td>1</td>\n",
              "    </tr>\n",
              "    <tr>\n",
              "      <th>12469</th>\n",
              "      <td>78637</td>\n",
              "      <td>1</td>\n",
              "    </tr>\n",
              "    <tr>\n",
              "      <th>12468</th>\n",
              "      <td>78634</td>\n",
              "      <td>1</td>\n",
              "    </tr>\n",
              "    <tr>\n",
              "      <th>13408</th>\n",
              "      <td>85331</td>\n",
              "      <td>1</td>\n",
              "    </tr>\n",
              "  </tbody>\n",
              "</table>\n",
              "<p>26816 rows × 2 columns</p>\n",
              "</div>"
            ],
            "text/plain": [
              "       User-ID  Rating-Count\n",
              "2719     11676          6630\n",
              "15218    98391           557\n",
              "3403     16795           322\n",
              "1747      7346           314\n",
              "23318   153662           313\n",
              "...        ...           ...\n",
              "12472    78682             1\n",
              "12470    78659             1\n",
              "12469    78637             1\n",
              "12468    78634             1\n",
              "13408    85331             1\n",
              "\n",
              "[26816 rows x 2 columns]"
            ]
          },
          "execution_count": 52,
          "metadata": {},
          "output_type": "execute_result"
        }
      ],
      "source": [
        "b"
      ]
    },
    {
      "cell_type": "code",
      "execution_count": null,
      "id": "d3968942",
      "metadata": {
        "id": "d3968942",
        "outputId": "5c70f62b-3caf-4625-fc7a-ee58ab622ddb"
      },
      "outputs": [
        {
          "data": {
            "text/html": [
              "<div>\n",
              "<style scoped>\n",
              "    .dataframe tbody tr th:only-of-type {\n",
              "        vertical-align: middle;\n",
              "    }\n",
              "\n",
              "    .dataframe tbody tr th {\n",
              "        vertical-align: top;\n",
              "    }\n",
              "\n",
              "    .dataframe thead th {\n",
              "        text-align: right;\n",
              "    }\n",
              "</style>\n",
              "<table border=\"1\" class=\"dataframe\">\n",
              "  <thead>\n",
              "    <tr style=\"text-align: right;\">\n",
              "      <th></th>\n",
              "      <th>User-ID</th>\n",
              "      <th>Rating-Count</th>\n",
              "    </tr>\n",
              "  </thead>\n",
              "  <tbody>\n",
              "    <tr>\n",
              "      <th>2719</th>\n",
              "      <td>11676</td>\n",
              "      <td>6630</td>\n",
              "    </tr>\n",
              "    <tr>\n",
              "      <th>15218</th>\n",
              "      <td>98391</td>\n",
              "      <td>557</td>\n",
              "    </tr>\n",
              "    <tr>\n",
              "      <th>3403</th>\n",
              "      <td>16795</td>\n",
              "      <td>322</td>\n",
              "    </tr>\n",
              "    <tr>\n",
              "      <th>1747</th>\n",
              "      <td>7346</td>\n",
              "      <td>314</td>\n",
              "    </tr>\n",
              "    <tr>\n",
              "      <th>23318</th>\n",
              "      <td>153662</td>\n",
              "      <td>313</td>\n",
              "    </tr>\n",
              "    <tr>\n",
              "      <th>...</th>\n",
              "      <td>...</td>\n",
              "      <td>...</td>\n",
              "    </tr>\n",
              "    <tr>\n",
              "      <th>23015</th>\n",
              "      <td>151634</td>\n",
              "      <td>2</td>\n",
              "    </tr>\n",
              "    <tr>\n",
              "      <th>22985</th>\n",
              "      <td>151470</td>\n",
              "      <td>2</td>\n",
              "    </tr>\n",
              "    <tr>\n",
              "      <th>8705</th>\n",
              "      <td>52631</td>\n",
              "      <td>2</td>\n",
              "    </tr>\n",
              "    <tr>\n",
              "      <th>8732</th>\n",
              "      <td>52847</td>\n",
              "      <td>2</td>\n",
              "    </tr>\n",
              "    <tr>\n",
              "      <th>23024</th>\n",
              "      <td>151702</td>\n",
              "      <td>2</td>\n",
              "    </tr>\n",
              "  </tbody>\n",
              "</table>\n",
              "<p>10775 rows × 2 columns</p>\n",
              "</div>"
            ],
            "text/plain": [
              "       User-ID  Rating-Count\n",
              "2719     11676          6630\n",
              "15218    98391           557\n",
              "3403     16795           322\n",
              "1747      7346           314\n",
              "23318   153662           313\n",
              "...        ...           ...\n",
              "23015   151634             2\n",
              "22985   151470             2\n",
              "8705     52631             2\n",
              "8732     52847             2\n",
              "23024   151702             2\n",
              "\n",
              "[10775 rows x 2 columns]"
            ]
          },
          "execution_count": 53,
          "metadata": {},
          "output_type": "execute_result"
        }
      ],
      "source": [
        "b[b[\"Rating-Count\"]>1]"
      ]
    },
    {
      "cell_type": "code",
      "execution_count": null,
      "id": "1d3d4c07",
      "metadata": {
        "id": "1d3d4c07"
      },
      "outputs": [],
      "source": [
        "## In the above filtering we observe that out of 1.35L books there are around 47k books which have been rated more than\n",
        "## just once. So we will use all books which have been rated more than onece."
      ]
    },
    {
      "cell_type": "code",
      "execution_count": null,
      "id": "ce286bee",
      "metadata": {
        "id": "ce286bee"
      },
      "outputs": [],
      "source": [
        "books_indexes = b[b[\"Rating-Count\"]>1].index\n",
        "#books_indexes = b.index"
      ]
    },
    {
      "cell_type": "code",
      "execution_count": null,
      "id": "66effaa8",
      "metadata": {
        "id": "66effaa8",
        "outputId": "e674dc60-713c-4dce-9977-d6e323fd2716"
      },
      "outputs": [
        {
          "data": {
            "text/html": [
              "<div>\n",
              "<style scoped>\n",
              "    .dataframe tbody tr th:only-of-type {\n",
              "        vertical-align: middle;\n",
              "    }\n",
              "\n",
              "    .dataframe tbody tr th {\n",
              "        vertical-align: top;\n",
              "    }\n",
              "\n",
              "    .dataframe thead th {\n",
              "        text-align: right;\n",
              "    }\n",
              "</style>\n",
              "<table border=\"1\" class=\"dataframe\">\n",
              "  <thead>\n",
              "    <tr style=\"text-align: right;\">\n",
              "      <th></th>\n",
              "      <th>User-ID</th>\n",
              "      <th>ISBN</th>\n",
              "      <th>Book-Rating</th>\n",
              "      <th>Book-Title</th>\n",
              "      <th>Book-Author</th>\n",
              "      <th>Year-Of-Publication</th>\n",
              "      <th>Publisher</th>\n",
              "      <th>Image-URL-S</th>\n",
              "      <th>Image-URL-M</th>\n",
              "      <th>Image-URL-L</th>\n",
              "    </tr>\n",
              "  </thead>\n",
              "  <tbody>\n",
              "    <tr>\n",
              "      <th>0</th>\n",
              "      <td>276726</td>\n",
              "      <td>0155061224</td>\n",
              "      <td>5.0</td>\n",
              "      <td>Rites of Passage</td>\n",
              "      <td>Judith Rae</td>\n",
              "      <td>2001</td>\n",
              "      <td>Heinle</td>\n",
              "      <td>http://images.amazon.com/images/P/0155061224.0...</td>\n",
              "      <td>http://images.amazon.com/images/P/0155061224.0...</td>\n",
              "      <td>http://images.amazon.com/images/P/0155061224.0...</td>\n",
              "    </tr>\n",
              "    <tr>\n",
              "      <th>3</th>\n",
              "      <td>276744</td>\n",
              "      <td>038550120X</td>\n",
              "      <td>7.0</td>\n",
              "      <td>A Painted House</td>\n",
              "      <td>JOHN GRISHAM</td>\n",
              "      <td>2001</td>\n",
              "      <td>Doubleday</td>\n",
              "      <td>http://images.amazon.com/images/P/038550120X.0...</td>\n",
              "      <td>http://images.amazon.com/images/P/038550120X.0...</td>\n",
              "      <td>http://images.amazon.com/images/P/038550120X.0...</td>\n",
              "    </tr>\n",
              "    <tr>\n",
              "      <th>5</th>\n",
              "      <td>16877</td>\n",
              "      <td>038550120X</td>\n",
              "      <td>9.0</td>\n",
              "      <td>A Painted House</td>\n",
              "      <td>JOHN GRISHAM</td>\n",
              "      <td>2001</td>\n",
              "      <td>Doubleday</td>\n",
              "      <td>http://images.amazon.com/images/P/038550120X.0...</td>\n",
              "      <td>http://images.amazon.com/images/P/038550120X.0...</td>\n",
              "      <td>http://images.amazon.com/images/P/038550120X.0...</td>\n",
              "    </tr>\n",
              "    <tr>\n",
              "      <th>8</th>\n",
              "      <td>21340</td>\n",
              "      <td>038550120X</td>\n",
              "      <td>9.0</td>\n",
              "      <td>A Painted House</td>\n",
              "      <td>JOHN GRISHAM</td>\n",
              "      <td>2001</td>\n",
              "      <td>Doubleday</td>\n",
              "      <td>http://images.amazon.com/images/P/038550120X.0...</td>\n",
              "      <td>http://images.amazon.com/images/P/038550120X.0...</td>\n",
              "      <td>http://images.amazon.com/images/P/038550120X.0...</td>\n",
              "    </tr>\n",
              "    <tr>\n",
              "      <th>10</th>\n",
              "      <td>22625</td>\n",
              "      <td>038550120X</td>\n",
              "      <td>10.0</td>\n",
              "      <td>A Painted House</td>\n",
              "      <td>JOHN GRISHAM</td>\n",
              "      <td>2001</td>\n",
              "      <td>Doubleday</td>\n",
              "      <td>http://images.amazon.com/images/P/038550120X.0...</td>\n",
              "      <td>http://images.amazon.com/images/P/038550120X.0...</td>\n",
              "      <td>http://images.amazon.com/images/P/038550120X.0...</td>\n",
              "    </tr>\n",
              "    <tr>\n",
              "      <th>...</th>\n",
              "      <td>...</td>\n",
              "      <td>...</td>\n",
              "      <td>...</td>\n",
              "      <td>...</td>\n",
              "      <td>...</td>\n",
              "      <td>...</td>\n",
              "      <td>...</td>\n",
              "      <td>...</td>\n",
              "      <td>...</td>\n",
              "      <td>...</td>\n",
              "    </tr>\n",
              "    <tr>\n",
              "      <th>26807</th>\n",
              "      <td>2288</td>\n",
              "      <td>0553210092</td>\n",
              "      <td>5.0</td>\n",
              "      <td>The Scarlet Letter</td>\n",
              "      <td>NATHANIEL HAWTHORNE</td>\n",
              "      <td>1965</td>\n",
              "      <td>Bantam</td>\n",
              "      <td>http://images.amazon.com/images/P/0553210092.0...</td>\n",
              "      <td>http://images.amazon.com/images/P/0553210092.0...</td>\n",
              "      <td>http://images.amazon.com/images/P/0553210092.0...</td>\n",
              "    </tr>\n",
              "    <tr>\n",
              "      <th>26809</th>\n",
              "      <td>6251</td>\n",
              "      <td>0553210092</td>\n",
              "      <td>7.0</td>\n",
              "      <td>The Scarlet Letter</td>\n",
              "      <td>NATHANIEL HAWTHORNE</td>\n",
              "      <td>1965</td>\n",
              "      <td>Bantam</td>\n",
              "      <td>http://images.amazon.com/images/P/0553210092.0...</td>\n",
              "      <td>http://images.amazon.com/images/P/0553210092.0...</td>\n",
              "      <td>http://images.amazon.com/images/P/0553210092.0...</td>\n",
              "    </tr>\n",
              "    <tr>\n",
              "      <th>26810</th>\n",
              "      <td>7769</td>\n",
              "      <td>0553210092</td>\n",
              "      <td>5.0</td>\n",
              "      <td>The Scarlet Letter</td>\n",
              "      <td>NATHANIEL HAWTHORNE</td>\n",
              "      <td>1965</td>\n",
              "      <td>Bantam</td>\n",
              "      <td>http://images.amazon.com/images/P/0553210092.0...</td>\n",
              "      <td>http://images.amazon.com/images/P/0553210092.0...</td>\n",
              "      <td>http://images.amazon.com/images/P/0553210092.0...</td>\n",
              "    </tr>\n",
              "    <tr>\n",
              "      <th>26813</th>\n",
              "      <td>16634</td>\n",
              "      <td>0553210092</td>\n",
              "      <td>8.0</td>\n",
              "      <td>The Scarlet Letter</td>\n",
              "      <td>NATHANIEL HAWTHORNE</td>\n",
              "      <td>1965</td>\n",
              "      <td>Bantam</td>\n",
              "      <td>http://images.amazon.com/images/P/0553210092.0...</td>\n",
              "      <td>http://images.amazon.com/images/P/0553210092.0...</td>\n",
              "      <td>http://images.amazon.com/images/P/0553210092.0...</td>\n",
              "    </tr>\n",
              "    <tr>\n",
              "      <th>26815</th>\n",
              "      <td>20029</td>\n",
              "      <td>0553210092</td>\n",
              "      <td>5.0</td>\n",
              "      <td>The Scarlet Letter</td>\n",
              "      <td>NATHANIEL HAWTHORNE</td>\n",
              "      <td>1965</td>\n",
              "      <td>Bantam</td>\n",
              "      <td>http://images.amazon.com/images/P/0553210092.0...</td>\n",
              "      <td>http://images.amazon.com/images/P/0553210092.0...</td>\n",
              "      <td>http://images.amazon.com/images/P/0553210092.0...</td>\n",
              "    </tr>\n",
              "  </tbody>\n",
              "</table>\n",
              "<p>10775 rows × 10 columns</p>\n",
              "</div>"
            ],
            "text/plain": [
              "       User-ID        ISBN  Book-Rating          Book-Title  \\\n",
              "0       276726  0155061224          5.0    Rites of Passage   \n",
              "3       276744  038550120X          7.0     A Painted House   \n",
              "5        16877  038550120X          9.0     A Painted House   \n",
              "8        21340  038550120X          9.0     A Painted House   \n",
              "10       22625  038550120X         10.0     A Painted House   \n",
              "...        ...         ...          ...                 ...   \n",
              "26807     2288  0553210092          5.0  The Scarlet Letter   \n",
              "26809     6251  0553210092          7.0  The Scarlet Letter   \n",
              "26810     7769  0553210092          5.0  The Scarlet Letter   \n",
              "26813    16634  0553210092          8.0  The Scarlet Letter   \n",
              "26815    20029  0553210092          5.0  The Scarlet Letter   \n",
              "\n",
              "               Book-Author Year-Of-Publication  Publisher  \\\n",
              "0               Judith Rae                2001     Heinle   \n",
              "3             JOHN GRISHAM                2001  Doubleday   \n",
              "5             JOHN GRISHAM                2001  Doubleday   \n",
              "8             JOHN GRISHAM                2001  Doubleday   \n",
              "10            JOHN GRISHAM                2001  Doubleday   \n",
              "...                    ...                 ...        ...   \n",
              "26807  NATHANIEL HAWTHORNE                1965     Bantam   \n",
              "26809  NATHANIEL HAWTHORNE                1965     Bantam   \n",
              "26810  NATHANIEL HAWTHORNE                1965     Bantam   \n",
              "26813  NATHANIEL HAWTHORNE                1965     Bantam   \n",
              "26815  NATHANIEL HAWTHORNE                1965     Bantam   \n",
              "\n",
              "                                             Image-URL-S  \\\n",
              "0      http://images.amazon.com/images/P/0155061224.0...   \n",
              "3      http://images.amazon.com/images/P/038550120X.0...   \n",
              "5      http://images.amazon.com/images/P/038550120X.0...   \n",
              "8      http://images.amazon.com/images/P/038550120X.0...   \n",
              "10     http://images.amazon.com/images/P/038550120X.0...   \n",
              "...                                                  ...   \n",
              "26807  http://images.amazon.com/images/P/0553210092.0...   \n",
              "26809  http://images.amazon.com/images/P/0553210092.0...   \n",
              "26810  http://images.amazon.com/images/P/0553210092.0...   \n",
              "26813  http://images.amazon.com/images/P/0553210092.0...   \n",
              "26815  http://images.amazon.com/images/P/0553210092.0...   \n",
              "\n",
              "                                             Image-URL-M  \\\n",
              "0      http://images.amazon.com/images/P/0155061224.0...   \n",
              "3      http://images.amazon.com/images/P/038550120X.0...   \n",
              "5      http://images.amazon.com/images/P/038550120X.0...   \n",
              "8      http://images.amazon.com/images/P/038550120X.0...   \n",
              "10     http://images.amazon.com/images/P/038550120X.0...   \n",
              "...                                                  ...   \n",
              "26807  http://images.amazon.com/images/P/0553210092.0...   \n",
              "26809  http://images.amazon.com/images/P/0553210092.0...   \n",
              "26810  http://images.amazon.com/images/P/0553210092.0...   \n",
              "26813  http://images.amazon.com/images/P/0553210092.0...   \n",
              "26815  http://images.amazon.com/images/P/0553210092.0...   \n",
              "\n",
              "                                             Image-URL-L  \n",
              "0      http://images.amazon.com/images/P/0155061224.0...  \n",
              "3      http://images.amazon.com/images/P/038550120X.0...  \n",
              "5      http://images.amazon.com/images/P/038550120X.0...  \n",
              "8      http://images.amazon.com/images/P/038550120X.0...  \n",
              "10     http://images.amazon.com/images/P/038550120X.0...  \n",
              "...                                                  ...  \n",
              "26807  http://images.amazon.com/images/P/0553210092.0...  \n",
              "26809  http://images.amazon.com/images/P/0553210092.0...  \n",
              "26810  http://images.amazon.com/images/P/0553210092.0...  \n",
              "26813  http://images.amazon.com/images/P/0553210092.0...  \n",
              "26815  http://images.amazon.com/images/P/0553210092.0...  \n",
              "\n",
              "[10775 rows x 10 columns]"
            ]
          },
          "execution_count": 56,
          "metadata": {},
          "output_type": "execute_result"
        }
      ],
      "source": [
        "high_rated_books = books_rating[books_rating.index.isin(books_indexes)]\n",
        "high_rated_books"
      ]
    },
    {
      "cell_type": "code",
      "execution_count": null,
      "id": "f64603a7",
      "metadata": {
        "id": "f64603a7"
      },
      "outputs": [],
      "source": [
        "pt = high_rated_books.pivot_table(index=\"Book-Title\", columns=\"User-ID\", values=\"Book-Rating\")"
      ]
    },
    {
      "cell_type": "code",
      "execution_count": null,
      "id": "fe14686d",
      "metadata": {
        "id": "fe14686d"
      },
      "outputs": [],
      "source": [
        "pt.fillna(0, inplace=True)"
      ]
    },
    {
      "cell_type": "code",
      "execution_count": null,
      "id": "c9f33a82",
      "metadata": {
        "id": "c9f33a82",
        "outputId": "fa593d03-4e76-4b48-8180-0bbeb0774f14"
      },
      "outputs": [
        {
          "data": {
            "text/html": [
              "<div>\n",
              "<style scoped>\n",
              "    .dataframe tbody tr th:only-of-type {\n",
              "        vertical-align: middle;\n",
              "    }\n",
              "\n",
              "    .dataframe tbody tr th {\n",
              "        vertical-align: top;\n",
              "    }\n",
              "\n",
              "    .dataframe thead th {\n",
              "        text-align: right;\n",
              "    }\n",
              "</style>\n",
              "<table border=\"1\" class=\"dataframe\">\n",
              "  <thead>\n",
              "    <tr style=\"text-align: right;\">\n",
              "      <th>User-ID</th>\n",
              "      <th>8</th>\n",
              "      <th>12</th>\n",
              "      <th>14</th>\n",
              "      <th>16</th>\n",
              "      <th>17</th>\n",
              "      <th>26</th>\n",
              "      <th>32</th>\n",
              "      <th>42</th>\n",
              "      <th>44</th>\n",
              "      <th>51</th>\n",
              "      <th>...</th>\n",
              "      <th>278825</th>\n",
              "      <th>278828</th>\n",
              "      <th>278831</th>\n",
              "      <th>278832</th>\n",
              "      <th>278843</th>\n",
              "      <th>278844</th>\n",
              "      <th>278849</th>\n",
              "      <th>278851</th>\n",
              "      <th>278852</th>\n",
              "      <th>278854</th>\n",
              "    </tr>\n",
              "    <tr>\n",
              "      <th>Book-Title</th>\n",
              "      <th></th>\n",
              "      <th></th>\n",
              "      <th></th>\n",
              "      <th></th>\n",
              "      <th></th>\n",
              "      <th></th>\n",
              "      <th></th>\n",
              "      <th></th>\n",
              "      <th></th>\n",
              "      <th></th>\n",
              "      <th></th>\n",
              "      <th></th>\n",
              "      <th></th>\n",
              "      <th></th>\n",
              "      <th></th>\n",
              "      <th></th>\n",
              "      <th></th>\n",
              "      <th></th>\n",
              "      <th></th>\n",
              "      <th></th>\n",
              "      <th></th>\n",
              "    </tr>\n",
              "  </thead>\n",
              "  <tbody>\n",
              "    <tr>\n",
              "      <th>01-01-00: A Novel of the Millennium</th>\n",
              "      <td>0.0</td>\n",
              "      <td>0.0</td>\n",
              "      <td>0.0</td>\n",
              "      <td>0.0</td>\n",
              "      <td>0.0</td>\n",
              "      <td>0.0</td>\n",
              "      <td>0.0</td>\n",
              "      <td>0.0</td>\n",
              "      <td>0.0</td>\n",
              "      <td>0.0</td>\n",
              "      <td>...</td>\n",
              "      <td>0.0</td>\n",
              "      <td>0.0</td>\n",
              "      <td>0.0</td>\n",
              "      <td>0.0</td>\n",
              "      <td>0.0</td>\n",
              "      <td>0.0</td>\n",
              "      <td>0.0</td>\n",
              "      <td>0.0</td>\n",
              "      <td>0.0</td>\n",
              "      <td>0.0</td>\n",
              "    </tr>\n",
              "    <tr>\n",
              "      <th>01-01-00: The Novel of the Millennium</th>\n",
              "      <td>0.0</td>\n",
              "      <td>0.0</td>\n",
              "      <td>0.0</td>\n",
              "      <td>0.0</td>\n",
              "      <td>0.0</td>\n",
              "      <td>0.0</td>\n",
              "      <td>0.0</td>\n",
              "      <td>0.0</td>\n",
              "      <td>0.0</td>\n",
              "      <td>0.0</td>\n",
              "      <td>...</td>\n",
              "      <td>0.0</td>\n",
              "      <td>0.0</td>\n",
              "      <td>0.0</td>\n",
              "      <td>0.0</td>\n",
              "      <td>0.0</td>\n",
              "      <td>0.0</td>\n",
              "      <td>0.0</td>\n",
              "      <td>0.0</td>\n",
              "      <td>0.0</td>\n",
              "      <td>0.0</td>\n",
              "    </tr>\n",
              "    <tr>\n",
              "      <th>100 Best-Loved Poems (Dover Thrift Editions)</th>\n",
              "      <td>0.0</td>\n",
              "      <td>0.0</td>\n",
              "      <td>0.0</td>\n",
              "      <td>0.0</td>\n",
              "      <td>0.0</td>\n",
              "      <td>0.0</td>\n",
              "      <td>0.0</td>\n",
              "      <td>0.0</td>\n",
              "      <td>0.0</td>\n",
              "      <td>0.0</td>\n",
              "      <td>...</td>\n",
              "      <td>0.0</td>\n",
              "      <td>0.0</td>\n",
              "      <td>0.0</td>\n",
              "      <td>0.0</td>\n",
              "      <td>0.0</td>\n",
              "      <td>0.0</td>\n",
              "      <td>0.0</td>\n",
              "      <td>0.0</td>\n",
              "      <td>0.0</td>\n",
              "      <td>0.0</td>\n",
              "    </tr>\n",
              "    <tr>\n",
              "      <th>101 Dalmatians</th>\n",
              "      <td>0.0</td>\n",
              "      <td>0.0</td>\n",
              "      <td>0.0</td>\n",
              "      <td>0.0</td>\n",
              "      <td>0.0</td>\n",
              "      <td>0.0</td>\n",
              "      <td>0.0</td>\n",
              "      <td>0.0</td>\n",
              "      <td>0.0</td>\n",
              "      <td>0.0</td>\n",
              "      <td>...</td>\n",
              "      <td>0.0</td>\n",
              "      <td>0.0</td>\n",
              "      <td>0.0</td>\n",
              "      <td>0.0</td>\n",
              "      <td>0.0</td>\n",
              "      <td>0.0</td>\n",
              "      <td>0.0</td>\n",
              "      <td>0.0</td>\n",
              "      <td>0.0</td>\n",
              "      <td>0.0</td>\n",
              "    </tr>\n",
              "    <tr>\n",
              "      <th>101 Experiments in the Philosophy of Everyday Life</th>\n",
              "      <td>0.0</td>\n",
              "      <td>0.0</td>\n",
              "      <td>0.0</td>\n",
              "      <td>0.0</td>\n",
              "      <td>0.0</td>\n",
              "      <td>0.0</td>\n",
              "      <td>0.0</td>\n",
              "      <td>0.0</td>\n",
              "      <td>0.0</td>\n",
              "      <td>0.0</td>\n",
              "      <td>...</td>\n",
              "      <td>0.0</td>\n",
              "      <td>0.0</td>\n",
              "      <td>0.0</td>\n",
              "      <td>0.0</td>\n",
              "      <td>0.0</td>\n",
              "      <td>0.0</td>\n",
              "      <td>0.0</td>\n",
              "      <td>0.0</td>\n",
              "      <td>0.0</td>\n",
              "      <td>0.0</td>\n",
              "    </tr>\n",
              "    <tr>\n",
              "      <th>...</th>\n",
              "      <td>...</td>\n",
              "      <td>...</td>\n",
              "      <td>...</td>\n",
              "      <td>...</td>\n",
              "      <td>...</td>\n",
              "      <td>...</td>\n",
              "      <td>...</td>\n",
              "      <td>...</td>\n",
              "      <td>...</td>\n",
              "      <td>...</td>\n",
              "      <td>...</td>\n",
              "      <td>...</td>\n",
              "      <td>...</td>\n",
              "      <td>...</td>\n",
              "      <td>...</td>\n",
              "      <td>...</td>\n",
              "      <td>...</td>\n",
              "      <td>...</td>\n",
              "      <td>...</td>\n",
              "      <td>...</td>\n",
              "      <td>...</td>\n",
              "    </tr>\n",
              "    <tr>\n",
              "      <th>Your Finances in Changing Times (The Christian Financial Concepts Series)</th>\n",
              "      <td>0.0</td>\n",
              "      <td>0.0</td>\n",
              "      <td>0.0</td>\n",
              "      <td>0.0</td>\n",
              "      <td>0.0</td>\n",
              "      <td>0.0</td>\n",
              "      <td>0.0</td>\n",
              "      <td>0.0</td>\n",
              "      <td>0.0</td>\n",
              "      <td>0.0</td>\n",
              "      <td>...</td>\n",
              "      <td>0.0</td>\n",
              "      <td>0.0</td>\n",
              "      <td>0.0</td>\n",
              "      <td>0.0</td>\n",
              "      <td>0.0</td>\n",
              "      <td>0.0</td>\n",
              "      <td>0.0</td>\n",
              "      <td>0.0</td>\n",
              "      <td>0.0</td>\n",
              "      <td>0.0</td>\n",
              "    </tr>\n",
              "    <tr>\n",
              "      <th>Your Money or Your Life: Transforming Your Relationship With Money and Achieving Financial Independence</th>\n",
              "      <td>0.0</td>\n",
              "      <td>0.0</td>\n",
              "      <td>0.0</td>\n",
              "      <td>0.0</td>\n",
              "      <td>0.0</td>\n",
              "      <td>0.0</td>\n",
              "      <td>0.0</td>\n",
              "      <td>0.0</td>\n",
              "      <td>0.0</td>\n",
              "      <td>0.0</td>\n",
              "      <td>...</td>\n",
              "      <td>0.0</td>\n",
              "      <td>0.0</td>\n",
              "      <td>0.0</td>\n",
              "      <td>0.0</td>\n",
              "      <td>0.0</td>\n",
              "      <td>0.0</td>\n",
              "      <td>0.0</td>\n",
              "      <td>0.0</td>\n",
              "      <td>0.0</td>\n",
              "      <td>0.0</td>\n",
              "    </tr>\n",
              "    <tr>\n",
              "      <th>Zen &amp;amp; the Art of the Macintosh : Discoveries on the Path to Computer Enlightenment</th>\n",
              "      <td>0.0</td>\n",
              "      <td>0.0</td>\n",
              "      <td>0.0</td>\n",
              "      <td>0.0</td>\n",
              "      <td>0.0</td>\n",
              "      <td>0.0</td>\n",
              "      <td>0.0</td>\n",
              "      <td>0.0</td>\n",
              "      <td>0.0</td>\n",
              "      <td>0.0</td>\n",
              "      <td>...</td>\n",
              "      <td>0.0</td>\n",
              "      <td>0.0</td>\n",
              "      <td>0.0</td>\n",
              "      <td>0.0</td>\n",
              "      <td>0.0</td>\n",
              "      <td>0.0</td>\n",
              "      <td>0.0</td>\n",
              "      <td>0.0</td>\n",
              "      <td>0.0</td>\n",
              "      <td>0.0</td>\n",
              "    </tr>\n",
              "    <tr>\n",
              "      <th>\\O\\\" Is for Outlaw\"</th>\n",
              "      <td>0.0</td>\n",
              "      <td>0.0</td>\n",
              "      <td>0.0</td>\n",
              "      <td>0.0</td>\n",
              "      <td>0.0</td>\n",
              "      <td>0.0</td>\n",
              "      <td>0.0</td>\n",
              "      <td>0.0</td>\n",
              "      <td>0.0</td>\n",
              "      <td>0.0</td>\n",
              "      <td>...</td>\n",
              "      <td>0.0</td>\n",
              "      <td>0.0</td>\n",
              "      <td>0.0</td>\n",
              "      <td>0.0</td>\n",
              "      <td>0.0</td>\n",
              "      <td>0.0</td>\n",
              "      <td>0.0</td>\n",
              "      <td>0.0</td>\n",
              "      <td>0.0</td>\n",
              "      <td>0.0</td>\n",
              "    </tr>\n",
              "    <tr>\n",
              "      <th>flambeau@darkcorp.com</th>\n",
              "      <td>0.0</td>\n",
              "      <td>0.0</td>\n",
              "      <td>0.0</td>\n",
              "      <td>0.0</td>\n",
              "      <td>0.0</td>\n",
              "      <td>0.0</td>\n",
              "      <td>0.0</td>\n",
              "      <td>0.0</td>\n",
              "      <td>0.0</td>\n",
              "      <td>0.0</td>\n",
              "      <td>...</td>\n",
              "      <td>0.0</td>\n",
              "      <td>0.0</td>\n",
              "      <td>0.0</td>\n",
              "      <td>0.0</td>\n",
              "      <td>0.0</td>\n",
              "      <td>0.0</td>\n",
              "      <td>0.0</td>\n",
              "      <td>0.0</td>\n",
              "      <td>0.0</td>\n",
              "      <td>0.0</td>\n",
              "    </tr>\n",
              "  </tbody>\n",
              "</table>\n",
              "<p>1626 rows × 6255 columns</p>\n",
              "</div>"
            ],
            "text/plain": [
              "User-ID                                             8       12      14      \\\n",
              "Book-Title                                                                   \n",
              "01-01-00: A Novel of the Millennium                    0.0     0.0     0.0   \n",
              "01-01-00: The Novel of the Millennium                  0.0     0.0     0.0   \n",
              "100 Best-Loved Poems (Dover Thrift Editions)           0.0     0.0     0.0   \n",
              "101 Dalmatians                                         0.0     0.0     0.0   \n",
              "101 Experiments in the Philosophy of Everyday Life     0.0     0.0     0.0   \n",
              "...                                                    ...     ...     ...   \n",
              "Your Finances in Changing Times (The Christian ...     0.0     0.0     0.0   \n",
              "Your Money or Your Life: Transforming Your Rela...     0.0     0.0     0.0   \n",
              "Zen &amp; the Art of the Macintosh : Discoverie...     0.0     0.0     0.0   \n",
              "\\O\\\" Is for Outlaw\"                                    0.0     0.0     0.0   \n",
              "flambeau@darkcorp.com                                  0.0     0.0     0.0   \n",
              "\n",
              "User-ID                                             16      17      26      \\\n",
              "Book-Title                                                                   \n",
              "01-01-00: A Novel of the Millennium                    0.0     0.0     0.0   \n",
              "01-01-00: The Novel of the Millennium                  0.0     0.0     0.0   \n",
              "100 Best-Loved Poems (Dover Thrift Editions)           0.0     0.0     0.0   \n",
              "101 Dalmatians                                         0.0     0.0     0.0   \n",
              "101 Experiments in the Philosophy of Everyday Life     0.0     0.0     0.0   \n",
              "...                                                    ...     ...     ...   \n",
              "Your Finances in Changing Times (The Christian ...     0.0     0.0     0.0   \n",
              "Your Money or Your Life: Transforming Your Rela...     0.0     0.0     0.0   \n",
              "Zen &amp; the Art of the Macintosh : Discoverie...     0.0     0.0     0.0   \n",
              "\\O\\\" Is for Outlaw\"                                    0.0     0.0     0.0   \n",
              "flambeau@darkcorp.com                                  0.0     0.0     0.0   \n",
              "\n",
              "User-ID                                             32      42      44      \\\n",
              "Book-Title                                                                   \n",
              "01-01-00: A Novel of the Millennium                    0.0     0.0     0.0   \n",
              "01-01-00: The Novel of the Millennium                  0.0     0.0     0.0   \n",
              "100 Best-Loved Poems (Dover Thrift Editions)           0.0     0.0     0.0   \n",
              "101 Dalmatians                                         0.0     0.0     0.0   \n",
              "101 Experiments in the Philosophy of Everyday Life     0.0     0.0     0.0   \n",
              "...                                                    ...     ...     ...   \n",
              "Your Finances in Changing Times (The Christian ...     0.0     0.0     0.0   \n",
              "Your Money or Your Life: Transforming Your Rela...     0.0     0.0     0.0   \n",
              "Zen &amp; the Art of the Macintosh : Discoverie...     0.0     0.0     0.0   \n",
              "\\O\\\" Is for Outlaw\"                                    0.0     0.0     0.0   \n",
              "flambeau@darkcorp.com                                  0.0     0.0     0.0   \n",
              "\n",
              "User-ID                                             51      ...  278825  \\\n",
              "Book-Title                                                  ...           \n",
              "01-01-00: A Novel of the Millennium                    0.0  ...     0.0   \n",
              "01-01-00: The Novel of the Millennium                  0.0  ...     0.0   \n",
              "100 Best-Loved Poems (Dover Thrift Editions)           0.0  ...     0.0   \n",
              "101 Dalmatians                                         0.0  ...     0.0   \n",
              "101 Experiments in the Philosophy of Everyday Life     0.0  ...     0.0   \n",
              "...                                                    ...  ...     ...   \n",
              "Your Finances in Changing Times (The Christian ...     0.0  ...     0.0   \n",
              "Your Money or Your Life: Transforming Your Rela...     0.0  ...     0.0   \n",
              "Zen &amp; the Art of the Macintosh : Discoverie...     0.0  ...     0.0   \n",
              "\\O\\\" Is for Outlaw\"                                    0.0  ...     0.0   \n",
              "flambeau@darkcorp.com                                  0.0  ...     0.0   \n",
              "\n",
              "User-ID                                             278828  278831  278832  \\\n",
              "Book-Title                                                                   \n",
              "01-01-00: A Novel of the Millennium                    0.0     0.0     0.0   \n",
              "01-01-00: The Novel of the Millennium                  0.0     0.0     0.0   \n",
              "100 Best-Loved Poems (Dover Thrift Editions)           0.0     0.0     0.0   \n",
              "101 Dalmatians                                         0.0     0.0     0.0   \n",
              "101 Experiments in the Philosophy of Everyday Life     0.0     0.0     0.0   \n",
              "...                                                    ...     ...     ...   \n",
              "Your Finances in Changing Times (The Christian ...     0.0     0.0     0.0   \n",
              "Your Money or Your Life: Transforming Your Rela...     0.0     0.0     0.0   \n",
              "Zen &amp; the Art of the Macintosh : Discoverie...     0.0     0.0     0.0   \n",
              "\\O\\\" Is for Outlaw\"                                    0.0     0.0     0.0   \n",
              "flambeau@darkcorp.com                                  0.0     0.0     0.0   \n",
              "\n",
              "User-ID                                             278843  278844  278849  \\\n",
              "Book-Title                                                                   \n",
              "01-01-00: A Novel of the Millennium                    0.0     0.0     0.0   \n",
              "01-01-00: The Novel of the Millennium                  0.0     0.0     0.0   \n",
              "100 Best-Loved Poems (Dover Thrift Editions)           0.0     0.0     0.0   \n",
              "101 Dalmatians                                         0.0     0.0     0.0   \n",
              "101 Experiments in the Philosophy of Everyday Life     0.0     0.0     0.0   \n",
              "...                                                    ...     ...     ...   \n",
              "Your Finances in Changing Times (The Christian ...     0.0     0.0     0.0   \n",
              "Your Money or Your Life: Transforming Your Rela...     0.0     0.0     0.0   \n",
              "Zen &amp; the Art of the Macintosh : Discoverie...     0.0     0.0     0.0   \n",
              "\\O\\\" Is for Outlaw\"                                    0.0     0.0     0.0   \n",
              "flambeau@darkcorp.com                                  0.0     0.0     0.0   \n",
              "\n",
              "User-ID                                             278851  278852  278854  \n",
              "Book-Title                                                                  \n",
              "01-01-00: A Novel of the Millennium                    0.0     0.0     0.0  \n",
              "01-01-00: The Novel of the Millennium                  0.0     0.0     0.0  \n",
              "100 Best-Loved Poems (Dover Thrift Editions)           0.0     0.0     0.0  \n",
              "101 Dalmatians                                         0.0     0.0     0.0  \n",
              "101 Experiments in the Philosophy of Everyday Life     0.0     0.0     0.0  \n",
              "...                                                    ...     ...     ...  \n",
              "Your Finances in Changing Times (The Christian ...     0.0     0.0     0.0  \n",
              "Your Money or Your Life: Transforming Your Rela...     0.0     0.0     0.0  \n",
              "Zen &amp; the Art of the Macintosh : Discoverie...     0.0     0.0     0.0  \n",
              "\\O\\\" Is for Outlaw\"                                    0.0     0.0     0.0  \n",
              "flambeau@darkcorp.com                                  0.0     0.0     0.0  \n",
              "\n",
              "[1626 rows x 6255 columns]"
            ]
          },
          "execution_count": 59,
          "metadata": {},
          "output_type": "execute_result"
        }
      ],
      "source": [
        "pt"
      ]
    },
    {
      "cell_type": "code",
      "execution_count": null,
      "id": "3dccd1d4",
      "metadata": {
        "id": "3dccd1d4"
      },
      "outputs": [],
      "source": [
        "from sklearn.metrics.pairwise import cosine_similarity"
      ]
    },
    {
      "cell_type": "code",
      "execution_count": null,
      "id": "077ccaf6-a4d2-4da9-86dc-282b9e042ec0",
      "metadata": {
        "id": "077ccaf6-a4d2-4da9-86dc-282b9e042ec0",
        "outputId": "7de52975-fa3e-440c-b246-a081fd57a630"
      },
      "outputs": [
        {
          "data": {
            "text/plain": [
              "User-ID\n",
              "8         float64\n",
              "12        float64\n",
              "14        float64\n",
              "16        float64\n",
              "17        float64\n",
              "           ...   \n",
              "278844    float64\n",
              "278849    float64\n",
              "278851    float64\n",
              "278852    float64\n",
              "278854    float64\n",
              "Length: 6255, dtype: object"
            ]
          },
          "execution_count": 102,
          "metadata": {},
          "output_type": "execute_result"
        }
      ],
      "source": [
        "pt.dtypes"
      ]
    },
    {
      "cell_type": "code",
      "execution_count": null,
      "id": "62ab2934",
      "metadata": {
        "id": "62ab2934"
      },
      "outputs": [],
      "source": [
        "s_score = cosine_similarity(pt)"
      ]
    },
    {
      "cell_type": "code",
      "execution_count": null,
      "id": "f59248a6",
      "metadata": {
        "id": "f59248a6",
        "outputId": "fe966ddb-8ea5-4ae4-8149-2373faf66637"
      },
      "outputs": [
        {
          "data": {
            "text/plain": [
              "[(1, 0.0), (2, 0.0), (3, 0.0), (4, 0.0), (5, 0.0)]"
            ]
          },
          "execution_count": 62,
          "metadata": {},
          "output_type": "execute_result"
        }
      ],
      "source": [
        "sorted(list(enumerate(s_score[0])), key=lambda x:x[1], reverse=True)[1:6]"
      ]
    },
    {
      "cell_type": "code",
      "execution_count": null,
      "id": "261ebe62-8a0f-415a-be09-aa433ca580f0",
      "metadata": {
        "id": "261ebe62-8a0f-415a-be09-aa433ca580f0"
      },
      "outputs": [],
      "source": [
        "pt.to_csv('pt.csv',index = True)"
      ]
    },
    {
      "cell_type": "code",
      "execution_count": null,
      "id": "6ba221a5-df2b-4020-bc31-dde9f69f1e69",
      "metadata": {
        "id": "6ba221a5-df2b-4020-bc31-dde9f69f1e69"
      },
      "outputs": [],
      "source": [
        "pt.to_pickle(\"pt.pkl\")"
      ]
    },
    {
      "cell_type": "markdown",
      "id": "d7856f8f",
      "metadata": {
        "id": "d7856f8f"
      },
      "source": [
        "### Below is function which recommends 5 books when a user enters a book."
      ]
    },
    {
      "cell_type": "code",
      "execution_count": null,
      "id": "5f94e230",
      "metadata": {
        "id": "5f94e230"
      },
      "outputs": [],
      "source": [
        "def recommend(book_name):\n",
        "    try:\n",
        "        ind = np.where(pt.index==book_name)[0][0]\n",
        "        similar_books = sorted(list(enumerate(s_score[ind])), key=lambda x:x[1], reverse=True)[1:6]\n",
        "        for i in similar_books:\n",
        "            print(pt.index[i[0]])\n",
        "    except IndexError:\n",
        "        print(\"No Recommendations found for this book\")\n"
      ]
    },
    {
      "cell_type": "code",
      "execution_count": null,
      "id": "928aaf57",
      "metadata": {
        "id": "928aaf57",
        "outputId": "b6e62c2d-3a46-4741-9cff-f6f563b1fd33"
      },
      "outputs": [
        {
          "name": "stdout",
          "output_type": "stream",
          "text": [
            "01-01-00: A Novel of the Millennium\n",
            "01-01-00: The Novel of the Millennium\n",
            "100 Best-Loved Poems (Dover Thrift Editions)\n",
            "101 Dalmatians\n",
            "101 Experiments in the Philosophy of Everyday Life\n"
          ]
        }
      ],
      "source": [
        "recommend(\"Year In Provence\")"
      ]
    },
    {
      "cell_type": "code",
      "execution_count": null,
      "id": "b9eed246",
      "metadata": {
        "id": "b9eed246"
      },
      "outputs": [],
      "source": [
        "## We go ahead and try with some other models."
      ]
    },
    {
      "cell_type": "markdown",
      "id": "ed104a4e",
      "metadata": {
        "id": "ed104a4e"
      },
      "source": [
        "# Recommendation using Google tensorflow"
      ]
    },
    {
      "cell_type": "code",
      "execution_count": null,
      "id": "08f7f30e",
      "metadata": {
        "id": "08f7f30e",
        "outputId": "0bc6620f-d3b2-4aa0-b95d-964ddf90d800"
      },
      "outputs": [
        {
          "name": "stdout",
          "output_type": "stream",
          "text": [
            "Note: you may need to restart the kernel to use updated packages.\n"
          ]
        }
      ],
      "source": [
        "pip install -q tensorflow-recommenders"
      ]
    },
    {
      "cell_type": "code",
      "execution_count": null,
      "id": "02ebc7e6",
      "metadata": {
        "id": "02ebc7e6",
        "outputId": "633bae07-7ee3-4e0d-a087-1aabde9df476"
      },
      "outputs": [
        {
          "name": "stdout",
          "output_type": "stream",
          "text": [
            "Note: you may need to restart the kernel to use updated packages.\n"
          ]
        }
      ],
      "source": [
        "pip install -q --upgrade tensorflow-datasets"
      ]
    },
    {
      "cell_type": "code",
      "execution_count": null,
      "id": "d231019c",
      "metadata": {
        "id": "d231019c"
      },
      "outputs": [],
      "source": [
        "import os\n",
        "import pprint\n",
        "import tempfile\n",
        "\n",
        "from typing import Dict, Text\n",
        "\n",
        "import numpy as np\n",
        "import tensorflow as tf\n",
        "import tensorflow_datasets as tfds"
      ]
    },
    {
      "cell_type": "code",
      "execution_count": null,
      "id": "0f8a13d5",
      "metadata": {
        "id": "0f8a13d5",
        "outputId": "d7f6b8ce-b9f7-45e6-a186-157cb9fe48a3"
      },
      "outputs": [
        {
          "name": "stdout",
          "output_type": "stream",
          "text": [
            "TensorFlow version: 2.16.1\n"
          ]
        }
      ],
      "source": [
        "print(\"TensorFlow version:\", tf.__version__)"
      ]
    },
    {
      "cell_type": "code",
      "execution_count": null,
      "id": "61fcfa95",
      "metadata": {
        "id": "61fcfa95"
      },
      "outputs": [],
      "source": [
        "import tensorflow_recommenders as tfrs"
      ]
    },
    {
      "cell_type": "code",
      "execution_count": null,
      "id": "f8d0a5de",
      "metadata": {
        "id": "f8d0a5de"
      },
      "outputs": [],
      "source": [
        "## First we have to convert pandas dataframe to a tensorflow dataset. For that we will take only numerical features."
      ]
    },
    {
      "cell_type": "code",
      "execution_count": null,
      "id": "bbb78f45",
      "metadata": {
        "id": "bbb78f45"
      },
      "outputs": [],
      "source": [
        "## From ratings dataset we will take user-id's and ISBN"
      ]
    },
    {
      "cell_type": "code",
      "execution_count": null,
      "id": "0dce50ee",
      "metadata": {
        "id": "0dce50ee"
      },
      "outputs": [],
      "source": [
        "## From Books database we will take only ISBN"
      ]
    },
    {
      "cell_type": "code",
      "execution_count": null,
      "id": "0826be4d",
      "metadata": {
        "id": "0826be4d"
      },
      "outputs": [],
      "source": [
        "from sklearn.model_selection import train_test_split"
      ]
    },
    {
      "cell_type": "code",
      "execution_count": null,
      "id": "caa129db",
      "metadata": {
        "id": "caa129db"
      },
      "outputs": [],
      "source": [
        "df = books_rating[[\"User-ID\", \"ISBN\", \"Book-Rating\"]]"
      ]
    },
    {
      "cell_type": "code",
      "execution_count": null,
      "id": "38ac3cfb",
      "metadata": {
        "id": "38ac3cfb",
        "outputId": "782e3cd7-daba-4b4d-9cdb-7a708dc69b97"
      },
      "outputs": [
        {
          "data": {
            "text/html": [
              "<div>\n",
              "<style scoped>\n",
              "    .dataframe tbody tr th:only-of-type {\n",
              "        vertical-align: middle;\n",
              "    }\n",
              "\n",
              "    .dataframe tbody tr th {\n",
              "        vertical-align: top;\n",
              "    }\n",
              "\n",
              "    .dataframe thead th {\n",
              "        text-align: right;\n",
              "    }\n",
              "</style>\n",
              "<table border=\"1\" class=\"dataframe\">\n",
              "  <thead>\n",
              "    <tr style=\"text-align: right;\">\n",
              "      <th></th>\n",
              "      <th>User-ID</th>\n",
              "      <th>ISBN</th>\n",
              "      <th>Book-Rating</th>\n",
              "    </tr>\n",
              "  </thead>\n",
              "  <tbody>\n",
              "    <tr>\n",
              "      <th>0</th>\n",
              "      <td>276726</td>\n",
              "      <td>0155061224</td>\n",
              "      <td>5.0</td>\n",
              "    </tr>\n",
              "    <tr>\n",
              "      <th>1</th>\n",
              "      <td>276729</td>\n",
              "      <td>052165615X</td>\n",
              "      <td>3.0</td>\n",
              "    </tr>\n",
              "    <tr>\n",
              "      <th>2</th>\n",
              "      <td>276729</td>\n",
              "      <td>0521795028</td>\n",
              "      <td>6.0</td>\n",
              "    </tr>\n",
              "    <tr>\n",
              "      <th>3</th>\n",
              "      <td>276744</td>\n",
              "      <td>038550120X</td>\n",
              "      <td>7.0</td>\n",
              "    </tr>\n",
              "    <tr>\n",
              "      <th>4</th>\n",
              "      <td>11676</td>\n",
              "      <td>038550120X</td>\n",
              "      <td>10.0</td>\n",
              "    </tr>\n",
              "    <tr>\n",
              "      <th>5</th>\n",
              "      <td>16877</td>\n",
              "      <td>038550120X</td>\n",
              "      <td>9.0</td>\n",
              "    </tr>\n",
              "    <tr>\n",
              "      <th>6</th>\n",
              "      <td>17975</td>\n",
              "      <td>038550120X</td>\n",
              "      <td>6.0</td>\n",
              "    </tr>\n",
              "    <tr>\n",
              "      <th>7</th>\n",
              "      <td>20806</td>\n",
              "      <td>038550120X</td>\n",
              "      <td>6.0</td>\n",
              "    </tr>\n",
              "    <tr>\n",
              "      <th>8</th>\n",
              "      <td>21340</td>\n",
              "      <td>038550120X</td>\n",
              "      <td>9.0</td>\n",
              "    </tr>\n",
              "    <tr>\n",
              "      <th>9</th>\n",
              "      <td>21356</td>\n",
              "      <td>038550120X</td>\n",
              "      <td>7.0</td>\n",
              "    </tr>\n",
              "    <tr>\n",
              "      <th>10</th>\n",
              "      <td>22625</td>\n",
              "      <td>038550120X</td>\n",
              "      <td>10.0</td>\n",
              "    </tr>\n",
              "    <tr>\n",
              "      <th>11</th>\n",
              "      <td>23243</td>\n",
              "      <td>038550120X</td>\n",
              "      <td>7.0</td>\n",
              "    </tr>\n",
              "    <tr>\n",
              "      <th>12</th>\n",
              "      <td>29168</td>\n",
              "      <td>038550120X</td>\n",
              "      <td>7.0</td>\n",
              "    </tr>\n",
              "    <tr>\n",
              "      <th>13</th>\n",
              "      <td>31315</td>\n",
              "      <td>038550120X</td>\n",
              "      <td>6.0</td>\n",
              "    </tr>\n",
              "    <tr>\n",
              "      <th>14</th>\n",
              "      <td>32188</td>\n",
              "      <td>038550120X</td>\n",
              "      <td>8.0</td>\n",
              "    </tr>\n",
              "    <tr>\n",
              "      <th>15</th>\n",
              "      <td>33974</td>\n",
              "      <td>038550120X</td>\n",
              "      <td>8.0</td>\n",
              "    </tr>\n",
              "    <tr>\n",
              "      <th>16</th>\n",
              "      <td>34588</td>\n",
              "      <td>038550120X</td>\n",
              "      <td>5.0</td>\n",
              "    </tr>\n",
              "    <tr>\n",
              "      <th>17</th>\n",
              "      <td>35288</td>\n",
              "      <td>038550120X</td>\n",
              "      <td>9.0</td>\n",
              "    </tr>\n",
              "    <tr>\n",
              "      <th>18</th>\n",
              "      <td>37800</td>\n",
              "      <td>038550120X</td>\n",
              "      <td>9.0</td>\n",
              "    </tr>\n",
              "    <tr>\n",
              "      <th>19</th>\n",
              "      <td>53220</td>\n",
              "      <td>038550120X</td>\n",
              "      <td>8.0</td>\n",
              "    </tr>\n",
              "    <tr>\n",
              "      <th>20</th>\n",
              "      <td>53614</td>\n",
              "      <td>038550120X</td>\n",
              "      <td>8.0</td>\n",
              "    </tr>\n",
              "    <tr>\n",
              "      <th>21</th>\n",
              "      <td>60337</td>\n",
              "      <td>038550120X</td>\n",
              "      <td>8.0</td>\n",
              "    </tr>\n",
              "    <tr>\n",
              "      <th>22</th>\n",
              "      <td>64436</td>\n",
              "      <td>038550120X</td>\n",
              "      <td>9.0</td>\n",
              "    </tr>\n",
              "    <tr>\n",
              "      <th>23</th>\n",
              "      <td>75819</td>\n",
              "      <td>038550120X</td>\n",
              "      <td>8.0</td>\n",
              "    </tr>\n",
              "    <tr>\n",
              "      <th>24</th>\n",
              "      <td>76151</td>\n",
              "      <td>038550120X</td>\n",
              "      <td>10.0</td>\n",
              "    </tr>\n",
              "  </tbody>\n",
              "</table>\n",
              "</div>"
            ],
            "text/plain": [
              "    User-ID        ISBN  Book-Rating\n",
              "0    276726  0155061224          5.0\n",
              "1    276729  052165615X          3.0\n",
              "2    276729  0521795028          6.0\n",
              "3    276744  038550120X          7.0\n",
              "4     11676  038550120X         10.0\n",
              "5     16877  038550120X          9.0\n",
              "6     17975  038550120X          6.0\n",
              "7     20806  038550120X          6.0\n",
              "8     21340  038550120X          9.0\n",
              "9     21356  038550120X          7.0\n",
              "10    22625  038550120X         10.0\n",
              "11    23243  038550120X          7.0\n",
              "12    29168  038550120X          7.0\n",
              "13    31315  038550120X          6.0\n",
              "14    32188  038550120X          8.0\n",
              "15    33974  038550120X          8.0\n",
              "16    34588  038550120X          5.0\n",
              "17    35288  038550120X          9.0\n",
              "18    37800  038550120X          9.0\n",
              "19    53220  038550120X          8.0\n",
              "20    53614  038550120X          8.0\n",
              "21    60337  038550120X          8.0\n",
              "22    64436  038550120X          9.0\n",
              "23    75819  038550120X          8.0\n",
              "24    76151  038550120X         10.0"
            ]
          },
          "execution_count": 76,
          "metadata": {},
          "output_type": "execute_result"
        }
      ],
      "source": [
        "df.head(25)"
      ]
    },
    {
      "cell_type": "code",
      "execution_count": null,
      "id": "5779d476",
      "metadata": {
        "id": "5779d476"
      },
      "outputs": [],
      "source": [
        "user_ids = df['User-ID'].unique().tolist()\n",
        "item_ids = df['ISBN'].unique().tolist()"
      ]
    },
    {
      "cell_type": "code",
      "execution_count": null,
      "id": "2db1fa39",
      "metadata": {
        "id": "2db1fa39"
      },
      "outputs": [],
      "source": [
        "user_to_index = {user: idx for idx, user in enumerate(user_ids)}\n",
        "item_to_index = {item: idx for idx, item in enumerate(item_ids)}"
      ]
    },
    {
      "cell_type": "code",
      "execution_count": null,
      "id": "9b3df158",
      "metadata": {
        "id": "9b3df158",
        "outputId": "4b471b8a-9d11-4439-aac0-0bf93b5c8c28"
      },
      "outputs": [
        {
          "name": "stderr",
          "output_type": "stream",
          "text": [
            "C:\\Users\\ASUS\\AppData\\Local\\Temp\\ipykernel_11152\\1376235887.py:1: SettingWithCopyWarning: \n",
            "A value is trying to be set on a copy of a slice from a DataFrame.\n",
            "Try using .loc[row_indexer,col_indexer] = value instead\n",
            "\n",
            "See the caveats in the documentation: https://pandas.pydata.org/pandas-docs/stable/user_guide/indexing.html#returning-a-view-versus-a-copy\n",
            "  df['user'] = df['User-ID'].map(user_to_index)\n",
            "C:\\Users\\ASUS\\AppData\\Local\\Temp\\ipykernel_11152\\1376235887.py:2: SettingWithCopyWarning: \n",
            "A value is trying to be set on a copy of a slice from a DataFrame.\n",
            "Try using .loc[row_indexer,col_indexer] = value instead\n",
            "\n",
            "See the caveats in the documentation: https://pandas.pydata.org/pandas-docs/stable/user_guide/indexing.html#returning-a-view-versus-a-copy\n",
            "  df['item'] = df['ISBN'].map(item_to_index)\n"
          ]
        }
      ],
      "source": [
        "df['user'] = df['User-ID'].map(user_to_index)\n",
        "df['item'] = df['ISBN'].map(item_to_index)"
      ]
    },
    {
      "cell_type": "code",
      "execution_count": null,
      "id": "730d821f",
      "metadata": {
        "id": "730d821f"
      },
      "outputs": [],
      "source": [
        "# Split data into training and testing sets\n",
        "train_df, test_df = train_test_split(df, test_size=0.2, random_state=42)"
      ]
    },
    {
      "cell_type": "code",
      "execution_count": null,
      "id": "438d585b",
      "metadata": {
        "id": "438d585b"
      },
      "outputs": [],
      "source": [
        "# Create TensorFlow Dataset objects\n",
        "def df_to_tensor(df):\n",
        "    return tf.data.Dataset.from_tensor_slices((\n",
        "        (df['user'].values, df['item'].values),\n",
        "        df['Book-Rating'].values\n",
        "    )).shuffle(1000).batch(256)"
      ]
    },
    {
      "cell_type": "code",
      "execution_count": null,
      "id": "6a433c6e",
      "metadata": {
        "id": "6a433c6e"
      },
      "outputs": [],
      "source": [
        "train_data = df_to_tensor(train_df)\n",
        "test_data = df_to_tensor(test_df)"
      ]
    },
    {
      "cell_type": "code",
      "execution_count": null,
      "id": "18e7cd46",
      "metadata": {
        "id": "18e7cd46"
      },
      "outputs": [],
      "source": [
        "# Building the Model\n",
        "class RecommenderNet(tf.keras.Model):\n",
        "    def __init__(self, num_users, num_items, embedding_size=50):\n",
        "        super(RecommenderNet, self).__init__()\n",
        "        self.user_embedding = tf.keras.layers.Embedding(num_users, embedding_size)\n",
        "        self.item_embedding = tf.keras.layers.Embedding(num_items, embedding_size)\n",
        "        self.dot = tf.keras.layers.Dot(axes=1)\n",
        "\n",
        "    def call(self, inputs):\n",
        "        user_vector = self.user_embedding(inputs[0])\n",
        "        item_vector = self.item_embedding(inputs[1])\n",
        "        return self.dot([user_vector, item_vector])"
      ]
    },
    {
      "cell_type": "code",
      "execution_count": null,
      "id": "5dcef655",
      "metadata": {
        "id": "5dcef655"
      },
      "outputs": [],
      "source": [
        "num_users = len(user_ids)\n",
        "num_items = len(item_ids)\n",
        "model = RecommenderNet(num_users, num_items)"
      ]
    },
    {
      "cell_type": "code",
      "execution_count": null,
      "id": "543314d8",
      "metadata": {
        "id": "543314d8"
      },
      "outputs": [],
      "source": [
        "#  Compiling the Model\n",
        "model.compile(optimizer=tf.keras.optimizers.Adagrad(learning_rate=0.1), loss='mse')"
      ]
    },
    {
      "cell_type": "code",
      "execution_count": null,
      "id": "c51668c8",
      "metadata": {
        "id": "c51668c8",
        "outputId": "1fae5db2-d242-4848-81e1-fa171916f81a"
      },
      "outputs": [
        {
          "name": "stdout",
          "output_type": "stream",
          "text": [
            "Epoch 1/10\n",
            "\u001b[1m778/778\u001b[0m \u001b[32m━━━━━━━━━━━━━━━━━━━━\u001b[0m\u001b[37m\u001b[0m \u001b[1m32s\u001b[0m 39ms/step - loss: 61.9486 - val_loss: 61.7281\n",
            "Epoch 2/10\n",
            "\u001b[1m778/778\u001b[0m \u001b[32m━━━━━━━━━━━━━━━━━━━━\u001b[0m\u001b[37m\u001b[0m \u001b[1m30s\u001b[0m 38ms/step - loss: 61.9094 - val_loss: 61.7274\n",
            "Epoch 3/10\n",
            "\u001b[1m778/778\u001b[0m \u001b[32m━━━━━━━━━━━━━━━━━━━━\u001b[0m\u001b[37m\u001b[0m \u001b[1m30s\u001b[0m 38ms/step - loss: 61.8708 - val_loss: 61.7238\n",
            "Epoch 4/10\n",
            "\u001b[1m778/778\u001b[0m \u001b[32m━━━━━━━━━━━━━━━━━━━━\u001b[0m\u001b[37m\u001b[0m \u001b[1m26s\u001b[0m 34ms/step - loss: 61.7194 - val_loss: 61.7025\n",
            "Epoch 5/10\n",
            "\u001b[1m778/778\u001b[0m \u001b[32m━━━━━━━━━━━━━━━━━━━━\u001b[0m\u001b[37m\u001b[0m \u001b[1m25s\u001b[0m 32ms/step - loss: 61.0152 - val_loss: 61.5918\n",
            "Epoch 6/10\n",
            "\u001b[1m778/778\u001b[0m \u001b[32m━━━━━━━━━━━━━━━━━━━━\u001b[0m\u001b[37m\u001b[0m \u001b[1m24s\u001b[0m 30ms/step - loss: 58.9434 - val_loss: 61.3141\n",
            "Epoch 7/10\n",
            "\u001b[1m778/778\u001b[0m \u001b[32m━━━━━━━━━━━━━━━━━━━━\u001b[0m\u001b[37m\u001b[0m \u001b[1m24s\u001b[0m 30ms/step - loss: 57.5178 - val_loss: 60.9149\n",
            "Epoch 8/10\n",
            "\u001b[1m778/778\u001b[0m \u001b[32m━━━━━━━━━━━━━━━━━━━━\u001b[0m\u001b[37m\u001b[0m \u001b[1m24s\u001b[0m 31ms/step - loss: 56.5783 - val_loss: 60.2861\n",
            "Epoch 9/10\n",
            "\u001b[1m778/778\u001b[0m \u001b[32m━━━━━━━━━━━━━━━━━━━━\u001b[0m\u001b[37m\u001b[0m \u001b[1m24s\u001b[0m 31ms/step - loss: 55.1796 - val_loss: 59.3609\n",
            "Epoch 10/10\n",
            "\u001b[1m778/778\u001b[0m \u001b[32m━━━━━━━━━━━━━━━━━━━━\u001b[0m\u001b[37m\u001b[0m \u001b[1m25s\u001b[0m 32ms/step - loss: 53.2169 - val_loss: 58.1114\n"
          ]
        }
      ],
      "source": [
        "# Train the Model\n",
        "history = model.fit(train_data, validation_data=test_data, epochs=10)"
      ]
    },
    {
      "cell_type": "code",
      "execution_count": null,
      "id": "f709abc2",
      "metadata": {
        "id": "f709abc2",
        "outputId": "18326f99-4617-41ce-f0e3-fae27ff52209"
      },
      "outputs": [
        {
          "data": {
            "text/plain": [
              "20527"
            ]
          },
          "execution_count": 87,
          "metadata": {},
          "output_type": "execute_result"
        }
      ],
      "source": [
        "df[\"ISBN\"].str.contains(r'[a-zA-Z]').sum()"
      ]
    },
    {
      "cell_type": "code",
      "execution_count": null,
      "id": "d560751a",
      "metadata": {
        "id": "d560751a"
      },
      "outputs": [],
      "source": [
        "# df.drop(df.loc[df[\"ISBN\"].str.contains(r'[a-zA-Z]')].index, inplace=True)"
      ]
    },
    {
      "cell_type": "code",
      "execution_count": null,
      "id": "5c939cfd",
      "metadata": {
        "id": "5c939cfd"
      },
      "outputs": [],
      "source": [
        "df.to_csv('df_for_tf.csv', index=False)\n",
        "books.to_csv('df_books.csv', index=False)"
      ]
    },
    {
      "cell_type": "code",
      "execution_count": null,
      "id": "778fd4c1",
      "metadata": {
        "id": "778fd4c1",
        "outputId": "58ebaaa7-b5d8-41d7-f7a1-0d9b516fd76d"
      },
      "outputs": [
        {
          "name": "stdout",
          "output_type": "stream",
          "text": [
            "\u001b[1m3509/3509\u001b[0m \u001b[32m━━━━━━━━━━━━━━━━━━━━\u001b[0m\u001b[37m\u001b[0m \u001b[1m22s\u001b[0m 6ms/step\n",
            "Top 5 recommended items for user:\n",
            "Item 0452282152: 0.642453134059906\n",
            "Item 0446310786: 0.6357842087745667\n",
            "Item 0786868716: 0.624050498008728\n",
            "Item 0446672211: 0.6045031547546387\n",
            "Item 0316601950: 0.5978293418884277\n"
          ]
        }
      ],
      "source": [
        "#  Make Predictions\n",
        "# For a specific user, get recommendations\n",
        "user_index = user_to_index[16877]  # For example, user_id = 1\n",
        "item_indices = np.array(list(item_to_index.values()))\n",
        "\n",
        "user_item_pairs = np.array([[user_index, item] for item in item_indices])\n",
        "predicted_ratings = model.predict([user_item_pairs[:, 0], user_item_pairs[:, 1]])\n",
        "\n",
        "recommended_items = {item_ids[item]: predicted_ratings[idx][0] for idx, item in enumerate(item_indices)}\n",
        "recommended_items = sorted(recommended_items.items(), key=lambda x: x[1], reverse=True)\n",
        "\n",
        "top_5_recommended_items = recommended_items[:5]\n",
        "\n",
        "print(\"Top 5 recommended items for user:\")\n",
        "for item, rating in top_5_recommended_items:\n",
        "    print(f\"Item {item}: {rating}\")"
      ]
    },
    {
      "cell_type": "code",
      "execution_count": null,
      "id": "6ac807a3",
      "metadata": {
        "id": "6ac807a3",
        "outputId": "9ccaa050-92cc-4d17-bc61-f32b4d627e06"
      },
      "outputs": [
        {
          "data": {
            "text/plain": [
              "'0446310786'"
            ]
          },
          "execution_count": 91,
          "metadata": {},
          "output_type": "execute_result"
        }
      ],
      "source": [
        "top_5_recommended_items[1][0]"
      ]
    },
    {
      "cell_type": "code",
      "execution_count": null,
      "id": "f1f92826",
      "metadata": {
        "id": "f1f92826",
        "outputId": "739502bb-e03f-49f8-fb99-cead945a3094"
      },
      "outputs": [
        {
          "name": "stdout",
          "output_type": "stream",
          "text": [
            "0452282152\n",
            "0446310786\n",
            "0786868716\n",
            "0446672211\n",
            "0316601950\n"
          ]
        }
      ],
      "source": [
        "for item, rating in top_5_recommended_items:\n",
        "    print(item)"
      ]
    },
    {
      "cell_type": "code",
      "execution_count": null,
      "id": "0a3534c2",
      "metadata": {
        "id": "0a3534c2",
        "outputId": "56e0f1be-944c-4ade-d86b-5834bdfcf40d"
      },
      "outputs": [
        {
          "data": {
            "text/plain": [
              "231    Girl with a Pearl Earring\n",
              "Name: Book-Title, dtype: object"
            ]
          },
          "execution_count": 93,
          "metadata": {},
          "output_type": "execute_result"
        }
      ],
      "source": [
        "books[\"Book-Title\"][books[\"ISBN\"]==top_5_recommended_items[0][0]]"
      ]
    },
    {
      "cell_type": "code",
      "execution_count": null,
      "id": "4046512e",
      "metadata": {
        "id": "4046512e",
        "outputId": "8e72bf5f-5e54-4297-d1fb-65c8106af692"
      },
      "outputs": [
        {
          "data": {
            "text/plain": [
              "231    Girl with a Pearl Earring\n",
              "Name: Book-Title, dtype: object"
            ]
          },
          "execution_count": 94,
          "metadata": {},
          "output_type": "execute_result"
        }
      ],
      "source": [
        "Recommended_books = books[\"Book-Title\"][books[\"ISBN\"]==top_5_recommended_items[0][0]]\n",
        "Recommended_books"
      ]
    },
    {
      "cell_type": "code",
      "execution_count": null,
      "id": "a8a18a66",
      "metadata": {
        "id": "a8a18a66"
      },
      "outputs": [],
      "source": [
        "def recomm_books (recommended_items):\n",
        "    for item in recommended_items:\n",
        "    #    print(db_books[\"Book-Title\"][db_books[\"ISBN\"]==item[0]])\n",
        "        print(books.loc[books['ISBN'] == item[0], 'Book-Title'].values[0])"
      ]
    },
    {
      "cell_type": "code",
      "execution_count": null,
      "id": "1a1b93fd",
      "metadata": {
        "id": "1a1b93fd"
      },
      "outputs": [],
      "source": [
        "# recomm_books(top_5_recommended_items)"
      ]
    },
    {
      "cell_type": "code",
      "execution_count": null,
      "id": "7f9d2dec",
      "metadata": {
        "id": "7f9d2dec"
      },
      "outputs": [],
      "source": [
        "def book_recommendation(userid):\n",
        "    user_index = user_to_index[userid]  # For a specific user id.\n",
        "    item_indices = np.array(list(item_to_index.values()))\n",
        "\n",
        "    user_item_pairs = np.array([[user_index, item] for item in item_indices])\n",
        "    predicted_ratings = model.predict([user_item_pairs[:, 0], user_item_pairs[:, 1]])\n",
        "\n",
        "    recommended_items = {item_ids[item]: predicted_ratings[idx][0] for idx, item in enumerate(item_indices)}\n",
        "    recommended_items = sorted(recommended_items.items(), key=lambda x: x[1], reverse=True)\n",
        "\n",
        "    top_5_recommended_items = recommended_items[:5]\n",
        "\n",
        "    print(\"Top 5 recommended books for this user:\")\n",
        "    for item in top_5_recommended_items:\n",
        "        print(books.loc[books['ISBN'] == item[0], 'Book-Title'].values[0])"
      ]
    },
    {
      "cell_type": "code",
      "execution_count": null,
      "id": "1c743b56",
      "metadata": {
        "id": "1c743b56",
        "outputId": "2ce338a3-fe35-45bb-e296-8fb939fc23d8"
      },
      "outputs": [
        {
          "data": {
            "text/plain": [
              "array([[    12,      0],\n",
              "       [    12,      1],\n",
              "       [    12,      2],\n",
              "       ...,\n",
              "       [    12, 112273],\n",
              "       [    12, 112274],\n",
              "       [    12, 112275]])"
            ]
          },
          "execution_count": 98,
          "metadata": {},
          "output_type": "execute_result"
        }
      ],
      "source": [
        "np.array([[12, item] for item in np.array(list(item_to_index.values()))])"
      ]
    },
    {
      "cell_type": "code",
      "execution_count": null,
      "id": "bcc67ff0",
      "metadata": {
        "id": "bcc67ff0",
        "outputId": "e552a624-816f-49f0-d919-22c6250d29b6"
      },
      "outputs": [
        {
          "name": "stdout",
          "output_type": "stream",
          "text": [
            "\u001b[1m3509/3509\u001b[0m \u001b[32m━━━━━━━━━━━━━━━━━━━━\u001b[0m\u001b[37m\u001b[0m \u001b[1m20s\u001b[0m 6ms/step\n",
            "Top 5 recommended books for this user:\n",
            "Where the Heart Is (Oprah's Book Club (Paperback))\n",
            "Harry Potter and the Order of the Phoenix (Book 5)\n",
            "The Pilot's Wife : A Novel\n",
            "Harry Potter and the Prisoner of Azkaban (Book 3)\n",
            "The Secret Life of Bees\n"
          ]
        }
      ],
      "source": [
        "book_recommendation(31315)"
      ]
    },
    {
      "cell_type": "code",
      "execution_count": null,
      "id": "5029d3d7",
      "metadata": {
        "id": "5029d3d7",
        "outputId": "2c5c1fcb-5737-4068-a31e-2e1285559cd4"
      },
      "outputs": [
        {
          "ename": "AttributeError",
          "evalue": "'NoneType' object has no attribute 'save'",
          "output_type": "error",
          "traceback": [
            "\u001b[1;31m---------------------------------------------------------------------------\u001b[0m",
            "\u001b[1;31mAttributeError\u001b[0m                            Traceback (most recent call last)",
            "Cell \u001b[1;32mIn[120], line 4\u001b[0m\n\u001b[0;32m      1\u001b[0m \u001b[38;5;66;03m#model.save('book_recommendation_model', save_format=\"tf\")\u001b[39;00m\n\u001b[0;32m      2\u001b[0m \u001b[38;5;66;03m#model.save('book_recommendation_model_1.h5')\u001b[39;00m\n\u001b[0;32m      3\u001b[0m \u001b[38;5;66;03m# Save the model in Keras format\u001b[39;00m\n\u001b[1;32m----> 4\u001b[0m model\u001b[38;5;241m.\u001b[39msave(\u001b[38;5;124m'\u001b[39m\u001b[38;5;124mbook_recommendation_model_1.keras\u001b[39m\u001b[38;5;124m'\u001b[39m)\n",
            "\u001b[1;31mAttributeError\u001b[0m: 'NoneType' object has no attribute 'save'"
          ]
        }
      ],
      "source": [
        "#model.save('book_recommendation_model', save_format=\"tf\")\n",
        "#model.save('book_recommendation_model_1.h5')\n",
        "# Save the model in Keras format\n",
        "model.save('book_recommendation_model_1.keras')\n"
      ]
    },
    {
      "cell_type": "markdown",
      "id": "4417fd30",
      "metadata": {
        "id": "4417fd30"
      },
      "source": [
        "# Deploying the Model"
      ]
    },
    {
      "cell_type": "code",
      "execution_count": null,
      "id": "1222d381",
      "metadata": {
        "id": "1222d381"
      },
      "outputs": [],
      "source": [
        "import streamlit as st\n",
        "import tensorflow as tf\n",
        "import numpy as np\n",
        "import pandas as pd\n",
        "import keras\n",
        "import pickle"
      ]
    },
    {
      "cell_type": "code",
      "execution_count": null,
      "id": "951524d9-5e4b-4a38-ba86-c12228b1c8b3",
      "metadata": {
        "id": "951524d9-5e4b-4a38-ba86-c12228b1c8b3"
      },
      "outputs": [],
      "source": []
    }
  ],
  "metadata": {
    "kernelspec": {
      "display_name": "Python 3 (ipykernel)",
      "language": "python",
      "name": "python3"
    },
    "language_info": {
      "codemirror_mode": {
        "name": "ipython",
        "version": 3
      },
      "file_extension": ".py",
      "mimetype": "text/x-python",
      "name": "python",
      "nbconvert_exporter": "python",
      "pygments_lexer": "ipython3",
      "version": "3.11.7"
    },
    "colab": {
      "provenance": [],
      "include_colab_link": true
    }
  },
  "nbformat": 4,
  "nbformat_minor": 5
}